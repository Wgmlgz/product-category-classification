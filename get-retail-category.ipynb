{
 "cells": [
  {
   "cell_type": "markdown",
   "metadata": {},
   "source": [
    "```\n",
    "сначала по этому методу надо добавлять товар, который парсим, в аккаунт\n",
    "https://docs.ozon.ru/api/seller/#operation/ProductAPI_ImportProductsBySKU\n",
    "потом сможем вытащить категорию (из API) коммерческую для этого товара\n",
    "https://docs.ozon.ru/api/seller/#operation/ProductAPI_GetProductAttributesV3\n",
    "вот этим методом можно узнать ID категории из API\n",
    "\n",
    "\n",
    "Client-Id: 73615d31-68e7-4c00-a008-e53b9d08d600\n",
    "Api-Key: 740209\n",
    "```"
   ]
  },
  {
   "cell_type": "code",
   "execution_count": 1,
   "metadata": {},
   "outputs": [],
   "source": [
    "import requests\n",
    "\n",
    "items = [\n",
    "    {\n",
    "        \"sku\": 298789742,\n",
    "        \"name\": \"string\",\n",
    "        \"offer_id\": \"91132\",\n",
    "        \n",
    "        \"currency_code\": \"RUB\",\n",
    "        \"old_price\": \"100\",\n",
    "        \"price\": \"100\",\n",
    "        \"premium_price\": \"100\",\n",
    "        \"vat\": \"0.1\"\n",
    "    }\n",
    "]\n",
    "# create product\n",
    "x = requests.post('https://api-seller.ozon.ru/v1/product/import-by-sku', data={\n",
    "    'items': {\n",
    "        items\n",
    "    }\n",
    "},\n",
    "    headers={\n",
    "    'Client-Id': '73615d31-68e7-4c00-a008-e53b9d08d600',\n",
    "    'Api-Key': '740209'\n",
    "})\n",
    "print(x.status_code)\n"
   ]
  }
 ],
 "metadata": {
  "kernelspec": {
   "display_name": "Python 3.10.4 64-bit",
   "language": "python",
   "name": "python3"
  },
  "language_info": {
   "codemirror_mode": {
    "name": "ipython",
    "version": 3
   },
   "file_extension": ".py",
   "mimetype": "text/x-python",
   "name": "python",
   "nbconvert_exporter": "python",
   "pygments_lexer": "ipython3",
   "version": "3.10.4"
  },
  "orig_nbformat": 4,
  "vscode": {
   "interpreter": {
    "hash": "369f2c481f4da34e4445cda3fffd2e751bd1c4d706f27375911949ba6bb62e1c"
   }
  }
 },
 "nbformat": 4,
 "nbformat_minor": 2
}
