{
 "cells": [
  {
   "cell_type": "code",
   "execution_count": 5,
   "metadata": {},
   "outputs": [],
   "source": [
    "import requests\n",
    "import json\n",
    "import pandas as pd\n",
    "import numpy as np\n",
    "\n",
    "headers = {\n",
    "  \"Client-Id\": '740209',\n",
    "  \"Api-Key\": '73615d31-68e7-4c00-a008-e53b9d08d600'\n",
    "}"
   ]
  },
  {
   "cell_type": "code",
   "execution_count": 7,
   "metadata": {},
   "outputs": [
    {
     "name": "stdout",
     "output_type": "stream",
     "text": [
      "20749\n",
      "5907\n",
      "<Response [403]>\n",
      "{'code': 7, 'message': 'Invalid Api-Key, please contact support', 'details': []}\n"
     ]
    },
    {
     "name": "stderr",
     "output_type": "stream",
     "text": [
      "c:\\Python310\\lib\\site-packages\\numpy\\lib\\shape_base.py:790: FutureWarning: The behavior of `series[i:j]` with an integer-dtype index is deprecated. In a future version, this will be treated as *label-based* indexing, consistent with e.g. `series[i]` lookups. To retain the old behavior, use `series.iloc[i:j]`. To get the future behavior, use `series.loc[i:j]`.\n",
      "  sub_arys.append(_nx.swapaxes(sary[st:end], axis, 0))\n"
     ]
    },
    {
     "name": "stdout",
     "output_type": "stream",
     "text": [
      "<Response [403]>\n",
      "{'code': 7, 'message': 'Invalid Api-Key, please contact support', 'details': []}\n",
      "<Response [403]>\n",
      "{'code': 7, 'message': 'Invalid Api-Key, please contact support', 'details': []}\n",
      "<Response [403]>\n",
      "{'code': 7, 'message': 'Invalid Api-Key, please contact support', 'details': []}\n",
      "<Response [403]>\n",
      "{'code': 7, 'message': 'Invalid Api-Key, please contact support', 'details': []}\n",
      "<Response [403]>\n",
      "{'code': 7, 'message': 'Invalid Api-Key, please contact support', 'details': []}\n",
      "<Response [403]>\n",
      "{'code': 7, 'message': 'Invalid Api-Key, please contact support', 'details': []}\n",
      "<Response [403]>\n",
      "{'code': 7, 'message': 'Invalid Api-Key, please contact support', 'details': []}\n",
      "<Response [403]>\n",
      "{'code': 7, 'message': 'Invalid Api-Key, please contact support', 'details': []}\n",
      "<Response [403]>\n",
      "{'code': 7, 'message': 'Invalid Api-Key, please contact support', 'details': []}\n",
      "<Response [403]>\n",
      "{'code': 7, 'message': 'Invalid Api-Key, please contact support', 'details': []}\n",
      "<Response [403]>\n",
      "{'code': 7, 'message': 'Invalid Api-Key, please contact support', 'details': []}\n"
     ]
    }
   ],
   "source": [
    "\n",
    "\n",
    "\n",
    "def send_product(sku_arr: list[list[int]]):\n",
    "    response = requests.post('https://api-seller.ozon.ru/v1/product/import-by-sku', json={\n",
    "        \"items\": [\n",
    "            {\n",
    "                \"sku\": sku,\n",
    "                \"name\": str(sku),\n",
    "                \"offer_id\": str(sku),\n",
    "                \"currency_code\": \"RUB\",\n",
    "                \"old_price\": \"2590\",\n",
    "                \"price\": \"2300\",\n",
    "                \"premium_price\": \"2200\",\n",
    "                \"vat\": \"0.1\"\n",
    "            }\n",
    "            for sku in sku_arr\n",
    "        ]\n",
    "    }, headers=headers)\n",
    "    print(response)\n",
    "    result = response.json()\n",
    "    print(result)\n",
    "\n",
    "\n",
    "df = pd.read_csv('dataset.csv')\n",
    "df.head()\n",
    "print(len(df))\n",
    "df = df.drop_duplicates('categoryId')\n",
    "print(len(df))\n",
    "df = df['sku']\n",
    "for sku_arr in np.array_split(df, len(df) // 500 + 1):\n",
    "    send_product(sku_arr)\n"
   ]
  },
  {
   "cell_type": "code",
   "execution_count": 8,
   "metadata": {},
   "outputs": [
    {
     "name": "stdout",
     "output_type": "stream",
     "text": [
      "<Response [403]>\n",
      "26060\n",
      "26060\n",
      "<Response [403]>\n"
     ]
    },
    {
     "ename": "KeyError",
     "evalue": "'result'",
     "output_type": "error",
     "traceback": [
      "\u001b[1;31m---------------------------------------------------------------------------\u001b[0m",
      "\u001b[1;31mKeyError\u001b[0m                                  Traceback (most recent call last)",
      "Cell \u001b[1;32mIn [8], line 117\u001b[0m\n\u001b[0;32m    111\u001b[0m     json\u001b[39m.\u001b[39mdump(result,\n\u001b[0;32m    112\u001b[0m               \u001b[39mopen\u001b[39m(\u001b[39m'\u001b[39m\u001b[39m./result.json\u001b[39m\u001b[39m'\u001b[39m, \u001b[39m'\u001b[39m\u001b[39mw+\u001b[39m\u001b[39m'\u001b[39m, encoding\u001b[39m=\u001b[39m\u001b[39m'\u001b[39m\u001b[39mutf-8\u001b[39m\u001b[39m'\u001b[39m),\n\u001b[0;32m    113\u001b[0m               indent\u001b[39m=\u001b[39m\u001b[39m2\u001b[39m, ensure_ascii\u001b[39m=\u001b[39m\u001b[39mFalse\u001b[39;00m)\n\u001b[0;32m    114\u001b[0m     \u001b[39mreturn\u001b[39;00m df\n\u001b[1;32m--> 117\u001b[0m df \u001b[39m=\u001b[39m fix_categories(\n\u001b[0;32m    118\u001b[0m     \u001b[39m'\u001b[39;49m\u001b[39m./parse/products_data/found.json\u001b[39;49m\u001b[39m'\u001b[39;49m,\n\u001b[0;32m    119\u001b[0m     \u001b[39m'\u001b[39;49m\u001b[39m./dataset.csv\u001b[39;49m\u001b[39m'\u001b[39;49m)\n\u001b[0;32m    120\u001b[0m \u001b[39mprint\u001b[39m(\u001b[39mlen\u001b[39m(df))\n\u001b[0;32m    121\u001b[0m df\u001b[39m.\u001b[39mhead()\n",
      "Cell \u001b[1;32mIn [8], line 71\u001b[0m, in \u001b[0;36mfix_categories\u001b[1;34m(dataset, out)\u001b[0m\n\u001b[0;32m     68\u001b[0m tree \u001b[39m=\u001b[39m requests\u001b[39m.\u001b[39mpost(\n\u001b[0;32m     69\u001b[0m     \u001b[39m'\u001b[39m\u001b[39mhttps://api-seller.ozon.ru/v2/category/tree\u001b[39m\u001b[39m'\u001b[39m, headers\u001b[39m=\u001b[39mheaders)\n\u001b[0;32m     70\u001b[0m \u001b[39mprint\u001b[39m(tree)\n\u001b[1;32m---> 71\u001b[0m tree \u001b[39m=\u001b[39m tree\u001b[39m.\u001b[39;49mjson()[\u001b[39m'\u001b[39;49m\u001b[39mresult\u001b[39;49m\u001b[39m'\u001b[39;49m]\n\u001b[0;32m     73\u001b[0m tree_map \u001b[39m=\u001b[39m {}\n\u001b[0;32m     74\u001b[0m stack \u001b[39m=\u001b[39m []\n",
      "\u001b[1;31mKeyError\u001b[0m: 'result'"
     ]
    }
   ],
   "source": [
    "# Read raw json and puts in df\n",
    "def prepare_json(path: str):\n",
    "    obj = json.loads(open(path, 'r', encoding='utf-8').read())\n",
    "    data = []\n",
    "    for key in obj:\n",
    "        row = obj[key]\n",
    "        if row['title'] is not None and row['description'] is not None and row['category'] is not None and row['hierarchy'] is not None:\n",
    "            if row['title'].strip() != '' and row['description'].strip() != '' and row['category'].strip() != '' and row['hierarchy'].strip() != '':\n",
    "                tree = row['hierarchy'].split('/')\n",
    "                row['category'] = str([tree[min(5, len(tree) - 1)]])\n",
    "                # row['category'] = str([row['category']])\n",
    "                row['category'] = str(tree[:3])\n",
    "\n",
    "                data.append(obj[key])\n",
    "\n",
    "    df = pd.json_normalize(data)\n",
    "    df = df.rename(columns={\"title\": \"titles\",\n",
    "                   \"category\": \"terms\", 'description': 'summaries'})\n",
    "    df = df[[\n",
    "        'titles', 'summaries', 'terms', 'sku', 'categoryId', 'url'\n",
    "    ]]\n",
    "    return df\n",
    "\n",
    "# Fixes json to final dataset\n",
    "\n",
    "\n",
    "def fix_categories(dataset: str, out: str):\n",
    "    result = {}\n",
    "    body = {\n",
    "            \"filter\": {\n",
    "                \"visibility\": \"ALL\"\n",
    "            },\n",
    "            \"limit\": 1000,\n",
    "            \"sort_dir\": \"ASC\"\n",
    "        }\n",
    "    while True:\n",
    "        \n",
    "        response = requests.post(\n",
    "            'https://api-seller.ozon.ru/v3/products/info/attributes',\n",
    "            json=body,\n",
    "            headers=headers)\n",
    "        print(response)\n",
    "        if response.status_code != 200:\n",
    "            break\n",
    "        response = response.json()\n",
    "        last = response['last_id']\n",
    "        print(last)\n",
    "        body['last_id'] = last\n",
    "        # result.extend([\n",
    "        #     {\n",
    "        #         'trueCategoryId': str(old_dict['category_id']),\n",
    "        #         'sku': int(old_dict['name'])\n",
    "        #     }\n",
    "        for old_dict in response['result']:\n",
    "            if old_dict['name'].isdecimal():\n",
    "                result[str(old_dict['name'])] = str(old_dict['category_id'])\n",
    "        # ])\n",
    "\n",
    "        print(len(result))\n",
    "        \n",
    "    df = prepare_json(dataset)\n",
    "    print(len(df))\n",
    "    # df = df.drop_duplicates('categoryId')\n",
    "    df['trueCategoryId'] = [result.get(str(i), None) for i in df['sku']]\n",
    "    # df = df.join(pd.json_normalize(result).set_index('sku'), on='sku')\n",
    "    print(len(df))\n",
    "    # inject categories tree\n",
    "    tree = requests.post(\n",
    "        'https://api-seller.ozon.ru/v2/category/tree', headers=headers)\n",
    "    print(tree)\n",
    "    tree = tree.json()['result']\n",
    "\n",
    "    tree_map = {}\n",
    "    stack = []\n",
    "    def dfs(dict,\n",
    "            stack: list[any],\n",
    "            start=False):\n",
    "        children = dict\n",
    "        if not start:\n",
    "            children = dict['children']\n",
    "            \n",
    "            # full\n",
    "            # stack.append({\n",
    "            #     'category_id': dict['category_id'],\n",
    "            #     'title': dict['title']\n",
    "            # })\n",
    "            # titles only\n",
    "            stack.append(\n",
    "                dict['title']\n",
    "            )\n",
    "            \n",
    "            \n",
    "        if len(children) == 0:\n",
    "            tree_map[str(dict['category_id'])] = json.dumps(stack.copy(), ensure_ascii=False)\n",
    "        else:\n",
    "            for item in children:\n",
    "                dfs(item, stack)\n",
    "        if not start: stack.pop()\n",
    "    dfs(tree, stack, True)\n",
    "    \n",
    "    df['trueHierarchy'] = [tree_map.get(i, None) for i in df['trueCategoryId']]\n",
    "        \n",
    "    \n",
    "    # df = df[df['trueHierarchy'].notnull()]\n",
    "    json.dump(tree, open('./parse/categories_tree.json', 'w+', encoding='utf-8'),\n",
    "              indent=2, ensure_ascii=False)\n",
    "    df.to_csv(out)\n",
    "    json.dump(tree_map,\n",
    "              open('./sus.json', 'w+', encoding='utf-8'),\n",
    "              indent=2, ensure_ascii=False)\n",
    "    json.dump(result,\n",
    "              open('./result.json', 'w+', encoding='utf-8'),\n",
    "              indent=2, ensure_ascii=False)\n",
    "    return df\n",
    "\n",
    "\n",
    "df = fix_categories(\n",
    "    './parse/products_data/found.json',\n",
    "    './dataset.csv')\n",
    "print(len(df))\n",
    "df.head()\n"
   ]
  },
  {
   "cell_type": "code",
   "execution_count": 11,
   "metadata": {},
   "outputs": [
    {
     "name": "stdout",
     "output_type": "stream",
     "text": [
      "20749\n",
      "741\n"
     ]
    }
   ],
   "source": [
    "df = pd.read_csv('dataset.csv')\n",
    "df.head()\n",
    "print(len(df))\n",
    "df = df.drop_duplicates('categoryId')\n",
    "df = df.drop_duplicates('trueCategoryId')\n",
    "print(len(df))\n",
    "# df = df['sku']\n",
    "# for sku_arr in np.array_split(df, len(df) // 500 + 1):\n",
    "#     send_product(sku_arr)"
   ]
  }
 ],
 "metadata": {
  "kernelspec": {
   "display_name": "Python 3.10.7 64-bit",
   "language": "python",
   "name": "python3"
  },
  "language_info": {
   "codemirror_mode": {
    "name": "ipython",
    "version": 3
   },
   "file_extension": ".py",
   "mimetype": "text/x-python",
   "name": "python",
   "nbconvert_exporter": "python",
   "pygments_lexer": "ipython3",
   "version": "3.10.7"
  },
  "orig_nbformat": 4,
  "vscode": {
   "interpreter": {
    "hash": "369f2c481f4da34e4445cda3fffd2e751bd1c4d706f27375911949ba6bb62e1c"
   }
  }
 },
 "nbformat": 4,
 "nbformat_minor": 2
}
