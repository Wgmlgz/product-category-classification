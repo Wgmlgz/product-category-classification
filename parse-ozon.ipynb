{
 "cells": [
  {
   "cell_type": "code",
   "execution_count": 22,
   "metadata": {},
   "outputs": [
    {
     "name": "stdout",
     "output_type": "stream",
     "text": [
      "10406\n"
     ]
    }
   ],
   "source": [
    "import requests\n",
    "\n",
    "res = requests.post('https://api-seller.ozon.ru/v2/category/tree', headers={\n",
    "    'Client-Id': '589954', 'Api-Key': '2e0076d1-1ecd-4105-b1df-d87e1a244648'\n",
    "})\n",
    "\n",
    "arr = res.json()['result']\n",
    "categories = []\n",
    "\n",
    "categories_by_id = {}\n",
    "\n",
    "def parse(arr):\n",
    "    for obj in arr:\n",
    "        tmp = {}\n",
    "        tmp['category_id'] = obj['category_id']\n",
    "        tmp['title'] = obj['title']\n",
    "        if obj['children'] and len(obj['children']) != 0:\n",
    "            categories_by_id[tmp['category_id']] = obj['title']\n",
    "            categories.append(tmp)\n",
    "            parse(obj['children'])\n",
    "        else:\n",
    "            categories_by_id[tmp['category_id']] = obj['title']\n",
    "            categories.append(tmp)\n",
    "\n",
    "\n",
    "parse(arr)\n",
    "\n",
    "print(len(categories))\n",
    "# print(categories_by_id)\n"
   ]
  },
  {
   "cell_type": "code",
   "execution_count": 1,
   "metadata": {},
   "outputs": [],
   "source": [
    "%pip install beautifulsoup4\n",
    "%pip install selenium\n",
    "%pip install pyppeteer"
   ]
  },
  {
   "cell_type": "code",
   "execution_count": 38,
   "metadata": {},
   "outputs": [],
   "source": [
    "from bs4 import BeautifulSoup as bs\n",
    "import requests\n",
    "import re\n",
    "import asyncio\n",
    "from bs4 import BeautifulSoup\n",
    "from pyppeteer import launch\n",
    "import os\n",
    "from collections import deque\n",
    "\n",
    "\n",
    "browser = None\n",
    "async def get_page():\n",
    "    browser = await launch()\n",
    "    page = await browser.newPage()\n",
    "    await page.setUserAgent('Mozilla/5.0 (Windows NT 5.1; rv:5.0) Gecko/20100101 Firefox/5.0')\n",
    "    return page\n",
    "\n",
    "page = await get_page()\n",
    "base = 'https://www.ozon.ru'\n",
    "categories_url = 'https://www.ozon.ru/category/'\n",
    "used_links = {categories_url}\n",
    "found_categories = set()\n"
   ]
  },
  {
   "cell_type": "code",
   "execution_count": 39,
   "metadata": {},
   "outputs": [],
   "source": [
    "await page.goto(categories_url, {'waitUntil': 'networkidle0'})\n",
    "page_content = await page.content()\n",
    "\n",
    "def grab_categories(page_content):\n",
    "    soup = BeautifulSoup(page_content)\n",
    "    links = set()\n",
    "    for a in soup.find_all('a', href=True):\n",
    "        if re.fullmatch('\\/category\\/[^\\/]+\\\\d+\\/', a['href']) is not None:\n",
    "            link = base + a['href']\n",
    "            if link in found_categories:\n",
    "                continue\n",
    "\n",
    "            links.add(link)\n",
    "            found_categories.add(link)\n",
    "\n",
    "    return links\n",
    "\n",
    "\n",
    "queue_categories = deque()\n",
    "queue_categories.extend(list(grab_categories(page_content)))\n",
    "found_categories = set()\n",
    "used_categories = set()"
   ]
  },
  {
   "cell_type": "code",
   "execution_count": 43,
   "metadata": {},
   "outputs": [
    {
     "name": "stdout",
     "output_type": "stream",
     "text": [
      "7587\n"
     ]
    }
   ],
   "source": [
    "used_categories = set(map(lambda s: s.strip(), filter(None, open(\n",
    "    './used_categories.txt', 'r').readlines())))\n",
    "found_categories = set(map(lambda s: s.strip(), filter(None, open(\n",
    "    './found_categories.txt', 'r').readlines())))\n",
    "queue_categories.clear()\n",
    "queue_categories.extend(map(lambda s: s.strip(), filter(None, open(\n",
    "    './queue_categories.txt', 'r').readlines())))\n",
    " \n",
    "print(len(queue_categories))"
   ]
  },
  {
   "cell_type": "code",
   "execution_count": 46,
   "metadata": {},
   "outputs": [
    {
     "name": "stdout",
     "output_type": "stream",
     "text": [
      "done\n",
      "done\n",
      "done\n",
      "done\n"
     ]
    }
   ],
   "source": [
    "count = 0\n",
    "\n",
    "while len(queue_categories) != 0:\n",
    "    url = queue_categories.pop()\n",
    "    if url in used_categories:\n",
    "        continue\n",
    "    used_categories.add(url)\n",
    "    try:\n",
    "        await page.goto(url, {'waitUntil': 'networkidle0'})\n",
    "        page_content = await page.content()\n",
    "        links = grab_categories(page_content)\n",
    "        queue_categories.extend(list(links))\n",
    "        print('done')\n",
    "        \n",
    "        count += 1\n",
    "        if count == 3:\n",
    "          open('./used_categories.txt', 'w+').write('\\n'.join(used_categories), )\n",
    "          open('./found_categories.txt', 'w+').write('\\n'.join(found_categories))\n",
    "          open('./queue_categories.txt', 'w+').write('\\n'.join(queue_categories))\n",
    "          print('write')\n",
    "    except:\n",
    "        print('timeout error!')\n",
    "        queue_categories.extend(url)\n",
    "        await browser.close()\n",
    "        page = await get_page()\n",
    "        \n",
    "\n",
    "\n"
   ]
  },
  {
   "cell_type": "code",
   "execution_count": null,
   "metadata": {},
   "outputs": [
    {
     "ename": "AttributeError",
     "evalue": "'NoneType' object has no attribute 'close'",
     "output_type": "error",
     "traceback": [
      "\u001b[1;31m---------------------------------------------------------------------------\u001b[0m",
      "\u001b[1;31mAttributeError\u001b[0m                            Traceback (most recent call last)",
      "Cell \u001b[1;32mIn [45], line 1\u001b[0m\n\u001b[1;32m----> 1\u001b[0m \u001b[39mawait\u001b[39;00m browser\u001b[39m.\u001b[39mclose()\n",
      "\u001b[1;31mAttributeError\u001b[0m: 'NoneType' object has no attribute 'close'"
     ]
    }
   ],
   "source": [
    "await browser.close()"
   ]
  }
 ],
 "metadata": {
  "kernelspec": {
   "display_name": "Python 3.10.7 64-bit",
   "language": "python",
   "name": "python3"
  },
  "language_info": {
   "codemirror_mode": {
    "name": "ipython",
    "version": 3
   },
   "file_extension": ".py",
   "mimetype": "text/x-python",
   "name": "python",
   "nbconvert_exporter": "python",
   "pygments_lexer": "ipython3",
   "version": "3.10.7"
  },
  "orig_nbformat": 4,
  "vscode": {
   "interpreter": {
    "hash": "369f2c481f4da34e4445cda3fffd2e751bd1c4d706f27375911949ba6bb62e1c"
   }
  }
 },
 "nbformat": 4,
 "nbformat_minor": 2
}
