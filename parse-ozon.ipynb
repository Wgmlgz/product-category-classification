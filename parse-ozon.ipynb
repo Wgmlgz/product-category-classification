{
 "cells": [
  {
   "cell_type": "code",
   "execution_count": 10,
   "metadata": {},
   "outputs": [
    {
     "ename": "JSONDecodeError",
     "evalue": "Expecting value: line 1 column 1 (char 0)",
     "output_type": "error",
     "traceback": [
      "\u001b[1;31m---------------------------------------------------------------------------\u001b[0m",
      "\u001b[1;31mJSONDecodeError\u001b[0m                           Traceback (most recent call last)",
      "File \u001b[1;32mc:\\Python310\\lib\\site-packages\\requests\\models.py:971\u001b[0m, in \u001b[0;36mResponse.json\u001b[1;34m(self, **kwargs)\u001b[0m\n\u001b[0;32m    970\u001b[0m \u001b[39mtry\u001b[39;00m:\n\u001b[1;32m--> 971\u001b[0m     \u001b[39mreturn\u001b[39;00m complexjson\u001b[39m.\u001b[39mloads(\u001b[39mself\u001b[39m\u001b[39m.\u001b[39mtext, \u001b[39m*\u001b[39m\u001b[39m*\u001b[39mkwargs)\n\u001b[0;32m    972\u001b[0m \u001b[39mexcept\u001b[39;00m JSONDecodeError \u001b[39mas\u001b[39;00m e:\n\u001b[0;32m    973\u001b[0m     \u001b[39m# Catch JSON-related errors and raise as requests.JSONDecodeError\u001b[39;00m\n\u001b[0;32m    974\u001b[0m     \u001b[39m# This aliases json.JSONDecodeError and simplejson.JSONDecodeError\u001b[39;00m\n",
      "File \u001b[1;32mc:\\Python310\\lib\\json\\__init__.py:346\u001b[0m, in \u001b[0;36mloads\u001b[1;34m(s, cls, object_hook, parse_float, parse_int, parse_constant, object_pairs_hook, **kw)\u001b[0m\n\u001b[0;32m    343\u001b[0m \u001b[39mif\u001b[39;00m (\u001b[39mcls\u001b[39m \u001b[39mis\u001b[39;00m \u001b[39mNone\u001b[39;00m \u001b[39mand\u001b[39;00m object_hook \u001b[39mis\u001b[39;00m \u001b[39mNone\u001b[39;00m \u001b[39mand\u001b[39;00m\n\u001b[0;32m    344\u001b[0m         parse_int \u001b[39mis\u001b[39;00m \u001b[39mNone\u001b[39;00m \u001b[39mand\u001b[39;00m parse_float \u001b[39mis\u001b[39;00m \u001b[39mNone\u001b[39;00m \u001b[39mand\u001b[39;00m\n\u001b[0;32m    345\u001b[0m         parse_constant \u001b[39mis\u001b[39;00m \u001b[39mNone\u001b[39;00m \u001b[39mand\u001b[39;00m object_pairs_hook \u001b[39mis\u001b[39;00m \u001b[39mNone\u001b[39;00m \u001b[39mand\u001b[39;00m \u001b[39mnot\u001b[39;00m kw):\n\u001b[1;32m--> 346\u001b[0m     \u001b[39mreturn\u001b[39;00m _default_decoder\u001b[39m.\u001b[39;49mdecode(s)\n\u001b[0;32m    347\u001b[0m \u001b[39mif\u001b[39;00m \u001b[39mcls\u001b[39m \u001b[39mis\u001b[39;00m \u001b[39mNone\u001b[39;00m:\n",
      "File \u001b[1;32mc:\\Python310\\lib\\json\\decoder.py:337\u001b[0m, in \u001b[0;36mJSONDecoder.decode\u001b[1;34m(self, s, _w)\u001b[0m\n\u001b[0;32m    333\u001b[0m \u001b[39m\"\"\"Return the Python representation of ``s`` (a ``str`` instance\u001b[39;00m\n\u001b[0;32m    334\u001b[0m \u001b[39mcontaining a JSON document).\u001b[39;00m\n\u001b[0;32m    335\u001b[0m \n\u001b[0;32m    336\u001b[0m \u001b[39m\"\"\"\u001b[39;00m\n\u001b[1;32m--> 337\u001b[0m obj, end \u001b[39m=\u001b[39m \u001b[39mself\u001b[39;49m\u001b[39m.\u001b[39;49mraw_decode(s, idx\u001b[39m=\u001b[39;49m_w(s, \u001b[39m0\u001b[39;49m)\u001b[39m.\u001b[39;49mend())\n\u001b[0;32m    338\u001b[0m end \u001b[39m=\u001b[39m _w(s, end)\u001b[39m.\u001b[39mend()\n",
      "File \u001b[1;32mc:\\Python310\\lib\\json\\decoder.py:355\u001b[0m, in \u001b[0;36mJSONDecoder.raw_decode\u001b[1;34m(self, s, idx)\u001b[0m\n\u001b[0;32m    354\u001b[0m \u001b[39mexcept\u001b[39;00m \u001b[39mStopIteration\u001b[39;00m \u001b[39mas\u001b[39;00m err:\n\u001b[1;32m--> 355\u001b[0m     \u001b[39mraise\u001b[39;00m JSONDecodeError(\u001b[39m\"\u001b[39m\u001b[39mExpecting value\u001b[39m\u001b[39m\"\u001b[39m, s, err\u001b[39m.\u001b[39mvalue) \u001b[39mfrom\u001b[39;00m \u001b[39mNone\u001b[39m\n\u001b[0;32m    356\u001b[0m \u001b[39mreturn\u001b[39;00m obj, end\n",
      "\u001b[1;31mJSONDecodeError\u001b[0m: Expecting value: line 1 column 1 (char 0)",
      "\nDuring handling of the above exception, another exception occurred:\n",
      "\u001b[1;31mJSONDecodeError\u001b[0m                           Traceback (most recent call last)",
      "Cell \u001b[1;32mIn [10], line 6\u001b[0m\n\u001b[0;32m      3\u001b[0m res \u001b[39m=\u001b[39m requests\u001b[39m.\u001b[39mget(\u001b[39m'\u001b[39m\u001b[39mhttps://www.ozon.ru/api/composer-api.bx/page/json/v2?url=category/chay-kofe-kakao-9370/\u001b[39m\u001b[39m'\u001b[39m)\n\u001b[0;32m      5\u001b[0m \u001b[39mopen\u001b[39m(\u001b[39m'\u001b[39m\u001b[39mparse/sus.json\u001b[39m\u001b[39m'\u001b[39m, \u001b[39m'\u001b[39m\u001b[39mw+\u001b[39m\u001b[39m'\u001b[39m, encoding\u001b[39m=\u001b[39m\u001b[39m'\u001b[39m\u001b[39mutf-8\u001b[39m\u001b[39m'\u001b[39m)\u001b[39m.\u001b[39mwrite(res\u001b[39m.\u001b[39mtext)\n\u001b[1;32m----> 6\u001b[0m arr \u001b[39m=\u001b[39m res\u001b[39m.\u001b[39;49mjson()[\u001b[39m'\u001b[39m\u001b[39mresult\u001b[39m\u001b[39m'\u001b[39m]\n\u001b[0;32m      7\u001b[0m categories \u001b[39m=\u001b[39m []\n\u001b[0;32m      9\u001b[0m categories_by_id \u001b[39m=\u001b[39m {}\n",
      "File \u001b[1;32mc:\\Python310\\lib\\site-packages\\requests\\models.py:975\u001b[0m, in \u001b[0;36mResponse.json\u001b[1;34m(self, **kwargs)\u001b[0m\n\u001b[0;32m    971\u001b[0m     \u001b[39mreturn\u001b[39;00m complexjson\u001b[39m.\u001b[39mloads(\u001b[39mself\u001b[39m\u001b[39m.\u001b[39mtext, \u001b[39m*\u001b[39m\u001b[39m*\u001b[39mkwargs)\n\u001b[0;32m    972\u001b[0m \u001b[39mexcept\u001b[39;00m JSONDecodeError \u001b[39mas\u001b[39;00m e:\n\u001b[0;32m    973\u001b[0m     \u001b[39m# Catch JSON-related errors and raise as requests.JSONDecodeError\u001b[39;00m\n\u001b[0;32m    974\u001b[0m     \u001b[39m# This aliases json.JSONDecodeError and simplejson.JSONDecodeError\u001b[39;00m\n\u001b[1;32m--> 975\u001b[0m     \u001b[39mraise\u001b[39;00m RequestsJSONDecodeError(e\u001b[39m.\u001b[39mmsg, e\u001b[39m.\u001b[39mdoc, e\u001b[39m.\u001b[39mpos)\n",
      "\u001b[1;31mJSONDecodeError\u001b[0m: Expecting value: line 1 column 1 (char 0)"
     ]
    }
   ],
   "source": [
    "import requests\n",
    "import json\n",
    "res = requests.get('https://www.ozon.ru/api/composer-api.bx/page/json/v2?url=category/chay-kofe-kakao-9370/')\n",
    "\n",
    "open('parse/sus.json', 'w+', encoding='utf-8').write(res.text)\n",
    "arr = res.json()['result']\n",
    "categories = []\n",
    "\n",
    "categories_by_id = {}\n",
    "\n",
    "def parse(arr):\n",
    "    for obj in arr:\n",
    "        tmp = {}\n",
    "        tmp['category_id'] = obj['category_id']\n",
    "        tmp['title'] = obj['title']\n",
    "        if obj['children'] and len(obj['children']) != 0:\n",
    "            categories_by_id[tmp['category_id']] = obj['title']\n",
    "            categories.append(tmp)\n",
    "            parse(obj['children'])\n",
    "        else:\n",
    "            categories_by_id[tmp['category_id']] = obj['title']\n",
    "            categories.append(tmp)\n",
    "\n",
    "\n",
    "parse(arr)\n",
    "\n",
    "print(len(categories))\n",
    "# print(categories_by_id)\n"
   ]
  },
  {
   "cell_type": "code",
   "execution_count": 1,
   "metadata": {},
   "outputs": [],
   "source": [
    "%pip install beautifulsoup4\n",
    "%pip install selenium\n",
    "%pip install pyppeteer"
   ]
  },
  {
   "cell_type": "code",
   "execution_count": 4,
   "metadata": {},
   "outputs": [],
   "source": [
    "from bs4 import BeautifulSoup as bs\n",
    "import requests\n",
    "import re\n",
    "import asyncio\n",
    "from bs4 import BeautifulSoup\n",
    "from pyppeteer import launch\n",
    "import os\n",
    "from collections import deque\n",
    "\n",
    "\n",
    "browser = None\n",
    "async def get_page():\n",
    "    browser = await launch()\n",
    "    page = await browser.newPage()\n",
    "    await page.setUserAgent('Mozilla/5.0 (Windows NT 5.1; rv:5.0) Gecko/20100101 Firefox/5.0')\n",
    "    return page\n",
    "\n",
    "page = await get_page()\n",
    "base = 'https://www.ozon.ru'\n",
    "categories_url = 'https://www.ozon.ru/category/'\n",
    "used_links = {categories_url}\n",
    "found_categories = set()\n"
   ]
  },
  {
   "cell_type": "code",
   "execution_count": 39,
   "metadata": {},
   "outputs": [],
   "source": [
    "await page.goto(categories_url, {'waitUntil': 'networkidle0'})\n",
    "page_content = await page.content()\n",
    "\n",
    "def grab_categories(page_content):\n",
    "    soup = BeautifulSoup(page_content)\n",
    "    links = set()\n",
    "    for a in soup.find_all('a', href=True):\n",
    "        if re.fullmatch('\\/category\\/[^\\/]+\\\\d+\\/', a['href']) is not None:\n",
    "            link = base + a['href']\n",
    "            if link in found_categories:\n",
    "                continue\n",
    "\n",
    "            links.add(link)\n",
    "            found_categories.add(link)\n",
    "\n",
    "    return links\n",
    "\n",
    "\n",
    "queue_categories = deque()\n",
    "queue_categories.extend(list(grab_categories(page_content)))\n",
    "found_categories = set()\n",
    "used_categories = set()"
   ]
  },
  {
   "cell_type": "code",
   "execution_count": 43,
   "metadata": {},
   "outputs": [
    {
     "name": "stdout",
     "output_type": "stream",
     "text": [
      "7587\n"
     ]
    }
   ],
   "source": [
    "used_categories = set(map(lambda s: s.strip(), filter(None, open(\n",
    "    './used_categories.txt', 'r').readlines())))\n",
    "found_categories = set(map(lambda s: s.strip(), filter(None, open(\n",
    "    './found_categories.txt', 'r').readlines())))\n",
    "queue_categories.clear()\n",
    "queue_categories.extend(map(lambda s: s.strip(), filter(None, open(\n",
    "    './queue_categories.txt', 'r').readlines())))\n",
    " \n",
    "print(len(queue_categories))"
   ]
  },
  {
   "cell_type": "code",
   "execution_count": 46,
   "metadata": {},
   "outputs": [
    {
     "name": "stdout",
     "output_type": "stream",
     "text": [
      "done\n",
      "done\n",
      "done\n",
      "done\n"
     ]
    }
   ],
   "source": [
    "count = 0\n",
    "\n",
    "while len(queue_categories) != 0:\n",
    "    url = queue_categories.pop()\n",
    "    if url in used_categories:\n",
    "        continue\n",
    "    used_categories.add(url)\n",
    "    try:\n",
    "        await page.goto(url, {'waitUntil': 'networkidle0'})\n",
    "        page_content = await page.content()\n",
    "        links = grab_categories(page_content)\n",
    "        queue_categories.extend(list(links))\n",
    "        print('done')\n",
    "        \n",
    "        count += 1\n",
    "        if count == 3:\n",
    "          open('./used_categories.txt', 'w+').write('\\n'.join(used_categories), )\n",
    "          open('./found_categories.txt', 'w+').write('\\n'.join(found_categories))\n",
    "          open('./queue_categories.txt', 'w+').write('\\n'.join(queue_categories))\n",
    "          print('write')\n",
    "    except:\n",
    "        print('timeout error!')\n",
    "        queue_categories.extend(url)\n",
    "        await browser.close()\n",
    "        page = await get_page()\n",
    "        \n",
    "\n",
    "\n"
   ]
  },
  {
   "cell_type": "code",
   "execution_count": null,
   "metadata": {},
   "outputs": [
    {
     "ename": "AttributeError",
     "evalue": "'NoneType' object has no attribute 'close'",
     "output_type": "error",
     "traceback": [
      "\u001b[1;31m---------------------------------------------------------------------------\u001b[0m",
      "\u001b[1;31mAttributeError\u001b[0m                            Traceback (most recent call last)",
      "Cell \u001b[1;32mIn [45], line 1\u001b[0m\n\u001b[1;32m----> 1\u001b[0m \u001b[39mawait\u001b[39;00m browser\u001b[39m.\u001b[39mclose()\n",
      "\u001b[1;31mAttributeError\u001b[0m: 'NoneType' object has no attribute 'close'"
     ]
    }
   ],
   "source": [
    "await browser.close()"
   ]
  }
 ],
 "metadata": {
  "kernelspec": {
   "display_name": "Python 3.10.7 64-bit",
   "language": "python",
   "name": "python3"
  },
  "language_info": {
   "codemirror_mode": {
    "name": "ipython",
    "version": 3
   },
   "file_extension": ".py",
   "mimetype": "text/x-python",
   "name": "python",
   "nbconvert_exporter": "python",
   "pygments_lexer": "ipython3",
   "version": "3.10.7"
  },
  "orig_nbformat": 4,
  "vscode": {
   "interpreter": {
    "hash": "369f2c481f4da34e4445cda3fffd2e751bd1c4d706f27375911949ba6bb62e1c"
   }
  }
 },
 "nbformat": 4,
 "nbformat_minor": 2
}
