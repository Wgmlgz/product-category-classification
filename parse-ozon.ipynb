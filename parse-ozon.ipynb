{
 "cells": [
  {
   "cell_type": "code",
   "execution_count": 4,
   "metadata": {},
   "outputs": [
    {
     "name": "stdout",
     "output_type": "stream",
     "text": [
      "[{'category_id': 99584951, 'title': 'Цифровой контент - Пополнение баланса социальной сети'}, {'category_id': 17038150, 'title': 'ПО - Вспомогательная программа'}, {'category_id': 99583585, 'title': 'Цифровой контент - Отслеживание ребенка'}, {'category_id': 93227883, 'title': 'EP + Blu-ray'}, {'category_id': 17033823, 'title': 'CD + DVD'}, {'category_id': 71774050, 'title': 'Видеоигра'}, {'category_id': 17035755, 'title': 'Дистрибутив - Энциклопедия'}, {'category_id': 17033445, 'title': 'DVD с дополнениями'}, {'category_id': 1000003870, 'title': 'Транспортная карта Стрелка, Тройка'}, {'category_id': 17036871, 'title': '3D Blu-ray'}]\n"
     ]
    }
   ],
   "source": [
    "import requests\n",
    "\n",
    "res = requests.post('https://api-seller.ozon.ru/v2/category/tree', headers={\n",
    "    'Client-Id': '589954', 'Api-Key': '2e0076d1-1ecd-4105-b1df-d87e1a244648'\n",
    "})\n",
    "\n",
    "arr = res.json()['result']\n",
    "categories = []\n",
    "\n",
    "\n",
    "def parse(arr):\n",
    "    for obj in arr:\n",
    "        tmp = {}\n",
    "        tmp['category_id'] = obj['category_id']\n",
    "        tmp['title'] = obj['title']\n",
    "        if obj['children'] and len(obj['children']) != 0:\n",
    "            parse(obj['children'])\n",
    "        else:\n",
    "            categories.append(tmp)\n",
    "\n",
    "\n",
    "parse(arr)\n",
    "\n",
    "print(categories[:10])\n"
   ]
  },
  {
   "cell_type": "code",
   "execution_count": 13,
   "metadata": {},
   "outputs": [
    {
     "name": "stdout",
     "output_type": "stream",
     "text": [
      "Requirement already satisfied: beautifulsoup4 in c:\\python310\\lib\\site-packages (4.11.1)\n",
      "Requirement already satisfied: soupsieve>1.2 in c:\\python310\\lib\\site-packages (from beautifulsoup4) (2.3.2.post1)\n",
      "Note: you may need to restart the kernel to use updated packages.\n"
     ]
    },
    {
     "name": "stderr",
     "output_type": "stream",
     "text": [
      "\n",
      "[notice] A new release of pip available: 22.2.2 -> 22.3.1\n",
      "[notice] To update, run: python.exe -m pip install --upgrade pip\n"
     ]
    },
    {
     "name": "stdout",
     "output_type": "stream",
     "text": [
      "Requirement already satisfied: selenium in c:\\python310\\lib\\site-packages (4.6.0)\n",
      "Requirement already satisfied: trio-websocket~=0.9 in c:\\python310\\lib\\site-packages (from selenium) (0.9.2)\n",
      "Requirement already satisfied: urllib3[socks]~=1.26 in c:\\python310\\lib\\site-packages (from selenium) (1.26.12)\n",
      "Requirement already satisfied: certifi>=2021.10.8 in c:\\python310\\lib\\site-packages (from selenium) (2022.9.14)\n",
      "Requirement already satisfied: trio~=0.17 in c:\\python310\\lib\\site-packages (from selenium) (0.22.0)\n",
      "Requirement already satisfied: async-generator>=1.9 in c:\\python310\\lib\\site-packages (from trio~=0.17->selenium) (1.10)\n",
      "Requirement already satisfied: sniffio in c:\\python310\\lib\\site-packages (from trio~=0.17->selenium) (1.3.0)\n",
      "Requirement already satisfied: sortedcontainers in c:\\python310\\lib\\site-packages (from trio~=0.17->selenium) (2.4.0)\n",
      "Requirement already satisfied: cffi>=1.14 in c:\\python310\\lib\\site-packages (from trio~=0.17->selenium) (1.15.0)\n",
      "Requirement already satisfied: attrs>=19.2.0 in c:\\python310\\lib\\site-packages (from trio~=0.17->selenium) (22.1.0)\n",
      "Requirement already satisfied: exceptiongroup>=1.0.0rc9 in c:\\python310\\lib\\site-packages (from trio~=0.17->selenium) (1.0.1)\n",
      "Requirement already satisfied: outcome in c:\\python310\\lib\\site-packages (from trio~=0.17->selenium) (1.2.0)\n",
      "Requirement already satisfied: idna in c:\\python310\\lib\\site-packages (from trio~=0.17->selenium) (3.4)\n",
      "Requirement already satisfied: wsproto>=0.14 in c:\\python310\\lib\\site-packages (from trio-websocket~=0.9->selenium) (1.2.0)\n",
      "Requirement already satisfied: PySocks!=1.5.7,<2.0,>=1.5.6 in c:\\python310\\lib\\site-packages (from urllib3[socks]~=1.26->selenium) (1.7.1)\n",
      "Requirement already satisfied: pycparser in c:\\python310\\lib\\site-packages (from cffi>=1.14->trio~=0.17->selenium) (2.21)\n",
      "Requirement already satisfied: h11<1,>=0.9.0 in c:\\python310\\lib\\site-packages (from wsproto>=0.14->trio-websocket~=0.9->selenium) (0.14.0)\n",
      "Note: you may need to restart the kernel to use updated packages.\n"
     ]
    },
    {
     "name": "stderr",
     "output_type": "stream",
     "text": [
      "\n",
      "[notice] A new release of pip available: 22.2.2 -> 22.3.1\n",
      "[notice] To update, run: python.exe -m pip install --upgrade pip\n"
     ]
    },
    {
     "name": "stdout",
     "output_type": "stream",
     "text": [
      "Collecting pyppeteer\n",
      "  Downloading pyppeteer-1.0.2-py3-none-any.whl (83 kB)\n",
      "     ---------------------------------------- 83.4/83.4 kB 1.6 MB/s eta 0:00:00\n",
      "Requirement already satisfied: certifi>=2021 in c:\\python310\\lib\\site-packages (from pyppeteer) (2022.9.14)\n",
      "Requirement already satisfied: urllib3<2.0.0,>=1.25.8 in c:\\python310\\lib\\site-packages (from pyppeteer) (1.26.12)\n",
      "Requirement already satisfied: tqdm<5.0.0,>=4.42.1 in c:\\python310\\lib\\site-packages (from pyppeteer) (4.64.1)\n",
      "Collecting importlib-metadata>=1.4\n",
      "  Downloading importlib_metadata-5.0.0-py3-none-any.whl (21 kB)\n",
      "Collecting appdirs<2.0.0,>=1.4.3\n",
      "  Downloading appdirs-1.4.4-py2.py3-none-any.whl (9.6 kB)\n",
      "Collecting websockets<11.0,>=10.0\n",
      "  Downloading websockets-10.4-cp310-cp310-win_amd64.whl (101 kB)\n",
      "     ---------------------------------------- 101.4/101.4 kB ? eta 0:00:00\n",
      "Collecting pyee<9.0.0,>=8.1.0\n",
      "  Downloading pyee-8.2.2-py2.py3-none-any.whl (12 kB)\n",
      "Collecting zipp>=0.5\n",
      "  Downloading zipp-3.10.0-py3-none-any.whl (6.2 kB)\n",
      "Requirement already satisfied: colorama in c:\\users\\wgmlgz\\appdata\\roaming\\python\\python310\\site-packages (from tqdm<5.0.0,>=4.42.1->pyppeteer) (0.4.6)\n",
      "Installing collected packages: pyee, appdirs, zipp, websockets, importlib-metadata, pyppeteer\n",
      "Note: you may need to restart the kernel to use updated packages.\n"
     ]
    },
    {
     "name": "stderr",
     "output_type": "stream",
     "text": [
      "  WARNING: Failed to write executable - trying to use .deleteme logic\n",
      "ERROR: Could not install packages due to an OSError: [WinError 2] The system cannot find the file specified: 'c:\\\\Python310\\\\Scripts\\\\pyppeteer-install.exe' -> 'c:\\\\Python310\\\\Scripts\\\\pyppeteer-install.exe.deleteme'\n",
      "\n",
      "\n",
      "[notice] A new release of pip available: 22.2.2 -> 22.3.1\n",
      "[notice] To update, run: python.exe -m pip install --upgrade pip\n"
     ]
    }
   ],
   "source": [
    "%pip install beautifulsoup4\n",
    "%pip install selenium\n",
    "%pip install pyppeteer"
   ]
  },
  {
   "cell_type": "code",
   "execution_count": 1,
   "metadata": {},
   "outputs": [],
   "source": [
    "from bs4 import BeautifulSoup as bs\n",
    "import requests\n",
    "import re\n",
    "import asyncio\n",
    "from bs4 import BeautifulSoup\n",
    "from pyppeteer import launch\n",
    "import os\n",
    "from collections import deque \n",
    "\n",
    "browser = await launch()\n",
    "page = await browser.newPage()\n",
    "await page.setUserAgent('Mozilla/5.0 (Windows NT 5.1; rv:5.0) Gecko/20100101 Firefox/5.0')\n",
    "\n",
    "base = 'https://www.ozon.ru'\n",
    "categories_url = 'https://www.ozon.ru/category/'\n",
    "used_links = {categories_url}\n",
    "found_links = set()\n"
   ]
  },
  {
   "cell_type": "code",
   "execution_count": 3,
   "metadata": {},
   "outputs": [
    {
     "name": "stdout",
     "output_type": "stream",
     "text": [
      "Found the URL: https://www.ozon.ru/category/supermarket-25000/\n",
      "Found the URL: https://www.ozon.ru/category/elektronika-15500/\n",
      "Found the URL: https://www.ozon.ru/category/zhenskaya-odezhda-7501/\n",
      "Found the URL: https://www.ozon.ru/category/dom-i-sad-14500/\n",
      "Found the URL: https://www.ozon.ru/category/detskie-tovary-7000/\n",
      "Found the URL: https://www.ozon.ru/category/odezhda-obuv-i-aksessuary-7500/\n",
      "Found the URL: https://www.ozon.ru/category/apteka-6000/\n",
      "Found the URL: https://www.ozon.ru/category/bytovaya-tehnika-10500/\n",
      "Found the URL: https://www.ozon.ru/category/knigi-16500/\n",
      "Found the URL: https://www.ozon.ru/category/stroitelstvo-i-remont-9700/\n",
      "Found the URL: https://www.ozon.ru/category/krasota-i-zdorove-6500/\n",
      "Found the URL: https://www.ozon.ru/category/sport-i-otdyh-11000/\n",
      "Found the URL: https://www.ozon.ru/category/tovary-dlya-zhivotnyh-12300/\n",
      "Found the URL: https://www.ozon.ru/category/produkty-pitaniya-9200/\n",
      "Found the URL: https://www.ozon.ru/category/avtotovary-8500/\n",
      "Found the URL: https://www.ozon.ru/category/tovary-dlya-vzroslyh-9000/\n",
      "Found the URL: https://www.ozon.ru/category/ohota-rybalka-turizm-33332/\n",
      "Found the URL: https://www.ozon.ru/category/igry-i-soft-13300/\n",
      "Found the URL: https://www.ozon.ru/category/mebel-15000/\n",
      "Found the URL: https://www.ozon.ru/category/bytovaya-himiya-14572/\n",
      "Found the URL: https://www.ozon.ru/category/yuvelirnye-ukrasheniya-50001/\n",
      "Found the URL: https://www.ozon.ru/category/tsifrovye-tovary-32056/\n",
      "Found the URL: https://www.ozon.ru/category/antikvariat-vintazh-iskusstvo-8000/\n",
      "Found the URL: https://www.ozon.ru/category/kantselyarskie-tovary-18000/\n",
      "Found the URL: https://www.ozon.ru/category/hobbi-i-tvorchestvo-13500/\n",
      "Found the URL: https://www.ozon.ru/category/muzyka-i-video-13100/\n"
     ]
    }
   ],
   "source": [
    "\n",
    "await page.goto(categories_url, {'waitUntil': 'networkidle0'})\n",
    "page_content = await page.content()\n",
    "\n",
    "def grab_categories(page_content):\n",
    "    soup = BeautifulSoup(page_content)\n",
    "    links = set()\n",
    "    for a in soup.find_all('a', href=True):\n",
    "        if re.fullmatch('\\/category\\/[^\\/]+\\\\d+\\/', a['href']) is not None:\n",
    "            link = base + a['href']\n",
    "            if link in found_links:\n",
    "                continue\n",
    "\n",
    "            print(\"Found the URL:\", link)\n",
    "            links.add(link)\n",
    "            found_links.add(link)\n",
    "\n",
    "    return links\n",
    "\n",
    "\n",
    "links = grab_categories(page_content)\n",
    "\n",
    "\n",
    "queue = deque(list(links))\n",
    "\n",
    "while len(queue) != 0:\n",
    "    url = queue.popleft()\n",
    "    if url in used_links:\n",
    "        continue\n",
    "    used_links.add(url)\n",
    "    try:\n",
    "        await page.goto(url, {'waitUntil': 'networkidle0'})\n",
    "        page_content = await page.content()\n",
    "        links = grab_categories(page_content)\n",
    "        queue.extend(list(links))\n",
    "    except TimeoutError:\n",
    "        print('timeout error!')\n",
    "        queue.extend(url)\n",
    "\n"
   ]
  },
  {
   "cell_type": "code",
   "execution_count": null,
   "metadata": {},
   "outputs": [],
   "source": [
    "await browser.close()"
   ]
  }
 ],
 "metadata": {
  "kernelspec": {
   "display_name": "Python 3.10.7 64-bit",
   "language": "python",
   "name": "python3"
  },
  "language_info": {
   "codemirror_mode": {
    "name": "ipython",
    "version": 3
   },
   "file_extension": ".py",
   "mimetype": "text/x-python",
   "name": "python",
   "nbconvert_exporter": "python",
   "pygments_lexer": "ipython3",
   "version": "3.10.7"
  },
  "orig_nbformat": 4,
  "vscode": {
   "interpreter": {
    "hash": "369f2c481f4da34e4445cda3fffd2e751bd1c4d706f27375911949ba6bb62e1c"
   }
  }
 },
 "nbformat": 4,
 "nbformat_minor": 2
}
