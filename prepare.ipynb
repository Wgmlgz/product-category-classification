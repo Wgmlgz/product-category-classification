{
 "cells": [
  {
   "cell_type": "code",
   "execution_count": null,
   "metadata": {},
   "outputs": [],
   "source": [
    "%pip install beautifulsoup4\n",
    "%pip install lxml\n",
    "%pip install xmltodict\n"
   ]
  },
  {
   "cell_type": "code",
   "execution_count": 12,
   "metadata": {},
   "outputs": [
    {
     "name": "stdout",
     "output_type": "stream",
     "text": [
      "3803\n",
      "9941\n",
      "16981\n"
     ]
    }
   ],
   "source": [
    "# read data\n",
    "import csv\n",
    "from bs4 import BeautifulSoup\n",
    "import xmltodict\n",
    "\n",
    "dataset = []\n",
    "with open('./data/data0.csv', encoding='utf-8') as csvfile:\n",
    "    reader = csv.reader(csvfile, delimiter=';')\n",
    "    headers = next(reader, None)\n",
    "\n",
    "    res = []\n",
    "    for row in reader:\n",
    "        res.append([row[5], row[14], ''])\n",
    "\n",
    "    for i in res:\n",
    "        dataset.append(i)\n",
    "\n",
    "print(len(dataset))\n",
    "\n",
    "\n",
    "def parse_xml(path):\n",
    "    with open(path, encoding='utf-8') as f:\n",
    "        s = f.read()\n",
    "        xml = xmltodict.parse(s, xml_attribs=True)\n",
    "\n",
    "        categories = {}\n",
    "        for i in xml['yml_catalog']['shop']['categories']['category']:\n",
    "            id = i['@id']\n",
    "            if type(id) is list:\n",
    "                id = id[-1]\n",
    "            categories[id] = i['#text']\n",
    "\n",
    "        res = []\n",
    "        for i in xml['yml_catalog']['shop']['offers']['offer']:\n",
    "            id = i['categoryId']\n",
    "            if type(id) is list:\n",
    "                id = id[-1]\n",
    "            name = i['name']\n",
    "            if type(name) is list:\n",
    "                name = name[-1]\n",
    "                \n",
    "            description = i.get('description')\n",
    "            if not description: description = ''\n",
    "            \n",
    "            res.append([name, categories[id], description])\n",
    "\n",
    "        for i in res:\n",
    "            dataset.append(i)\n",
    "\n",
    "\n",
    "parse_xml('./data/data1.xml')\n",
    "print(len(dataset))\n",
    "parse_xml('./data/data2.xml')\n",
    "print(len(dataset))\n",
    "\n",
    "with open('dataset.csv', 'w', newline='', encoding='utf-8') as csvfile:\n",
    "    # uniq_id\tcrawl_timestamp\tproduct_url\tproduct_name\tproduct_category_tree\tpid\tretail_price\tdiscounted_price\timage\tis_FK_Advantage_product\tdescription\tproduct_rating\toverall_rating\tbrand\tproduct_specifications\n",
    "    writer = csv.writer(csvfile)\n",
    "    writer.writerow(['product_name', 'product_category', 'description'])\n",
    "    for i in dataset:\n",
    "        i = [j.strip() for j in i]\n",
    "        writer.writerow(i)\n"
   ]
  }
 ],
 "metadata": {
  "kernelspec": {
   "display_name": "Python 3.10.4 64-bit",
   "language": "python",
   "name": "python3"
  },
  "language_info": {
   "codemirror_mode": {
    "name": "ipython",
    "version": 3
   },
   "file_extension": ".py",
   "mimetype": "text/x-python",
   "name": "python",
   "nbconvert_exporter": "python",
   "pygments_lexer": "ipython3",
   "version": "3.10.4"
  },
  "orig_nbformat": 4,
  "vscode": {
   "interpreter": {
    "hash": "369f2c481f4da34e4445cda3fffd2e751bd1c4d706f27375911949ba6bb62e1c"
   }
  }
 },
 "nbformat": 4,
 "nbformat_minor": 2
}
