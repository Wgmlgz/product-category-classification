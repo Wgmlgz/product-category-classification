{
  "cells": [
    {
      "cell_type": "markdown",
      "metadata": {
        "id": "s7Mun0I2noil"
      },
      "source": [
        "# Large-scale multi-label text classification\n",
        "\n",
        "**Author:** [Sayak Paul](https://twitter.com/RisingSayak), [Soumik Rakshit](https://github.com/soumik12345)<br>\n",
        "**Date created:** 2020/09/25<br>\n",
        "**Last modified:** 2020/12/23<br>\n",
        "**Description:** Implementing a large-scale multi-label text classification model."
      ]
    },
    {
      "cell_type": "markdown",
      "metadata": {
        "id": "PVocFOzDnoip"
      },
      "source": [
        "## Introduction\n",
        "\n",
        "In this example, we will build a multi-label text classifier to predict the subject areas\n",
        "of arXiv papers from their abstract bodies. This type of classifier can be useful for\n",
        "conference submission portals like [OpenReview](https://openreview.net/). Given a paper\n",
        "abstract, the portal could provide suggestions for which areas the paper would\n",
        "best belong to.\n",
        "\n",
        "The dataset was collected using the\n",
        "[`arXiv` Python library](https://github.com/lukasschwab/arxiv.py)\n",
        "that provides a wrapper around the\n",
        "[original arXiv API](http://arxiv.org/help/api/index).\n",
        "To learn more about the data collection process, please refer to\n",
        "[this notebook](https://github.com/soumik12345/multi-label-text-classification/blob/master/arxiv_scrape.ipynb).\n",
        "Additionally, you can also find the dataset on\n",
        "[Kaggle](https://www.kaggle.com/spsayakpaul/arxiv-paper-abstracts)."
      ]
    },
    {
      "cell_type": "markdown",
      "metadata": {
        "id": "6UtWxZ7Cnoip"
      },
      "source": [
        "## Imports"
      ]
    },
    {
      "cell_type": "code",
      "execution_count": 9,
      "metadata": {
        "id": "6hS9C7Xsnoiq"
      },
      "outputs": [],
      "source": [
        "from tensorflow.keras import layers\n",
        "from tensorflow import keras\n",
        "import tensorflow as tf\n",
        "\n",
        "from sklearn.model_selection import train_test_split\n",
        "from ast import literal_eval\n",
        "\n",
        "import matplotlib.pyplot as plt\n",
        "import pandas as pd\n",
        "import numpy as np"
      ]
    },
    {
      "cell_type": "markdown",
      "metadata": {
        "id": "QNxFbKH0noir"
      },
      "source": [
        "Our text features are present in the `summaries` column and their corresponding labels\n",
        "are in `terms`. As you can notice, there are multiple categories associated with a\n",
        "particular entry."
      ]
    },
    {
      "cell_type": "code",
      "execution_count": 10,
      "metadata": {},
      "outputs": [
        {
          "name": "stdout",
          "output_type": "stream",
          "text": [
            "128932\n"
          ]
        },
        {
          "data": {
            "text/html": [
              "<div>\n",
              "<style scoped>\n",
              "    .dataframe tbody tr th:only-of-type {\n",
              "        vertical-align: middle;\n",
              "    }\n",
              "\n",
              "    .dataframe tbody tr th {\n",
              "        vertical-align: top;\n",
              "    }\n",
              "\n",
              "    .dataframe thead th {\n",
              "        text-align: right;\n",
              "    }\n",
              "</style>\n",
              "<table border=\"1\" class=\"dataframe\">\n",
              "  <thead>\n",
              "    <tr style=\"text-align: right;\">\n",
              "      <th></th>\n",
              "      <th>titles</th>\n",
              "      <th>summaries</th>\n",
              "      <th>terms</th>\n",
              "      <th>sku</th>\n",
              "      <th>categoryId</th>\n",
              "      <th>url</th>\n",
              "    </tr>\n",
              "  </thead>\n",
              "  <tbody>\n",
              "    <tr>\n",
              "      <th>0</th>\n",
              "      <td>Нож для яблок Яблокорезка Прибор для удаления ...</td>\n",
              "      <td>Нож для яблок Яблокорезка Прибор для удаления ...</td>\n",
              "      <td>['Дом и сад', 'Ножи кухонные']</td>\n",
              "      <td>701414369</td>\n",
              "      <td>50765808.0</td>\n",
              "      <td>https://www.ozon.ru/product/nozh-dlya-yablok-y...</td>\n",
              "    </tr>\n",
              "    <tr>\n",
              "      <th>1</th>\n",
              "      <td>Набор доктора игровой 2550 \"Волшебная аптечка\"...</td>\n",
              "      <td>Набор доктора игровой 2550 \"Волшебная аптечка\"...</td>\n",
              "      <td>['Детские товары', 'Игрушки']</td>\n",
              "      <td>178962428</td>\n",
              "      <td>17039241.0</td>\n",
              "      <td>https://www.ozon.ru/product/nabor-doktora-igro...</td>\n",
              "    </tr>\n",
              "    <tr>\n",
              "      <th>2</th>\n",
              "      <td>Икона Святитель Николай Чудотворец</td>\n",
              "      <td>Икона Святитель Николай Чудотворец Святитель Н...</td>\n",
              "      <td>['Дом и сад', 'Авторские товары']</td>\n",
              "      <td>536003504</td>\n",
              "      <td>17036878.0</td>\n",
              "      <td>https://www.ozon.ru/product/ikona-svyatitel-ni...</td>\n",
              "    </tr>\n",
              "    <tr>\n",
              "      <th>3</th>\n",
              "      <td>Сухое молоко цельное 1000г, 1 кг</td>\n",
              "      <td>Сухое молоко цельное 1000г, 1 кг сухое молоко ...</td>\n",
              "      <td>['Продукты питания', 'Соль, сахар, специи']</td>\n",
              "      <td>265143538</td>\n",
              "      <td>101031443.0</td>\n",
              "      <td>https://www.ozon.ru/product/suhoe-moloko-tseln...</td>\n",
              "    </tr>\n",
              "    <tr>\n",
              "      <th>4</th>\n",
              "      <td>Мука ржаная цельнозерновая из био зерна, рожь,...</td>\n",
              "      <td>Мука ржаная цельнозерновая из био зерна, рожь,...</td>\n",
              "      <td>['Продукты питания', 'Макаронные изделия, круп...</td>\n",
              "      <td>257993749</td>\n",
              "      <td>17032557.0</td>\n",
              "      <td>https://www.ozon.ru/product/muka-rzhanaya-tsel...</td>\n",
              "    </tr>\n",
              "  </tbody>\n",
              "</table>\n",
              "</div>"
            ],
            "text/plain": [
              "                                              titles  \\\n",
              "0  Нож для яблок Яблокорезка Прибор для удаления ...   \n",
              "1  Набор доктора игровой 2550 \"Волшебная аптечка\"...   \n",
              "2                 Икона Святитель Николай Чудотворец   \n",
              "3                   Сухое молоко цельное 1000г, 1 кг   \n",
              "4  Мука ржаная цельнозерновая из био зерна, рожь,...   \n",
              "\n",
              "                                           summaries  \\\n",
              "0  Нож для яблок Яблокорезка Прибор для удаления ...   \n",
              "1  Набор доктора игровой 2550 \"Волшебная аптечка\"...   \n",
              "2  Икона Святитель Николай Чудотворец Святитель Н...   \n",
              "3  Сухое молоко цельное 1000г, 1 кг сухое молоко ...   \n",
              "4  Мука ржаная цельнозерновая из био зерна, рожь,...   \n",
              "\n",
              "                                               terms        sku   categoryId  \\\n",
              "0                     ['Дом и сад', 'Ножи кухонные']  701414369   50765808.0   \n",
              "1                      ['Детские товары', 'Игрушки']  178962428   17039241.0   \n",
              "2                  ['Дом и сад', 'Авторские товары']  536003504   17036878.0   \n",
              "3        ['Продукты питания', 'Соль, сахар, специи']  265143538  101031443.0   \n",
              "4  ['Продукты питания', 'Макаронные изделия, круп...  257993749   17032557.0   \n",
              "\n",
              "                                                 url  \n",
              "0  https://www.ozon.ru/product/nozh-dlya-yablok-y...  \n",
              "1  https://www.ozon.ru/product/nabor-doktora-igro...  \n",
              "2  https://www.ozon.ru/product/ikona-svyatitel-ni...  \n",
              "3  https://www.ozon.ru/product/suhoe-moloko-tseln...  \n",
              "4  https://www.ozon.ru/product/muka-rzhanaya-tsel...  "
            ]
          },
          "execution_count": 10,
          "metadata": {},
          "output_type": "execute_result"
        }
      ],
      "source": [
        "import json\n",
        "\n",
        "def process(s):\n",
        "    try:\n",
        "        return str(json.loads(s)[:2])\n",
        "    except:\n",
        "        return None\n",
        "\n",
        "def prepare_json(path: str):\n",
        "    df = pd.read_csv(path)\n",
        "    # obj = json.loads(open(path, 'r', encoding='utf-8').read())\n",
        "    # data = []\n",
        "    # for key in obj:\n",
        "    #     row = obj[key]\n",
        "    #     if row['title'] is not None and row['description'] is not None and row['category'] is not None and row['hierarchy'] is not None:\n",
        "    #         if row['title'].strip() != '' and row['description'].strip() != '' and row['category'].strip() != '' and row['hierarchy'].strip() != '':\n",
        "    #             tree = row['hierarchy'].split('/')\n",
        "    #             row['category'] = str([tree[min(5, len(tree) - 1)]])\n",
        "    #             # row['category'] = str([row['category']])\n",
        "    #             row['category'] = str(tree[:2])\n",
        "\n",
        "    #             data.append(obj[key])\n",
        "\n",
        "    # df = pd.json_normalize(data)\n",
        "    \n",
        "    df['trueHierarchy'] = df['trueHierarchy'].apply(process)\n",
        "    df['summaries'] = df['summaries'].apply(str)\n",
        "    df = df[[\n",
        "        'titles', 'summaries', 'trueHierarchy', 'sku', 'trueCategoryId', 'url'\n",
        "    ]]\n",
        "    df = df.rename(columns={\"trueHierarchy\": \"terms\", \"trueCategoryId\": \"categoryId\"})\n",
        "    print(len(df))\n",
        "    return df\n",
        "\n",
        "\n",
        "arxiv_data = prepare_json('./dataset.csv')\n",
        "arxiv_data['summaries'] = arxiv_data['titles'] + ' ' + arxiv_data['summaries']\n",
        "arxiv_data.head()\n"
      ]
    },
    {
      "cell_type": "code",
      "execution_count": 11,
      "metadata": {
        "colab": {
          "base_uri": "https://localhost:8080/"
        },
        "id": "9Z2vjelWnois",
        "outputId": "bacb0ee5-5c1c-4991-c63a-11a3287e4835"
      },
      "outputs": [
        {
          "name": "stdout",
          "output_type": "stream",
          "text": [
            "There are 128932 rows in the dataset.\n"
          ]
        }
      ],
      "source": [
        "print(f\"There are {len(arxiv_data)} rows in the dataset.\")"
      ]
    },
    {
      "cell_type": "markdown",
      "metadata": {
        "id": "3pBt0L4qnois"
      },
      "source": [
        "Real-world data is noisy. One of the most commonly observed source of noise is data\n",
        "duplication. Here we notice that our initial dataset has got about 13k duplicate entries."
      ]
    },
    {
      "cell_type": "code",
      "execution_count": 12,
      "metadata": {
        "colab": {
          "base_uri": "https://localhost:8080/"
        },
        "id": "ONwBQPZsnoit",
        "outputId": "11c80827-daee-468a-d15e-31e507e54c86"
      },
      "outputs": [
        {
          "name": "stdout",
          "output_type": "stream",
          "text": [
            "There are 8543 duplicate titles.\n"
          ]
        }
      ],
      "source": [
        "total_duplicate_titles = sum(arxiv_data[\"titles\"].duplicated())\n",
        "print(f\"There are {total_duplicate_titles} duplicate titles.\")"
      ]
    },
    {
      "cell_type": "markdown",
      "metadata": {
        "id": "dhNfHwIrnoit"
      },
      "source": [
        "Before proceeding further, we drop these entries."
      ]
    },
    {
      "cell_type": "code",
      "execution_count": 13,
      "metadata": {
        "colab": {
          "base_uri": "https://localhost:8080/"
        },
        "id": "ujU1vXfBnoit",
        "outputId": "275d7e2f-0a09-401b-cbd5-1d4b17bdd2b6"
      },
      "outputs": [
        {
          "name": "stdout",
          "output_type": "stream",
          "text": [
            "There are 120389 rows in the deduplicated dataset.\n",
            "79\n",
            "533\n"
          ]
        }
      ],
      "source": [
        "arxiv_data = arxiv_data[~arxiv_data[\"titles\"].duplicated()]\n",
        "print(f\"There are {len(arxiv_data)} rows in the deduplicated dataset.\")\n",
        "\n",
        "# There are some terms with occurrence as low as 1.\n",
        "print(sum(arxiv_data[\"terms\"].value_counts() == 1))\n",
        "\n",
        "# How many unique terms?\n",
        "print(arxiv_data[\"terms\"].nunique())"
      ]
    },
    {
      "cell_type": "markdown",
      "metadata": {
        "id": "IjhKxAsjnoit"
      },
      "source": [
        "As observed above, out of 3,157 unique combinations of `terms`, 2,321 entries have the\n",
        "lowest occurrence. To prepare our train, validation, and test sets with\n",
        "[stratification](https://en.wikipedia.org/wiki/Stratified_sampling), we need to drop\n",
        "these terms."
      ]
    },
    {
      "cell_type": "code",
      "execution_count": 14,
      "metadata": {
        "colab": {
          "base_uri": "https://localhost:8080/"
        },
        "id": "v1QroBU_noiu",
        "outputId": "bd2bbab2-1426-404a-fa0d-068289d7c5f5"
      },
      "outputs": [
        {
          "data": {
            "text/plain": [
              "(6847, 6)"
            ]
          },
          "execution_count": 14,
          "metadata": {},
          "output_type": "execute_result"
        }
      ],
      "source": [
        "# Filtering the rare terms.\n",
        "arxiv_data_filtered = arxiv_data.groupby(\"terms\").filter(lambda x: len(x) > 1)\n",
        "arxiv_data_filtered.shape"
      ]
    },
    {
      "cell_type": "markdown",
      "metadata": {
        "id": "xijXk2LLnoiu"
      },
      "source": [
        "## Convert the string labels to lists of strings\n",
        "\n",
        "The initial labels are represented as raw strings. Here we make them `List[str]` for a\n",
        "more compact representation."
      ]
    },
    {
      "cell_type": "code",
      "execution_count": 15,
      "metadata": {
        "colab": {
          "base_uri": "https://localhost:8080/"
        },
        "id": "la2j7QYSnoiu",
        "outputId": "5d6f0844-a6bc-475d-d6c3-8f0ae42badd3"
      },
      "outputs": [
        {
          "data": {
            "text/plain": [
              "array([list(['Дом и сад', 'Ножи кухонные']),\n",
              "       list(['Детские товары', 'Игрушки']),\n",
              "       list(['Дом и сад', 'Авторские товары']),\n",
              "       list(['Продукты питания', 'Соль, сахар, специи']),\n",
              "       list(['Продукты питания', 'Макаронные изделия, крупы, быстрое питание'])],\n",
              "      dtype=object)"
            ]
          },
          "execution_count": 15,
          "metadata": {},
          "output_type": "execute_result"
        }
      ],
      "source": [
        "arxiv_data_filtered[\"terms\"] = arxiv_data_filtered[\"terms\"].apply(\n",
        "    lambda x: literal_eval(x)\n",
        ")\n",
        "arxiv_data_filtered[\"terms\"].values[:5]"
      ]
    },
    {
      "cell_type": "markdown",
      "metadata": {
        "id": "arhuTIOMnoiu"
      },
      "source": [
        "## Use stratified splits because of class imbalance\n",
        "\n",
        "The dataset has a\n",
        "[class imbalance problem](https://developers.google.com/machine-learning/glossary/#class-imbalanced-dataset).\n",
        "So, to have a fair evaluation result, we need to ensure the datasets are sampled with\n",
        "stratification. To know more about different strategies to deal with the class imbalance\n",
        "problem, you can follow\n",
        "[this tutorial](https://www.tensorflow.org/tutorials/structured_data/imbalanced_data).\n",
        "For an end-to-end demonstration of classification with imbablanced data, refer to\n",
        "[Imbalanced classification: credit card fraud detection](https://keras.io/examples/structured_data/imbalanced_classification/)."
      ]
    },
    {
      "cell_type": "code",
      "execution_count": 16,
      "metadata": {
        "colab": {
          "base_uri": "https://localhost:8080/"
        },
        "id": "wz8vY0m_noiu",
        "outputId": "2f7367dc-fbf0-40c6-ca55-9cc767e997d8"
      },
      "outputs": [
        {
          "name": "stdout",
          "output_type": "stream",
          "text": [
            "Number of rows in training set: 6162\n",
            "Number of rows in validation set: 342\n",
            "Number of rows in test set: 343\n"
          ]
        }
      ],
      "source": [
        "test_split = 0.1\n",
        "\n",
        "# Initial train and test split.\n",
        "train_df, test_df = train_test_split(\n",
        "    arxiv_data_filtered,\n",
        "    test_size=test_split,\n",
        "    stratify=arxiv_data_filtered[\"terms\"].values,\n",
        ")\n",
        "\n",
        "# Splitting the test set further into validation\n",
        "# and new test sets.\n",
        "val_df = test_df.sample(frac=0.5)\n",
        "test_df.drop(val_df.index, inplace=True)\n",
        "\n",
        "print(f\"Number of rows in training set: {len(train_df)}\")\n",
        "print(f\"Number of rows in validation set: {len(val_df)}\")\n",
        "print(f\"Number of rows in test set: {len(test_df)}\")"
      ]
    },
    {
      "cell_type": "markdown",
      "metadata": {
        "id": "nzYA5Tz6noiv"
      },
      "source": [
        "## Multi-label binarization\n",
        "\n",
        "Now we preprocess our labels using the\n",
        "[`StringLookup`](https://keras.io/api/layers/preprocessing_layers/categorical/string_lookup)\n",
        "layer."
      ]
    },
    {
      "cell_type": "code",
      "execution_count": 17,
      "metadata": {
        "colab": {
          "base_uri": "https://localhost:8080/"
        },
        "id": "cNNiOGIanoiv",
        "outputId": "02f5ab87-90b8-4eea-9592-63f3dc71aae8"
      },
      "outputs": [
        {
          "name": "stderr",
          "output_type": "stream",
          "text": [
            "2022-11-29 00:59:38.354005: I tensorflow/compiler/xla/stream_executor/cuda/cuda_gpu_executor.cc:967] could not open file to read NUMA node: /sys/bus/pci/devices/0000:06:00.0/numa_node\n",
            "Your kernel may have been built without NUMA support.\n",
            "2022-11-29 00:59:38.464227: I tensorflow/compiler/xla/stream_executor/cuda/cuda_gpu_executor.cc:967] could not open file to read NUMA node: /sys/bus/pci/devices/0000:06:00.0/numa_node\n",
            "Your kernel may have been built without NUMA support.\n",
            "2022-11-29 00:59:38.464296: I tensorflow/compiler/xla/stream_executor/cuda/cuda_gpu_executor.cc:967] could not open file to read NUMA node: /sys/bus/pci/devices/0000:06:00.0/numa_node\n",
            "Your kernel may have been built without NUMA support.\n",
            "2022-11-29 00:59:38.468011: I tensorflow/core/platform/cpu_feature_guard.cc:193] This TensorFlow binary is optimized with oneAPI Deep Neural Network Library (oneDNN) to use the following CPU instructions in performance-critical operations:  AVX2 FMA\n",
            "To enable them in other operations, rebuild TensorFlow with the appropriate compiler flags.\n",
            "2022-11-29 00:59:38.472253: I tensorflow/compiler/xla/stream_executor/cuda/cuda_gpu_executor.cc:967] could not open file to read NUMA node: /sys/bus/pci/devices/0000:06:00.0/numa_node\n",
            "Your kernel may have been built without NUMA support.\n",
            "2022-11-29 00:59:38.472349: I tensorflow/compiler/xla/stream_executor/cuda/cuda_gpu_executor.cc:967] could not open file to read NUMA node: /sys/bus/pci/devices/0000:06:00.0/numa_node\n",
            "Your kernel may have been built without NUMA support.\n",
            "2022-11-29 00:59:38.472393: I tensorflow/compiler/xla/stream_executor/cuda/cuda_gpu_executor.cc:967] could not open file to read NUMA node: /sys/bus/pci/devices/0000:06:00.0/numa_node\n",
            "Your kernel may have been built without NUMA support.\n",
            "2022-11-29 00:59:40.048813: I tensorflow/compiler/xla/stream_executor/cuda/cuda_gpu_executor.cc:967] could not open file to read NUMA node: /sys/bus/pci/devices/0000:06:00.0/numa_node\n",
            "Your kernel may have been built without NUMA support.\n",
            "2022-11-29 00:59:40.049798: I tensorflow/compiler/xla/stream_executor/cuda/cuda_gpu_executor.cc:967] could not open file to read NUMA node: /sys/bus/pci/devices/0000:06:00.0/numa_node\n",
            "Your kernel may have been built without NUMA support.\n",
            "2022-11-29 00:59:40.049812: I tensorflow/core/common_runtime/gpu/gpu_device.cc:1700] Could not identify NUMA node of platform GPU id 0, defaulting to 0.  Your kernel may not have been built with NUMA support.\n",
            "2022-11-29 00:59:40.049869: I tensorflow/compiler/xla/stream_executor/cuda/cuda_gpu_executor.cc:967] could not open file to read NUMA node: /sys/bus/pci/devices/0000:06:00.0/numa_node\n",
            "Your kernel may have been built without NUMA support.\n",
            "2022-11-29 00:59:40.050545: I tensorflow/core/common_runtime/gpu/gpu_device.cc:1613] Created device /job:localhost/replica:0/task:0/device:GPU:0 with 5424 MB memory:  -> device: 0, name: NVIDIA GeForce RTX 3060 Ti, pci bus id: 0000:06:00.0, compute capability: 8.6\n"
          ]
        },
        {
          "name": "stdout",
          "output_type": "stream",
          "text": [
            "Vocabulary:\n",
            "\n",
            "['[UNK]', 'Одежда', 'Ремонт и строительство', 'Дом и сад', 'Спорт и отдых', 'Печатные издания', 'Автотовары', 'Электроника', 'Красота', 'Современная печатная книга', 'Продукты питания', 'Бытовая техника', 'Хобби и творчество', 'Продукт медиа', 'Канцелярия', 'Аптека', 'Авто/мото запчасти', 'Детские товары', 'Галантерея и украшения', 'Зоотовары', 'Обувь', 'Инструменты', 'Мебель', 'Повседневная обувь', 'Аксессуары для приготовления пищи', 'Букинистическая книга', 'Автохимия и автокосметика', 'Антиквариат и коллекционирование', 'Экипировка и защита', 'Материал для рукоделия', 'Снасти', 'Аксессуары', 'Косметика для ухода за волосами', 'Сухие завтраки, снэки, суперфудс', 'Музыкальные инструменты', 'Игрушки', 'Хлеб и кондитерские изделия', 'Напитки', 'Декоративная косметика', 'Косметика для ухода', 'Инструменты для макияжа, маникюра, бани и солярия', 'Велозапчасти и аксессуары', 'Гигиенические товары', 'Макаронные изделия, крупы, быстрое питание', 'Автоаксессуар', 'Сумка', 'Аксессуары для бани и ванной', 'Антиквариат и винтаж', 'Спортивные чехлы и сумки', 'Набор для рукоделия, творчества', 'Измерительный инструмент', 'Запчасти, аксессуары', 'Праздничные украшения', 'Краска, клей', 'Бижутерия', 'Сан. Фурнитура', 'Бытовая химия', 'Бумажная продукция', 'Расходники для инструмента', 'Предметы коллекционирования', 'Метизы и крепеж', 'Личная гигиена', 'Фитнес-инвентарь', 'Светильник', 'Посуда для приготовления пищи', 'Медицинские расходные материалы', 'Замки и Фурнитуры', 'Электроустановочные изделия', 'Столовая посуда', 'Парфюмерия', 'Аксессуар для перевозки и сна', 'Аксессуары для интерьера', 'Садовый инструмент', 'Моющие и чистящие средства', 'Консервы и заготовки', 'Инвентарь', 'Хранение продуктов', 'Фотоаксессуар', 'Товар для ухода за животными', 'Соль, сахар, специи', 'Музыкальный аксессуар', 'Аксессуар для рукоделия', 'Медицинские изделия', 'Масла, соусы, уксус', 'Фермерское хозяйство', 'Сувениры', 'Спортивное питание', 'Садовый декор и теплицы', 'Оснастка для пневмоинструмента', 'Корм для животных', 'Инструмент для рукоделия', 'Тренажеры', 'Оснастка для инструмента', 'Инвентарь для уборки', 'Детское творчество и развитие', 'Строительная химия', 'Спортивная и спец.обувь', 'Аксессуары для туризма и путешествий', 'Ящик для хранения', 'Полотенца и скатерти', 'Питьевая посуда и аксессуары', 'Медицинская техника', 'Галантерея', 'Авторские товары', 'Товары для обуви, одежды', 'Мячи, воланы, снаряды', 'Климатическая техника', 'Товары для пикника', 'Средства реабилитации', 'Папка', 'Мотозащита', 'БАДы', 'Электротовары', 'Средства индивидуальной защиты ', 'Садовая мебель', 'Прибор для письма', 'Обои и покрытия', 'Книга по требованию (POD)', 'Аксессуары для волос', 'Шторы и карнизы', 'Средство по уходу за животными', 'Сетевое оборудование', 'Ножи, Топоры, Лопаты', 'Кухонный аксессуар', 'Аксессуары для цветов', 'Электроинструмент_Пила', 'Фильтры', 'Устройство ручного ввода', 'Тепловая обработка', 'Такелаж', 'Средства личной гигиены', 'Напольные покрытия', 'Кабель', 'Гараж и автосервис', 'Бумага', 'Батарея', 'Аппаратная косметология', 'Second-hand книги', 'Часы', 'Сантехника', 'Радиоуправляемые игрушки, модели', 'Принтеры и МФУ', 'Посуда для активного отдыха', 'Постельное белье', 'Плита', 'Пазлы, модели для сборки', 'Оборудование для салона', 'Мультиварка', 'Массаж', 'Коляски и аксессуары к ним', 'Измельчитель', 'Игры', 'Внешний автоаксессуар', 'Аксессуары для лыж и сноубордов', 'Аксессуар для кормления', 'Микрофон', 'Ковры и шкуры', 'ЗИП для роликов, самокатов, скейтбордов', 'Фонарь', 'Уход за полостью рта', 'Умный дом', 'Свечи', 'Лодки', 'Гаджет', 'Витамины и БАДы', 'Антикварные издания', 'Антикварная книга', 'Аксессуары и запчасти для стрельбы', 'Электрооборудование', 'Стулья, скамьи, табуреты', 'Скейтборды и самокаты', 'Санфаянс и ванны', 'Садовая техника', 'Подушки, одеяла', 'Палатка', 'Оборудование для торгового зала', 'Нитки, пряжа', 'Кронштейн', 'Иностранное издание', 'Инвентарь для дома', 'Изоляционные материалы', 'Ветеринарная аптека', 'Чайник, термопот', 'Строительные смеси', 'Стрижка волос', 'Стол', 'Станок', 'Расходник для печати', 'Полив', 'Пледы и покрывала', 'Паяльное оборудование', 'Ножи кухонные', 'Конструкторы', 'Зарядное устройство', 'Дымоходы', 'Духовой инструмент', 'Бутылочки и соски', 'Автоковрик и авточехол', 'Электроинструмент_Шлифмашина', 'Удобрения и садовая химия', 'Товары для приготовления алкоголя', 'Тату', 'Струнные инструменты', 'Столовые приборы', 'Соковыжималка', 'Охранная система', 'Молочная продукция и сыры', 'Масла', 'Лыжи и сноуборды', 'Кровати', 'Журналы, газеты', 'Весы', 'Вентиляция', 'Аксессуар для пылесоса', 'Эпиляторы', 'Чехол', 'Тумбы и комоды', 'Стеновые панели', 'Садовый отдых', 'Ритуальные, религиозные товары', 'Расходные материалы', 'Ракетки', 'Посудомоечная машина', 'Посадочный материал', 'Очки, маски', 'Оборудование для кафе, ресторанов', 'Мольберт', 'Маска косметическая', 'Купание', 'Контактные линзы и средства для ухода', 'Защитные пленки и стекла', 'Бильярдные столы и аксессуары', 'Штемпельная продукция', 'Цифровая видеокамера', 'Фитнес-браслеты и кардиомониторы', 'Термосы, термокружки и сифоны', 'Сценическое оборудование', 'Средства по уходу за бровями и ресницами', 'Средства для бритья и груминг', 'Сварочное оборудование', 'Потолочные системы', 'Печи', 'Парики', 'Окна и аксессуары', 'Насосы для дачи и сада', 'Надувка', 'Мебельная фурнитура и комплектующие', 'Магниты', 'Керамическая плитка', 'Игровой аксессуар', 'Игровая приставка', 'Защита', 'Детская гигиена и уход', 'Детская безопасность', 'Гадание и атрибутика', 'Водный спорт и отдых на воде', 'Видеонаблюдение', 'Бинокль, подзорная труба', 'Бассейн', 'Антенна', 'Акустика', 'Аксессуары для путешествий', 'Автофильтры', 'Автоакустика', 'Электроинструмент_Дрель', 'Шкафы, тумбы', 'Шина', 'Хранилища данных (SSD, HDD, сетевые)', 'Холст', 'Холодильник', 'Утюг, отпариватель, пароочиститель', 'Устройства для чтения дисков и пр.', 'Ударные инструменты', 'Тяжелая атлетика', 'Террариумные аксессуары', 'Телефон', 'Средства для ухода за обувью, одеждой', 'Соль для ванны', 'Сетевой адаптер', 'Санки,снегокаты,тюбинги', 'Рюкзаки, слинги, кенгуру', 'Расходники, оснастка для садовой техники', 'Пылесос', 'Погодная станция', 'Пневматика и арбалеты', 'Пиротехника', 'Пиломатериал', 'Парафармацевтика', 'Офисное оборудование', 'Отопление', 'Одноразовая посуда', 'Носитель информации', 'Мебель для активного отдыха', 'Матрасы', 'Магнитола', 'Кофеварка, кофемашина', 'Компьютерное охлаждение', 'Компрессор, насос', 'Комплекты мебели', 'Запчасти для ноутбуков', 'Доска, флипчарт', 'Домкраты и лебедки', 'Диваны и кресла', 'Детская посуда', 'Гладильные доски и сушилки', 'Вешалки и плечики', 'Бескаркасная мебель', 'Багажник и прицеп', 'Аксессуар для прогулки и дрессировки', 'Автокресла', 'Электронный музыкальный инструмент', 'Электронный будильник', 'Электромобили гироскутеры сигвеи', 'Штатив', 'Швейное оборудование', 'Цифровая фотокамера', 'Фен, щипцы', 'Усилитель', 'Умные часы', 'Ткань', 'Телескоп, микроскоп', 'Тарифный план', 'Смесители и душевые системы', 'Рюкзаки, ранцы и сумки для сменной обуви', 'Радиаторы, конвекторы', 'Прикормки рыболовные', 'Портативный плеер', 'Поликарбонат и комплектующие', 'Подвижные игры', 'Пневмоинструмент', 'Переноска и хранение', 'Очки и оправы', 'Очки', 'Одежда и обувь для животных', 'Наушники, гарнитура', 'Навигация', 'Муравьиная ферма', 'Мотоаксессуары', 'Монитор', 'Металлопрокат и арматура', 'Металлоискатели и аксессуары', 'Медиаплеер', 'Малая строительная силовая техника', 'Ленты монтажные и клейкие', 'Кузовные детали', 'Корма и добавки для с/х животных и птиц', 'Конный спорт', 'Компьютерные кресла', 'Компьютер', 'Коврики и маты', 'Коврик для мыши', 'Клей бытовой и строительный', 'Клавишный инструмент', 'Каталки и детский транспорт', 'Игровые и спортивные комплексы', 'ИБП', 'Запчасти и комплектующие для квадрокоптеров', 'Горелки', 'Водосток и дренаж', 'Видеоочки', 'Велосипед', 'Варочная панель', 'Бритвенные принадлежности', 'Аудиокнига', 'Ароматы для дома', 'Ароматерапия', 'Автомагнитола', 'Ювелирное оборудование', 'Электропастухи и комплектующие', 'Электрическая зубная щетка', 'Щетки стеклоочистителя', 'Хранение, переноска инструментов', 'Тормозная система', 'Теплый пол', 'Стоматологические приборы и материалы', 'Стиральная машина', 'Средства от насекомых и грызунов', 'Средства для депиляции', 'Салфетки и губки', 'Робототехника', 'Реставрация и золочение', 'Процессор', 'Промышленное оборудование', 'Освежители воздуха', 'Нож электрический, измельчитель отходов', 'Межкомнатные двери', 'Манеж', 'Кулер для воды', 'Коневодство', 'Комплектующие для мебели', 'Клюшки', 'Кисти косметические', 'Кассовое оборудование', 'Кабель силовой', 'Инкубаторы и овоскопы', 'Изготовление меда', 'Зонт', 'Звуковая карта', 'Зажигалка, грелка и аксессуары', 'Душевые кабины', 'Дистилляторы и комплектующие', 'Грузоподъемное оборудование', 'Гаджеты для животных', 'Водонагреватели', 'Виниловый проигрыватель', 'Аэрография художественная', 'Аксессуары для хоккея', 'Аксессуары для ремонта', 'Эхолот', 'Цветы и растения', 'Фоторамка, альбом', 'Удлинители, сетевые фильтры и адаптеры', 'Турнирная настольная игра', 'Товары для курения', 'Террариум', 'Сумки и органайзеры', 'Стульчики для кормления', 'Стерилизаторы и подогреватели', 'Средства по уходу за спортинвентарем/оружием', 'Спальный мешок', 'Солнечная, ветряная электростанция', 'Системы кормления и поения для с/х животных и птиц', 'Сиденья и комплектующие', 'Садовые укрытия', 'СВЧ', 'Ресницы накладные и для наращивания', 'Развивающие коврики и оборудование для сенсорных комнат', 'Принадлежности для массажного стола, кушетки', 'Полки и стеллажи', 'Подшипники', 'Ортопедические стельки и обувь', 'Ортопедические корсеты и корректоры осанки', 'Оптика', 'Оборудование для пасеки', 'Оборудование для газовой сварки', 'Настенные карты', 'Насадки для аппаратного маникюра', 'Молокоотсосы', 'Мобильные ограждения', 'Мобили и развивающие дуги', 'Мебель для ванной', 'Мебель для бизнеса', 'Материнская плата', 'Маркировка с/х животных и птиц', 'Манекены', 'Лампочка', 'Конверт, коробка', 'Колесный диск', 'Клининговое оборудование', 'Зеркала', 'Елки', 'Домофон', 'Детские качели, шезлонги', 'Детская мебель', 'Декор и лепнина', 'Дегидратор', 'Груши и мешки', 'Графический планшет', 'Вытяжка', 'Входные двери', 'Водоснабжение и инженерная сантехника', 'Вино', 'Видеокарта', 'Велосипеды, беговелы и самокаты', 'Боулинг', 'Блоки строительные', 'Батут и аксессуары', 'Банкетки и пуфы', 'Аптечка', 'Аккумуляторы', 'Аквариумные аксессуары', 'Аквариум', 'АКБ']\n"
          ]
        }
      ],
      "source": [
        "terms = tf.ragged.constant(train_df[\"terms\"].values)\n",
        "lookup = tf.keras.layers.StringLookup(output_mode=\"multi_hot\")\n",
        "lookup.adapt(terms)\n",
        "vocab = lookup.get_vocabulary()\n",
        "\n",
        "\n",
        "def invert_multi_hot(encoded_labels):\n",
        "    \"\"\"Reverse a single multi-hot encoded label to a tuple of vocab terms.\"\"\"\n",
        "    hot_indices = np.argwhere(encoded_labels == 1.0)[..., 0]\n",
        "    return np.take(vocab, hot_indices)\n",
        "\n",
        "\n",
        "print(\"Vocabulary:\\n\")\n",
        "print(vocab)\n"
      ]
    },
    {
      "cell_type": "markdown",
      "metadata": {
        "id": "4tr4UbcPnoiv"
      },
      "source": [
        "Here we are separating the individual unique classes available from the label\n",
        "pool and then using this information to represent a given label set with 0's and 1's.\n",
        "Below is an example."
      ]
    },
    {
      "cell_type": "code",
      "execution_count": 18,
      "metadata": {
        "colab": {
          "base_uri": "https://localhost:8080/"
        },
        "id": "CnDUzIpPnoiv",
        "outputId": "29d45814-29d6-45f3-bb3f-a7484eb7f680"
      },
      "outputs": [
        {
          "name": "stdout",
          "output_type": "stream",
          "text": [
            "Original label: titles        LAZETI Пинцет для бровей профессиональный, руч...\n",
            "summaries     LAZETI Пинцет для бровей профессиональный, руч...\n",
            "terms         [Красота, Инструменты для макияжа, маникюра, б...\n",
            "sku                                                   171726900\n",
            "categoryId                                           17038291.0\n",
            "url           https://www.ozon.ru/product/lazeti-pintset-dly...\n",
            "Name: 454, dtype: object\n"
          ]
        }
      ],
      "source": [
        "sample_label = train_df.iloc[0]\n",
        "print(f\"Original label: {sample_label}\")\n",
        "\n",
        "# label_binarized = lookup([sample_label])\n",
        "# print(f\"Label-binarized representation: {label_binarized}\")"
      ]
    },
    {
      "cell_type": "markdown",
      "metadata": {
        "id": "DqIcyP3Lnoiv"
      },
      "source": [
        "## Data preprocessing and `tf.data.Dataset` objects\n",
        "\n",
        "We first get percentile estimates of the sequence lengths. The purpose will be clear in a\n",
        "moment."
      ]
    },
    {
      "cell_type": "code",
      "execution_count": 19,
      "metadata": {
        "colab": {
          "base_uri": "https://localhost:8080/"
        },
        "id": "mjVTTLO7noiw",
        "outputId": "9e6db06f-ccde-408d-fa62-067e09fe719c"
      },
      "outputs": [
        {
          "data": {
            "text/plain": [
              "count    6162.000000\n",
              "mean      109.497403\n",
              "std        99.491149\n",
              "min         2.000000\n",
              "25%        50.000000\n",
              "50%        88.000000\n",
              "75%       139.000000\n",
              "max      2142.000000\n",
              "Name: summaries, dtype: float64"
            ]
          },
          "execution_count": 19,
          "metadata": {},
          "output_type": "execute_result"
        }
      ],
      "source": [
        "train_df[\"summaries\"].apply(lambda x: len(x.split(\" \"))).describe()"
      ]
    },
    {
      "cell_type": "markdown",
      "metadata": {
        "id": "GasAMIDUnoiw"
      },
      "source": [
        "Notice that 50% of the abstracts have a length of 154 (you may get a different number\n",
        "based on the split). So, any number close to that value is a good enough approximate for the\n",
        "maximum sequence length.\n",
        "\n",
        "Now, we implement utilities to prepare our datasets."
      ]
    },
    {
      "cell_type": "code",
      "execution_count": 20,
      "metadata": {
        "id": "VQh9OalAnoiw"
      },
      "outputs": [],
      "source": [
        "max_seqlen = 150\n",
        "batch_size = 128\n",
        "padding_token = \"<pad>\"\n",
        "auto = tf.data.AUTOTUNE\n",
        "\n",
        "\n",
        "def make_dataset(dataframe, is_train=True):\n",
        "    labels = tf.ragged.constant(dataframe[\"terms\"].values)\n",
        "    label_binarized = lookup(labels).numpy()\n",
        "    dataset = tf.data.Dataset.from_tensor_slices(\n",
        "        (dataframe[\"summaries\"].values, label_binarized)\n",
        "    )\n",
        "    dataset = dataset.shuffle(batch_size * 10) if is_train else dataset\n",
        "    return dataset.batch(batch_size)\n"
      ]
    },
    {
      "cell_type": "markdown",
      "metadata": {
        "id": "ra1idOmxnoiw"
      },
      "source": [
        "Now we can prepare the `tf.data.Dataset` objects."
      ]
    },
    {
      "cell_type": "code",
      "execution_count": 21,
      "metadata": {
        "id": "cyjPhszKnoiw"
      },
      "outputs": [],
      "source": [
        "train_dataset = make_dataset(train_df, is_train=True)\n",
        "validation_dataset = make_dataset(val_df, is_train=False)\n",
        "test_dataset = make_dataset(test_df, is_train=False)"
      ]
    },
    {
      "cell_type": "markdown",
      "metadata": {
        "id": "CGKwS2FQnoiw"
      },
      "source": [
        "## Dataset preview"
      ]
    },
    {
      "cell_type": "code",
      "execution_count": 22,
      "metadata": {
        "colab": {
          "base_uri": "https://localhost:8080/"
        },
        "id": "jp9rg-B1noiw",
        "outputId": "0aa0fc2c-4e14-4bf2-ae0c-752f8f0586ac"
      },
      "outputs": [
        {
          "name": "stdout",
          "output_type": "stream",
          "text": [
            "Abstract: ['Антисептик Neomid 450 огнебиозащитный I группа красный 5 кг Огнебиозащитный пропиточный состав для дерева. Переводит древесину в трудновоспламеняемый и трудногорючий материал, обеспечивая I (первую) группу огнезащитной эффективности. Предназначен для комплексной защиты от огня и биоповреждений деревянных стен, балок, стропильных систем, несущих брусьев, перекрытий, лаг, оконных и дверных блоков, а также других конструкций из древесины, различного назначения. Подходит для наружных и внутренних работ. Срок сохранения огнезащитного эффекта до 7 лет. Срок сохранения биозащитного эффекта до 10 лет.']\n",
            "Label(s): ['Ремонт и строительство' 'Строительная химия']\n",
            " \n",
            "Abstract: [' Matti Мюсли запеченные \"с Орехом и яблоком\" гранола хрустящая 660г (2 х 330г) Матти Мюсли Matti с Орехом и яблоком - хрустящие кранчи мюсли из цельного зерна. Идеальное сочетание злаков, орехов и фруктов. Овсяные хлопья богаты клетчаткой, минеральными веществами и витаминами, которые способствуют нормализации обменных процессов организма. Яблоки - источник пектина, фруктовых кислот,  дарят заряд бодрости и отличного настроения. \\nПосле вскрытия упаковки мюсли готовы к употреблению. По желанию можно добавить молоко, йогурт, сок. ']\n",
            "Label(s): ['Продукты питания' 'Сухие завтраки, снэки, суперфудс']\n",
            " \n",
            "Abstract: ['ВПР Математика 2 класс. Практикум по выполнению типовых заданий. 10 вариантов заданий. Контрольные ответы. ФГОС | Бахтина Светлана Валерьевна, Волкова Елена Валерьевна Данное пособие полностью соответствует федеральному государственному образовательному стандарту (второго поколения) для начальной школы. Книга содержит 10 вариантов типовых заданий Всероссийской проверочной работы (ВПР) за курс 2 класса. Ответы к заданиям являются материалами для учителя, а поэтому даны в середине пособия и могут быть легко изъяты, что повышает объективность оценки знаний учащихся. Сборник предназначен для учащихся 2-х классов начальной школы, учителей и методистов, использующих тесты для подготовки к Всероссийской проверочной работе за курс начальной школы.']\n",
            "Label(s): ['Печатные издания' 'Современная печатная книга']\n",
            " \n",
            "Abstract: ['Тест-система КРИСМАС \"Нитрат-тест\" (20 анализов) / нитратомер / тест на нитраты/ определение нитратов / нитрат-тестер   Применяется при:санитарно-пищевом экспресс-контроле качества продуктов питания, соков и минеральных вод;санитарно-химическом и экологическом экспресс-контроле состава и качества воды, водных растворов, взвесей и суспензий.Любой человек даже в домашних условиях может легко определить количество нитратов в продуктах питания при помощи тест-системы «Нитрат-тест». Для ее использования не требуется специальное образование, а результат будет получен в считанные минуты.Тест-система «Нитрат-тест» является готовым решением, не требует электро- и водоснабжения.На обложке тест-системы «Нитрат-тест» приведена подробная инструкция по ее использованию, обозначен пошаговый алгоритм применения, имеется цветовая контрольная шкала для оценки диапазона содержания количества нитратов в исследуемом образце.Также на обложке тест-системы приведена таблица предельно-допустимых концентраций (ПДК) содержания нитратов в различных видах овощей, фруктов, зелени.Внутри обложки в специальном защитном пакете находится индикаторный элемент – тест-полоска.Количество анализов: 20.Диапазоны измеряемых концентраций: 0-50-200-1000 мг/л.Время срабатывания: от 0,5 до 3-5 мин.Израсходованные рабочие участки не содержат ядовитых и опасных веществ, и утилизируются в общем порядке как хозяйственный бытовой мусор.']\n",
            "Label(s): ['Электроника' 'Гаджет']\n",
            " \n",
            "Abstract: ['Держатель для сенсора FreeStyle Libre и трансмиттера MiaoMiao (фристайл либра и мяо) Поставляется с резинкой в цвет держателя. Держатель изготовлен из безопасного гипоаллергенного PLA пластика, который применяется в медицине и для пищевой упаковки, поэтому не вызывает раздражения и аллергии даже на самой чувствительной коже. Метод изготовления 3d печать. Держатель изготавливается из твердого пластика. Длина резинки 28-30 см, хорошо на руку до 35 см в обхвате. Модель держателя разработана на основании мнений реальных пользователь: имеет минимальные габаритные размеры, все крепления без острых углов, всё скруглено, надёжное крепление на руку, нигде не трёт. Представлены цвета, которые чаще всего спрашивают клиенты. Корпус для фиксации MiaoMiao + Libre. Крепление для Мяо 1 с либра. Браслет на Либру и Мяу. Фиксатор предназначен для крепления сенсора FreeStyle Libre с трансмиттером Miao 1. Сенсор и трансмиттер в комплект не входят.']\n",
            "Label(s): ['Аптека' 'Медицинская техника']\n",
            " \n"
          ]
        }
      ],
      "source": [
        "text_batch, label_batch = next(iter(train_dataset))\n",
        "\n",
        "def decode_string(text):\n",
        "  ints = tf.strings.unicode_decode(text, 'utf-8')\n",
        "  strs = [chr(i) for i in ints]\n",
        "  joined = [''.join(strs)]\n",
        "  return joined\n",
        "\n",
        "for i, text in enumerate(text_batch[:5]):\n",
        "    label = label_batch[i].numpy()[None, ...]\n",
        "    text = decode_string(text)\n",
        "    print(f\"Abstract: {text}\")\n",
        "    print(f\"Label(s): {invert_multi_hot(label[0])}\")\n",
        "    print(\" \")"
      ]
    },
    {
      "cell_type": "markdown",
      "metadata": {
        "id": "ZfKEeNR0noiw"
      },
      "source": [
        "## Vectorization\n",
        "\n",
        "Before we feed the data to our model, we need to vectorize it (represent it in a numerical form).\n",
        "For that purpose, we will use the\n",
        "[`TextVectorization` layer](https://keras.io/api/layers/preprocessing_layers/text/text_vectorization).\n",
        "It can operate as a part of your main model so that the model is excluded from the core\n",
        "preprocessing logic. This greatly reduces the chances of training / serving skew during inference.\n",
        "\n",
        "We first calculate the number of unique words present in the abstracts."
      ]
    },
    {
      "cell_type": "code",
      "execution_count": 23,
      "metadata": {
        "colab": {
          "base_uri": "https://localhost:8080/"
        },
        "id": "hfDtsOQSnoix",
        "outputId": "37bd3c81-f129-4c84-fe58-ead8bfbc7768"
      },
      "outputs": [
        {
          "name": "stdout",
          "output_type": "stream",
          "text": [
            "63382\n"
          ]
        }
      ],
      "source": [
        "import re\n",
        "# Source: https://stackoverflow.com/a/18937309/7636462\n",
        "vocabulary = set()\n",
        "def f(s):\n",
        "  vocabulary.update(re.findall(r'[^\\W\\d_]{3,}', s, re.U)[:64])\n",
        "# train_df['summaries'] = (train_df[\"titles\"] + ' ' + train_df[\"summaries\"]).str.lower().apply(f)\n",
        "train_df['summaries'] = (train_df[\"summaries\"]).str.lower().apply(f)\n",
        "vocabulary_size = len(vocabulary)\n",
        "print(vocabulary_size)\n"
      ]
    },
    {
      "cell_type": "markdown",
      "metadata": {
        "id": "5a1t0dFfnoix"
      },
      "source": [
        "We now create our vectorization layer and `map()` to the `tf.data.Dataset`s created\n",
        "earlier."
      ]
    },
    {
      "cell_type": "code",
      "execution_count": 24,
      "metadata": {
        "colab": {
          "base_uri": "https://localhost:8080/",
          "height": 554
        },
        "id": "uvrH1Rovnoiy",
        "outputId": "a9280ad6-f557-4845-d2f6-cb045d68ba27"
      },
      "outputs": [
        {
          "name": "stdout",
          "output_type": "stream",
          "text": [
            "WARNING:tensorflow:From /home/wgmlgz/miniconda3/envs/tf/lib/python3.9/site-packages/tensorflow/python/autograph/pyct/static_analysis/liveness.py:83: Analyzer.lamba_check (from tensorflow.python.autograph.pyct.static_analysis.liveness) is deprecated and will be removed after 2023-09-23.\n",
            "Instructions for updating:\n",
            "Lambda fuctions will be no more assumed to be used in the statement where they are used, or at least in the same block. https://github.com/tensorflow/tensorflow/issues/56089\n"
          ]
        }
      ],
      "source": [
        "text_vectorizer = layers.TextVectorization(\n",
        "    max_tokens=vocabulary_size, ngrams=2, output_mode=\"tf_idf\"\n",
        ")\n",
        "\n",
        "# `TextVectorization` layer needs to be adapted as per the vocabulary from our\n",
        "# training set.\n",
        "with tf.device(\"/CPU:0\"):\n",
        "    text_vectorizer.adapt(train_dataset.map(lambda text, label: text))\n",
        "\n",
        "train_dataset = train_dataset.map(\n",
        "    lambda text, label: (text_vectorizer(text), label), num_parallel_calls=auto\n",
        ").prefetch(auto)\n",
        "validation_dataset = validation_dataset.map(\n",
        "    lambda text, label: (text_vectorizer(text), label), num_parallel_calls=auto\n",
        ").prefetch(auto)\n",
        "test_dataset = test_dataset.map(\n",
        "    lambda text, label: (text_vectorizer(text), label), num_parallel_calls=auto\n",
        ").prefetch(auto)\n"
      ]
    },
    {
      "cell_type": "markdown",
      "metadata": {
        "id": "rIUuCtoInoiy"
      },
      "source": [
        "A batch of raw text will first go through the `TextVectorization` layer and it will\n",
        "generate their integer representations. Internally, the `TextVectorization` layer will\n",
        "first create bi-grams out of the sequences and then represent them using\n",
        "[TF-IDF](https://wikipedia.org/wiki/Tf%E2%80%93idf). The output representations will then\n",
        "be passed to the shallow model responsible for text classification.\n",
        "\n",
        "To learn more about other possible configurations with `TextVectorizer`, please consult\n",
        "the\n",
        "[official documentation](https://keras.io/api/layers/preprocessing_layers/text/text_vectorization).\n",
        "\n",
        "**Note**: Setting the `max_tokens` argument to a pre-calculated vocabulary size is\n",
        "not a requirement."
      ]
    },
    {
      "cell_type": "markdown",
      "metadata": {
        "id": "iWzwinEKnoiy"
      },
      "source": [
        "## Create a text classification model\n",
        "\n",
        "We will keep our model simple -- it will be a small stack of fully-connected layers with\n",
        "ReLU as the non-linearity."
      ]
    },
    {
      "cell_type": "code",
      "execution_count": 25,
      "metadata": {
        "id": "m-XEOCiDnoiy"
      },
      "outputs": [],
      "source": [
        "\n",
        "def make_model():\n",
        "    shallow_mlp_model = keras.Sequential(\n",
        "        [\n",
        "            layers.Dense(512, activation=\"relu\"),\n",
        "            layers.Dense(512, activation=\"relu\"),\n",
        "            layers.Dense(lookup.vocabulary_size(), activation=\"sigmoid\"),\n",
        "        ]  # More on why \"sigmoid\" has been used here in a moment.\n",
        "    )\n",
        "    return shallow_mlp_model\n"
      ]
    },
    {
      "cell_type": "markdown",
      "metadata": {
        "id": "uoopxxYxnoiy"
      },
      "source": [
        "## Train the model\n",
        "\n",
        "We will train our model using the binary crossentropy loss. This is because the labels\n",
        "are not disjoint. For a given abstract, we may have multiple categories. So, we will\n",
        "divide the prediction task into a series of multiple binary classification problems. This\n",
        "is also why we kept the activation function of the classification layer in our model to\n",
        "sigmoid. Researchers have used other combinations of loss function and activation\n",
        "function as well. For example, in\n",
        "[Exploring the Limits of Weakly Supervised Pretraining](https://arxiv.org/abs/1805.00932),\n",
        "Mahajan et al. used the softmax activation function and cross-entropy loss to train\n",
        "their models."
      ]
    },
    {
      "cell_type": "code",
      "execution_count": 26,
      "metadata": {
        "id": "r572QcYFnoiz"
      },
      "outputs": [
        {
          "name": "stdout",
          "output_type": "stream",
          "text": [
            "Num GPUs Available:  1\n",
            "Epoch 1/15\n"
          ]
        },
        {
          "name": "stderr",
          "output_type": "stream",
          "text": [
            "2022-11-29 00:59:47.381129: I tensorflow/compiler/xla/stream_executor/cuda/cuda_blas.cc:630] TensorFloat-32 will be used for the matrix multiplication. This will only be logged once.\n",
            "2022-11-29 00:59:47.465915: I tensorflow/compiler/xla/service/service.cc:173] XLA service 0x7f18b0721140 initialized for platform CUDA (this does not guarantee that XLA will be used). Devices:\n",
            "2022-11-29 00:59:47.465963: I tensorflow/compiler/xla/service/service.cc:181]   StreamExecutor device (0): NVIDIA GeForce RTX 3060 Ti, Compute Capability 8.6\n",
            "2022-11-29 00:59:47.514587: I tensorflow/compiler/mlir/tensorflow/utils/dump_mlir_util.cc:268] disabling MLIR crash reproducer, set env var `MLIR_CRASH_REPRODUCER_DIRECTORY` to enable.\n",
            "2022-11-29 00:59:47.885129: I tensorflow/tsl/platform/default/subprocess.cc:304] Start cannot spawn child process: No such file or directory\n",
            "2022-11-29 00:59:48.011960: I tensorflow/compiler/jit/xla_compilation_cache.cc:477] Compiled cluster using XLA!  This line is logged at most once for the lifetime of the process.\n"
          ]
        },
        {
          "name": "stdout",
          "output_type": "stream",
          "text": [
            "49/49 [==============================] - 5s 21ms/step - loss: 0.1033 - categorical_accuracy: 0.2465 - val_loss: 0.0353 - val_categorical_accuracy: 0.4474\n",
            "Epoch 2/15\n",
            "49/49 [==============================] - 1s 16ms/step - loss: 0.0197 - categorical_accuracy: 0.8020 - val_loss: 0.0236 - val_categorical_accuracy: 0.6374\n",
            "Epoch 3/15\n",
            "49/49 [==============================] - 1s 17ms/step - loss: 0.0066 - categorical_accuracy: 0.8257 - val_loss: 0.0210 - val_categorical_accuracy: 0.7164\n",
            "Epoch 4/15\n",
            "49/49 [==============================] - 1s 16ms/step - loss: 0.0026 - categorical_accuracy: 0.8376 - val_loss: 0.0215 - val_categorical_accuracy: 0.6871\n",
            "Epoch 5/15\n",
            "49/49 [==============================] - 1s 16ms/step - loss: 0.0012 - categorical_accuracy: 0.8622 - val_loss: 0.0229 - val_categorical_accuracy: 0.6930\n",
            "Epoch 6/15\n",
            "49/49 [==============================] - 1s 17ms/step - loss: 6.8204e-04 - categorical_accuracy: 0.8742 - val_loss: 0.0256 - val_categorical_accuracy: 0.7105\n",
            "Epoch 7/15\n",
            "49/49 [==============================] - 1s 17ms/step - loss: 4.2826e-04 - categorical_accuracy: 0.8969 - val_loss: 0.0278 - val_categorical_accuracy: 0.7018\n",
            "Epoch 8/15\n",
            "49/49 [==============================] - 1s 17ms/step - loss: 2.8921e-04 - categorical_accuracy: 0.9114 - val_loss: 0.0272 - val_categorical_accuracy: 0.6930\n",
            "Epoch 9/15\n",
            "49/49 [==============================] - 1s 16ms/step - loss: 2.0487e-04 - categorical_accuracy: 0.9205 - val_loss: 0.0303 - val_categorical_accuracy: 0.6959\n",
            "Epoch 10/15\n",
            "49/49 [==============================] - 1s 16ms/step - loss: 1.5158e-04 - categorical_accuracy: 0.9203 - val_loss: 0.0323 - val_categorical_accuracy: 0.7047\n",
            "Epoch 11/15\n",
            "49/49 [==============================] - 1s 18ms/step - loss: 1.1661e-04 - categorical_accuracy: 0.9292 - val_loss: 0.0336 - val_categorical_accuracy: 0.7018\n",
            "Epoch 12/15\n",
            "49/49 [==============================] - 1s 17ms/step - loss: 9.0786e-05 - categorical_accuracy: 0.9317 - val_loss: 0.0365 - val_categorical_accuracy: 0.7047\n",
            "Epoch 13/15\n",
            "49/49 [==============================] - 1s 16ms/step - loss: 7.3388e-05 - categorical_accuracy: 0.9333 - val_loss: 0.0365 - val_categorical_accuracy: 0.6959\n",
            "Epoch 14/15\n",
            "49/49 [==============================] - 1s 16ms/step - loss: 6.1568e-05 - categorical_accuracy: 0.9370 - val_loss: 0.0383 - val_categorical_accuracy: 0.7047\n",
            "Epoch 15/15\n",
            "49/49 [==============================] - 1s 17ms/step - loss: 5.1665e-05 - categorical_accuracy: 0.9426 - val_loss: 0.0360 - val_categorical_accuracy: 0.7018\n"
          ]
        },
        {
          "data": {
            "image/png": "[encoded data removed]",
            "text/plain": [
              "<Figure size 640x480 with 1 Axes>"
            ]
          },
          "metadata": {},
          "output_type": "display_data"
        },
        {
          "data": {
            "image/png": "[encoded data removed]",
            "text/plain": [
              "<Figure size 640x480 with 1 Axes>"
            ]
          },
          "metadata": {},
          "output_type": "display_data"
        }
      ],
      "source": [
        "print(\"Num GPUs Available: \", len(tf.config.list_physical_devices('GPU')))\n",
        "\n",
        "epochs = 15\n",
        "\n",
        "shallow_mlp_model = make_model()\n",
        "shallow_mlp_model.compile(\n",
        "    loss=\"binary_crossentropy\", optimizer=\"adam\", metrics=[\"categorical_accuracy\"]\n",
        ")\n",
        "\n",
        "history = shallow_mlp_model.fit(\n",
        "    train_dataset, validation_data=validation_dataset, epochs=epochs\n",
        ")\n",
        "\n",
        "\n",
        "def plot_result(item):\n",
        "    plt.plot(history.history[item], label=item)\n",
        "    plt.plot(history.history[\"val_\" + item], label=\"val_\" + item)\n",
        "    plt.xlabel(\"Epochs\")\n",
        "    plt.ylabel(item)\n",
        "    plt.title(\"Train and Validation {} Over Epochs\".format(item), fontsize=14)\n",
        "    plt.legend()\n",
        "    plt.grid()\n",
        "    plt.show()\n",
        "\n",
        "\n",
        "plot_result(\"loss\")\n",
        "plot_result(\"categorical_accuracy\")"
      ]
    },
    {
      "cell_type": "markdown",
      "metadata": {
        "id": "UxQEVheNnoiz"
      },
      "source": [
        "While training, we notice an initial sharp fall in the loss followed by a gradual decay."
      ]
    },
    {
      "cell_type": "markdown",
      "metadata": {
        "id": "IXqnfKr1noiz"
      },
      "source": [
        "### Evaluate the model"
      ]
    },
    {
      "cell_type": "code",
      "execution_count": 27,
      "metadata": {
        "id": "g-PpqCb_noiz"
      },
      "outputs": [
        {
          "name": "stdout",
          "output_type": "stream",
          "text": [
            "3/3 [==============================] - 0s 11ms/step - loss: 0.0396 - categorical_accuracy: 0.6968\n",
            "Categorical accuracy on the test set: 69.68%.\n"
          ]
        }
      ],
      "source": [
        "_, categorical_acc = shallow_mlp_model.evaluate(test_dataset)\n",
        "print(f\"Categorical accuracy on the test set: {round(categorical_acc * 100, 2)}%.\")"
      ]
    },
    {
      "cell_type": "markdown",
      "metadata": {
        "id": "bLkS-SB2noiz"
      },
      "source": [
        "The trained model gives us an evaluation accuracy of ~87%."
      ]
    },
    {
      "cell_type": "markdown",
      "metadata": {
        "id": "UZRrPtkjnoiz"
      },
      "source": [
        "## Inference\n",
        "\n",
        "An important feature of the\n",
        "[preprocessing layers provided by Keras](https://keras.io/guides/preprocessing_layers/)\n",
        "is that they can be included inside a `tf.keras.Model`. We will export an inference model\n",
        "by including the `text_vectorization` layer on top of `shallow_mlp_model`. This will\n",
        "allow our inference model to directly operate on raw strings.\n",
        "\n",
        "**Note** that during training it is always preferable to use these preprocessing\n",
        "layers as a part of the data input pipeline rather than the model to avoid\n",
        "surfacing bottlenecks for the hardware accelerators. This also allows for\n",
        "asynchronous data processing."
      ]
    },
    {
      "cell_type": "code",
      "execution_count": 28,
      "metadata": {
        "id": "Fsc464p4noiz"
      },
      "outputs": [
        {
          "name": "stdout",
          "output_type": "stream",
          "text": [
            "4/4 [==============================] - 0s 7ms/step\n",
            "Abstract: ['Мягкие самоклеящиеся панели для стен/обои самоклеящиеся/LAKO DECOR/коллекция Классический кирпич, цвет Кофе, 70x77см, толщина 5мм Самоклеящиеся мягкие панели LAKO DECOR позволяют легко и быстро сделать косметический ремонт своими руками. Они подходят для декора стен, потолков и зонирования пространства, надёжно маскируют небольшие дефекты поверхностей. Объёмные 3D-панели удивительно просты в использовании: отделите защитный слой и прижмите клейкой стороной к поверхности! На монтаж одного блока у вас уйдёт несколько минут. Создавайте интерьеры любого стиля! LAKO DECOR предоставляет широкую линейку фактур: панели под кирпич, камень, дерево и др. Толщина – от 5 до 10 мм, в зависимости от модели. Самоклеящиеся панели изготовлены из качественных полимерных материалов, которые не имеют неприятного запаха. Они легко моются водой и спиртовыми растворами, обеспечивают дополнительную звукоизоляцию и теплоизоляцию, устойчивы к появлению плесени. Повреждённый блок можно легко заменить.Толщина панели - 5 мм.Коллекция - Классический кирпич.Цвет - Кофе.']\n",
            "Label(s): ['Ремонт и строительство' 'Стеновые панели']\n",
            "Predicted Label(s): (0.45214567 Ремонт и строительство, 3.1741016e-05 Дом и сад, 4.4995563e-06 Стеновые панели)\n",
            " \n",
            "Abstract: ['Ледоходы на обувь мужские / Ледоступы на обувь с шипами/ Ледоступы для обуви / Шипы на обувь / Антигололед / универсальный размер (37-45) 5 шипов  Ледоходы надёжно крепятся на обувь благодаря резиновым петлям и предотвращают скольжение при ходьбе. Это особенно актуально при гололедице, когда риск получить травму при падении значительно возрастает. Характеристики: Легко снимаются и надеваются на любую обувь (даже с каблуком!) благодаря эластичной морозоустойчивой резине. Не смещаются и не слетают с обуви при ходьбе. В конструкции каждого ледохода 5 шипов, предотвращающих скольжение обуви. Они прикреплены к основе по типу заклёпки и не вылетают со временем. На подошву ледоходов нанесён рисунок-протектор для обеспечения ещё большей устойчивости на льду. Ледоходы надеваются маленькой петлёй на носок обуви, большой петлёй — на пятку, практически не заметны на обуви.']\n",
            "Label(s): ['Галантерея и украшения' 'Товары для обуви, одежды']\n",
            "Predicted Label(s): (0.011320349 Обувь, 1.060832e-05 Повседневная обувь, 5.9738304e-06 Галантерея и украшения)\n",
            " \n",
            "Abstract: ['Джемпер Nota Bene Премиум Серия Джемпер-обманка для мальчика из футера 2-х нитки с лайкрой.Плотная трикотажная ткань премиального качества не теряет цвет и форму после стирки, не скатывается. Джемпер для мальчика с длинным рукавом имеет прямой фасон, не сковывает движений. Хлопковая ткань детского кардигана очень мягкая и уютная. Джемпер обманка подойдет как для детей 7, 8, 9, 10, 11, 12 лет, так и для подростков 13, 14, 15, 16, 17 лет.Джемпер для мальчиков подростков подойдет как повседневный вариант, а также для посещения школы.Качественный пошив и современный дизайн изделий Nota bene порадуют Вашего ребенка!']\n",
            "Label(s): ['Одежда']\n",
            "Predicted Label(s): (0.9994899 Одежда, 4.4913642e-05 Ремонт и строительство, 5.906261e-06 Детские товары)\n",
            " \n",
            "Abstract: ['Подарочный набор №1 \"Жизнь Алтая\", Мёд натуральный Подарочный набор № 1 \"Жизнь Алтая\" - это настоящий, экологически чистый, вкусный и полезный мед из Алтая. Набор состоит из двух фирменных баночек по 600гр.натурального меда в подарочной упаковке из настоящего дерева в виде почтового ящика с сургучной печатью и поздравительной открытки.']\n",
            "Label(s): ['Продукты питания' 'Консервы и заготовки']\n",
            "Predicted Label(s): (0.6563708 Продукты питания, 0.0074460143 Дом и сад, 0.004238543 Напитки)\n",
            " \n",
            "Abstract: ['Светильник для швейной машины TD-10 (0.5W, 100-240V) Светодиодный светильник с 10-ю светодиодами для любого типа швейных машин. В упаковке 1 штука.']\n",
            "Label(s): ['Бытовая техника' 'Запчасти, аксессуары']\n",
            "Predicted Label(s): (0.04156359 Дом и сад, 0.026650663 Бытовая техника, 0.008538888 Запчасти, аксессуары)\n",
            " \n"
          ]
        }
      ],
      "source": [
        "# Create a model for inference.\n",
        "model_for_inference = keras.Sequential([text_vectorizer, shallow_mlp_model])\n",
        "\n",
        "# Create a small dataset just for demoing inference.\n",
        "inference_dataset = make_dataset(test_df.sample(100), is_train=False)\n",
        "text_batch, label_batch = next(iter(inference_dataset))\n",
        "predicted_probabilities = model_for_inference.predict(text_batch)\n",
        "\n",
        "# Perform inference.\n",
        "for i, text in enumerate(text_batch[:5]):\n",
        "    label = label_batch[i].numpy()[None, ...]\n",
        "    print(f\"Abstract: {decode_string(text)}\")\n",
        "    print(f\"Label(s): {invert_multi_hot(label[0])}\")\n",
        "    predicted_proba = [proba for proba in predicted_probabilities[i]]\n",
        "    top_3_labels = [\n",
        "        (a,\n",
        "        x)\n",
        "        for a, x in sorted(\n",
        "            zip(predicted_probabilities[i], lookup.get_vocabulary()),\n",
        "            key=lambda pair: pair[0],\n",
        "            reverse=True,\n",
        "        )\n",
        "    ][:3]\n",
        "    print(f\"Predicted Label(s): ({', '.join([str(x) + ' ' + label for x, label in top_3_labels])})\")\n",
        "    print(\" \")"
      ]
    },
    {
      "cell_type": "markdown",
      "metadata": {
        "id": "mWuf19YAnoiz"
      },
      "source": [
        "The prediction results are not that great but not below the par for a simple model like\n",
        "ours. We can improve this performance with models that consider word order like LSTM or\n",
        "even those that use Transformers ([Vaswani et al.](https://arxiv.org/abs/1706.03762))."
      ]
    },
    {
      "cell_type": "markdown",
      "metadata": {
        "id": "nMSfJe04noiz"
      },
      "source": [
        "## Acknowledgements\n",
        "\n",
        "We would like to thank [Matt Watson](https://github.com/mattdangerw) for helping us\n",
        "tackle the multi-label binarization part and inverse-transforming the processed labels\n",
        "to the original form."
      ]
    }
  ],
  "metadata": {
    "colab": {
      "provenance": [],
      "toc_visible": true
    },
    "kernelspec": {
      "display_name": "Python 3.9.15 ('tf')",
      "language": "python",
      "name": "python3"
    },
    "language_info": {
      "codemirror_mode": {
        "name": "ipython",
        "version": 3
      },
      "file_extension": ".py",
      "mimetype": "text/x-python",
      "name": "python",
      "nbconvert_exporter": "python",
      "pygments_lexer": "ipython3",
      "version": "3.9.15"
    },
    "vscode": {
      "interpreter": {
        "hash": "f43180d05560caf0c50407b9399e35ee6ff25cc3ad4882c4cf58013a5957b9ef"
      }
    }
  },
  "nbformat": 4,
  "nbformat_minor": 0
}
