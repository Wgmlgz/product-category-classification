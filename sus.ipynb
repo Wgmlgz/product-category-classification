{
  "cells": [
    {
      "cell_type": "markdown",
      "metadata": {
        "id": "s7Mun0I2noil"
      },
      "source": [
        "# Large-scale multi-label text classification\n",
        "\n",
        "**Author:** [Sayak Paul](https://twitter.com/RisingSayak), [Soumik Rakshit](https://github.com/soumik12345)<br>\n",
        "**Date created:** 2020/09/25<br>\n",
        "**Last modified:** 2020/12/23<br>\n",
        "**Description:** Implementing a large-scale multi-label text classification model."
      ]
    },
    {
      "cell_type": "markdown",
      "metadata": {
        "id": "PVocFOzDnoip"
      },
      "source": [
        "## Introduction\n",
        "\n",
        "In this example, we will build a multi-label text classifier to predict the subject areas\n",
        "of arXiv papers from their abstract bodies. This type of classifier can be useful for\n",
        "conference submission portals like [OpenReview](https://openreview.net/). Given a paper\n",
        "abstract, the portal could provide suggestions for which areas the paper would\n",
        "best belong to.\n",
        "\n",
        "The dataset was collected using the\n",
        "[`arXiv` Python library](https://github.com/lukasschwab/arxiv.py)\n",
        "that provides a wrapper around the\n",
        "[original arXiv API](http://arxiv.org/help/api/index).\n",
        "To learn more about the data collection process, please refer to\n",
        "[this notebook](https://github.com/soumik12345/multi-label-text-classification/blob/master/arxiv_scrape.ipynb).\n",
        "Additionally, you can also find the dataset on\n",
        "[Kaggle](https://www.kaggle.com/spsayakpaul/arxiv-paper-abstracts)."
      ]
    },
    {
      "cell_type": "markdown",
      "metadata": {
        "id": "6UtWxZ7Cnoip"
      },
      "source": [
        "## Imports"
      ]
    },
    {
      "cell_type": "code",
      "execution_count": 1,
      "metadata": {
        "id": "6hS9C7Xsnoiq"
      },
      "outputs": [],
      "source": [
        "from tensorflow.keras import layers\n",
        "from tensorflow import keras\n",
        "import tensorflow as tf\n",
        "\n",
        "from sklearn.model_selection import train_test_split\n",
        "from ast import literal_eval\n",
        "\n",
        "import matplotlib.pyplot as plt\n",
        "import pandas as pd\n",
        "import numpy as np"
      ]
    },
    {
      "cell_type": "markdown",
      "metadata": {
        "id": "SYCf1-9Rnoir"
      },
      "source": [
        "## Perform exploratory data analysis\n",
        "\n",
        "In this section, we first load the dataset into a `pandas` dataframe and then perform\n",
        "some basic exploratory data analysis (EDA)."
      ]
    },
    {
      "cell_type": "code",
      "execution_count": 2,
      "metadata": {
        "colab": {
          "base_uri": "https://localhost:8080/",
          "height": 206
        },
        "id": "LmNPCB3dnoir",
        "outputId": "a7872e68-486c-48fd-838d-a41ca34ae16b"
      },
      "outputs": [
        {
          "data": {
            "text/html": [
              "<div>\n",
              "<style scoped>\n",
              "    .dataframe tbody tr th:only-of-type {\n",
              "        vertical-align: middle;\n",
              "    }\n",
              "\n",
              "    .dataframe tbody tr th {\n",
              "        vertical-align: top;\n",
              "    }\n",
              "\n",
              "    .dataframe thead th {\n",
              "        text-align: right;\n",
              "    }\n",
              "</style>\n",
              "<table border=\"1\" class=\"dataframe\">\n",
              "  <thead>\n",
              "    <tr style=\"text-align: right;\">\n",
              "      <th></th>\n",
              "      <th>titles</th>\n",
              "      <th>summaries</th>\n",
              "      <th>terms</th>\n",
              "    </tr>\n",
              "  </thead>\n",
              "  <tbody>\n",
              "    <tr>\n",
              "      <th>0</th>\n",
              "      <td>Survey on Semantic Stereo Matching / Semantic ...</td>\n",
              "      <td>Stereo matching is one of the widely used tech...</td>\n",
              "      <td>['cs.CV', 'cs.LG']</td>\n",
              "    </tr>\n",
              "    <tr>\n",
              "      <th>1</th>\n",
              "      <td>FUTURE-AI: Guiding Principles and Consensus Re...</td>\n",
              "      <td>The recent advancements in artificial intellig...</td>\n",
              "      <td>['cs.CV', 'cs.AI', 'cs.LG']</td>\n",
              "    </tr>\n",
              "    <tr>\n",
              "      <th>2</th>\n",
              "      <td>Enforcing Mutual Consistency of Hard Regions f...</td>\n",
              "      <td>In this paper, we proposed a novel mutual cons...</td>\n",
              "      <td>['cs.CV', 'cs.AI']</td>\n",
              "    </tr>\n",
              "    <tr>\n",
              "      <th>3</th>\n",
              "      <td>Parameter Decoupling Strategy for Semi-supervi...</td>\n",
              "      <td>Consistency training has proven to be an advan...</td>\n",
              "      <td>['cs.CV']</td>\n",
              "    </tr>\n",
              "    <tr>\n",
              "      <th>4</th>\n",
              "      <td>Background-Foreground Segmentation for Interio...</td>\n",
              "      <td>To ensure safety in automated driving, the cor...</td>\n",
              "      <td>['cs.CV', 'cs.LG']</td>\n",
              "    </tr>\n",
              "  </tbody>\n",
              "</table>\n",
              "</div>"
            ],
            "text/plain": [
              "                                              titles  \\\n",
              "0  Survey on Semantic Stereo Matching / Semantic ...   \n",
              "1  FUTURE-AI: Guiding Principles and Consensus Re...   \n",
              "2  Enforcing Mutual Consistency of Hard Regions f...   \n",
              "3  Parameter Decoupling Strategy for Semi-supervi...   \n",
              "4  Background-Foreground Segmentation for Interio...   \n",
              "\n",
              "                                           summaries  \\\n",
              "0  Stereo matching is one of the widely used tech...   \n",
              "1  The recent advancements in artificial intellig...   \n",
              "2  In this paper, we proposed a novel mutual cons...   \n",
              "3  Consistency training has proven to be an advan...   \n",
              "4  To ensure safety in automated driving, the cor...   \n",
              "\n",
              "                         terms  \n",
              "0           ['cs.CV', 'cs.LG']  \n",
              "1  ['cs.CV', 'cs.AI', 'cs.LG']  \n",
              "2           ['cs.CV', 'cs.AI']  \n",
              "3                    ['cs.CV']  \n",
              "4           ['cs.CV', 'cs.LG']  "
            ]
          },
          "execution_count": 2,
          "metadata": {},
          "output_type": "execute_result"
        }
      ],
      "source": [
        "arxiv_data = pd.read_csv(\n",
        "    \"https://github.com/soumik12345/multi-label-text-classification/releases/download/v0.2/arxiv_data.csv\"\n",
        ")\n",
        "arxiv_data.head()"
      ]
    },
    {
      "cell_type": "markdown",
      "metadata": {
        "id": "QNxFbKH0noir"
      },
      "source": [
        "Our text features are present in the `summaries` column and their corresponding labels\n",
        "are in `terms`. As you can notice, there are multiple categories associated with a\n",
        "particular entry."
      ]
    },
    {
      "cell_type": "code",
      "execution_count": 22,
      "metadata": {},
      "outputs": [
        {
          "data": {
            "text/html": [
              "<div>\n",
              "<style scoped>\n",
              "    .dataframe tbody tr th:only-of-type {\n",
              "        vertical-align: middle;\n",
              "    }\n",
              "\n",
              "    .dataframe tbody tr th {\n",
              "        vertical-align: top;\n",
              "    }\n",
              "\n",
              "    .dataframe thead th {\n",
              "        text-align: right;\n",
              "    }\n",
              "</style>\n",
              "<table border=\"1\" class=\"dataframe\">\n",
              "  <thead>\n",
              "    <tr style=\"text-align: right;\">\n",
              "      <th></th>\n",
              "      <th>titles</th>\n",
              "      <th>summaries</th>\n",
              "      <th>terms</th>\n",
              "    </tr>\n",
              "  </thead>\n",
              "  <tbody>\n",
              "    <tr>\n",
              "      <th>0</th>\n",
              "      <td>Нож для яблок Яблокорезка Прибор для удаления ...</td>\n",
              "      <td>Удалитель у яблок предназначен для аккуратного...</td>\n",
              "      <td>['Дом и сад', 'Посуда']</td>\n",
              "    </tr>\n",
              "    <tr>\n",
              "      <th>1</th>\n",
              "      <td>Набор доктора игровой 2550 \"Волшебная аптечка\"...</td>\n",
              "      <td>• В наборе медицинские инструменты (25 предмет...</td>\n",
              "      <td>['Детские товары', 'Игрушки и игры']</td>\n",
              "    </tr>\n",
              "    <tr>\n",
              "      <th>2</th>\n",
              "      <td>Икона Святитель Николай Чудотворец</td>\n",
              "      <td>Святитель Николай Мирликийский, или как его ещ...</td>\n",
              "      <td>['Дом и сад', 'Авторские товары ручной работы']</td>\n",
              "    </tr>\n",
              "    <tr>\n",
              "      <th>3</th>\n",
              "      <td>Сухое молоко цельное 1000г, 1 кг</td>\n",
              "      <td>сухое молоко цельное 1 кг</td>\n",
              "      <td>['Продукты питания', 'Масла, соусы, специи']</td>\n",
              "    </tr>\n",
              "    <tr>\n",
              "      <th>4</th>\n",
              "      <td>Мука ржаная цельнозерновая из био зерна, рожь,...</td>\n",
              "      <td>Рожь для этой муки была выращена без использов...</td>\n",
              "      <td>['Продукты питания', 'Макароны, крупы, мука']</td>\n",
              "    </tr>\n",
              "  </tbody>\n",
              "</table>\n",
              "</div>"
            ],
            "text/plain": [
              "                                              titles  \\\n",
              "0  Нож для яблок Яблокорезка Прибор для удаления ...   \n",
              "1  Набор доктора игровой 2550 \"Волшебная аптечка\"...   \n",
              "2                 Икона Святитель Николай Чудотворец   \n",
              "3                   Сухое молоко цельное 1000г, 1 кг   \n",
              "4  Мука ржаная цельнозерновая из био зерна, рожь,...   \n",
              "\n",
              "                                           summaries  \\\n",
              "0  Удалитель у яблок предназначен для аккуратного...   \n",
              "1  • В наборе медицинские инструменты (25 предмет...   \n",
              "2  Святитель Николай Мирликийский, или как его ещ...   \n",
              "3                          сухое молоко цельное 1 кг   \n",
              "4  Рожь для этой муки была выращена без использов...   \n",
              "\n",
              "                                             terms  \n",
              "0                          ['Дом и сад', 'Посуда']  \n",
              "1             ['Детские товары', 'Игрушки и игры']  \n",
              "2  ['Дом и сад', 'Авторские товары ручной работы']  \n",
              "3     ['Продукты питания', 'Масла, соусы, специи']  \n",
              "4    ['Продукты питания', 'Макароны, крупы, мука']  "
            ]
          },
          "execution_count": 22,
          "metadata": {},
          "output_type": "execute_result"
        }
      ],
      "source": [
        "import json\n",
        "\n",
        "\n",
        "def prepare_json(path: str, out_path: str):\n",
        "    obj = json.loads(open(path, 'r', encoding='utf-8').read())\n",
        "    data = []\n",
        "    for key in obj:\n",
        "        row = obj[key]\n",
        "        if row['title'] is not None and row['description'] is not None and row['category'] is not None and row['hierarchy'] is not None:\n",
        "            if row['title'].strip() != '' and row['description'].strip() != '' and row['category'].strip() != '' and row['hierarchy'].strip() != '':\n",
        "                row['category'] = str(row['hierarchy'].split('/')[:2])\n",
        "                \n",
        "                data.append(obj[key])\n",
        "    \n",
        "    df = pd.json_normalize(data)\n",
        "    df = df.rename(columns={\"title\": \"titles\", \"category\": \"terms\", 'description': 'summaries'})\n",
        "    df = df[['titles', 'summaries', 'terms']]\n",
        "    df.to_csv(out_path)\n",
        "    return df\n",
        "\n",
        "arxiv_data = prepare_json('./parse/products_data/found.json', './dataset.csv')\n",
        "arxiv_data.head()"
      ]
    },
    {
      "cell_type": "code",
      "execution_count": 23,
      "metadata": {
        "colab": {
          "base_uri": "https://localhost:8080/"
        },
        "id": "9Z2vjelWnois",
        "outputId": "bacb0ee5-5c1c-4991-c63a-11a3287e4835"
      },
      "outputs": [
        {
          "name": "stdout",
          "output_type": "stream",
          "text": [
            "There are 9628 rows in the dataset.\n"
          ]
        }
      ],
      "source": [
        "print(f\"There are {len(arxiv_data)} rows in the dataset.\")"
      ]
    },
    {
      "cell_type": "markdown",
      "metadata": {
        "id": "3pBt0L4qnois"
      },
      "source": [
        "Real-world data is noisy. One of the most commonly observed source of noise is data\n",
        "duplication. Here we notice that our initial dataset has got about 13k duplicate entries."
      ]
    },
    {
      "cell_type": "code",
      "execution_count": 24,
      "metadata": {
        "colab": {
          "base_uri": "https://localhost:8080/"
        },
        "id": "ONwBQPZsnoit",
        "outputId": "11c80827-daee-468a-d15e-31e507e54c86"
      },
      "outputs": [
        {
          "name": "stdout",
          "output_type": "stream",
          "text": [
            "There are 150 duplicate titles.\n"
          ]
        }
      ],
      "source": [
        "total_duplicate_titles = sum(arxiv_data[\"titles\"].duplicated())\n",
        "print(f\"There are {total_duplicate_titles} duplicate titles.\")"
      ]
    },
    {
      "cell_type": "markdown",
      "metadata": {
        "id": "dhNfHwIrnoit"
      },
      "source": [
        "Before proceeding further, we drop these entries."
      ]
    },
    {
      "cell_type": "code",
      "execution_count": 25,
      "metadata": {
        "colab": {
          "base_uri": "https://localhost:8080/"
        },
        "id": "ujU1vXfBnoit",
        "outputId": "275d7e2f-0a09-401b-cbd5-1d4b17bdd2b6"
      },
      "outputs": [
        {
          "name": "stdout",
          "output_type": "stream",
          "text": [
            "There are 9478 rows in the deduplicated dataset.\n",
            "30\n",
            "256\n"
          ]
        }
      ],
      "source": [
        "arxiv_data = arxiv_data[~arxiv_data[\"titles\"].duplicated()]\n",
        "print(f\"There are {len(arxiv_data)} rows in the deduplicated dataset.\")\n",
        "\n",
        "# There are some terms with occurrence as low as 1.\n",
        "print(sum(arxiv_data[\"terms\"].value_counts() == 1))\n",
        "\n",
        "# How many unique terms?\n",
        "print(arxiv_data[\"terms\"].nunique())"
      ]
    },
    {
      "cell_type": "markdown",
      "metadata": {
        "id": "IjhKxAsjnoit"
      },
      "source": [
        "As observed above, out of 3,157 unique combinations of `terms`, 2,321 entries have the\n",
        "lowest occurrence. To prepare our train, validation, and test sets with\n",
        "[stratification](https://en.wikipedia.org/wiki/Stratified_sampling), we need to drop\n",
        "these terms."
      ]
    },
    {
      "cell_type": "code",
      "execution_count": 26,
      "metadata": {
        "colab": {
          "base_uri": "https://localhost:8080/"
        },
        "id": "v1QroBU_noiu",
        "outputId": "bd2bbab2-1426-404a-fa0d-068289d7c5f5"
      },
      "outputs": [
        {
          "data": {
            "text/plain": [
              "(9448, 3)"
            ]
          },
          "execution_count": 26,
          "metadata": {},
          "output_type": "execute_result"
        }
      ],
      "source": [
        "# Filtering the rare terms.\n",
        "arxiv_data_filtered = arxiv_data.groupby(\"terms\").filter(lambda x: len(x) > 1)\n",
        "arxiv_data_filtered.shape"
      ]
    },
    {
      "cell_type": "markdown",
      "metadata": {
        "id": "xijXk2LLnoiu"
      },
      "source": [
        "## Convert the string labels to lists of strings\n",
        "\n",
        "The initial labels are represented as raw strings. Here we make them `List[str]` for a\n",
        "more compact representation."
      ]
    },
    {
      "cell_type": "code",
      "execution_count": 27,
      "metadata": {
        "colab": {
          "base_uri": "https://localhost:8080/"
        },
        "id": "la2j7QYSnoiu",
        "outputId": "5d6f0844-a6bc-475d-d6c3-8f0ae42badd3"
      },
      "outputs": [
        {
          "data": {
            "text/plain": [
              "array([list(['Дом и сад', 'Посуда']),\n",
              "       list(['Детские товары', 'Игрушки и игры']),\n",
              "       list(['Дом и сад', 'Авторские товары ручной работы']),\n",
              "       list(['Продукты питания', 'Масла, соусы, специи']),\n",
              "       list(['Продукты питания', 'Макароны, крупы, мука'])], dtype=object)"
            ]
          },
          "execution_count": 27,
          "metadata": {},
          "output_type": "execute_result"
        }
      ],
      "source": [
        "arxiv_data_filtered[\"terms\"] = arxiv_data_filtered[\"terms\"].apply(\n",
        "    lambda x: literal_eval(x)\n",
        ")\n",
        "arxiv_data_filtered[\"terms\"].values[:5]"
      ]
    },
    {
      "cell_type": "markdown",
      "metadata": {
        "id": "arhuTIOMnoiu"
      },
      "source": [
        "## Use stratified splits because of class imbalance\n",
        "\n",
        "The dataset has a\n",
        "[class imbalance problem](https://developers.google.com/machine-learning/glossary/#class-imbalanced-dataset).\n",
        "So, to have a fair evaluation result, we need to ensure the datasets are sampled with\n",
        "stratification. To know more about different strategies to deal with the class imbalance\n",
        "problem, you can follow\n",
        "[this tutorial](https://www.tensorflow.org/tutorials/structured_data/imbalanced_data).\n",
        "For an end-to-end demonstration of classification with imbablanced data, refer to\n",
        "[Imbalanced classification: credit card fraud detection](https://keras.io/examples/structured_data/imbalanced_classification/)."
      ]
    },
    {
      "cell_type": "code",
      "execution_count": 28,
      "metadata": {
        "colab": {
          "base_uri": "https://localhost:8080/"
        },
        "id": "wz8vY0m_noiu",
        "outputId": "2f7367dc-fbf0-40c6-ca55-9cc767e997d8"
      },
      "outputs": [
        {
          "name": "stdout",
          "output_type": "stream",
          "text": [
            "Number of rows in training set: 8503\n",
            "Number of rows in validation set: 472\n",
            "Number of rows in test set: 473\n"
          ]
        }
      ],
      "source": [
        "test_split = 0.1\n",
        "\n",
        "# Initial train and test split.\n",
        "train_df, test_df = train_test_split(\n",
        "    arxiv_data_filtered,\n",
        "    test_size=test_split,\n",
        "    stratify=arxiv_data_filtered[\"terms\"].values,\n",
        ")\n",
        "\n",
        "# Splitting the test set further into validation\n",
        "# and new test sets.\n",
        "val_df = test_df.sample(frac=0.5)\n",
        "test_df.drop(val_df.index, inplace=True)\n",
        "\n",
        "print(f\"Number of rows in training set: {len(train_df)}\")\n",
        "print(f\"Number of rows in validation set: {len(val_df)}\")\n",
        "print(f\"Number of rows in test set: {len(test_df)}\")"
      ]
    },
    {
      "cell_type": "markdown",
      "metadata": {
        "id": "nzYA5Tz6noiv"
      },
      "source": [
        "## Multi-label binarization\n",
        "\n",
        "Now we preprocess our labels using the\n",
        "[`StringLookup`](https://keras.io/api/layers/preprocessing_layers/categorical/string_lookup)\n",
        "layer."
      ]
    },
    {
      "cell_type": "code",
      "execution_count": 29,
      "metadata": {
        "colab": {
          "base_uri": "https://localhost:8080/"
        },
        "id": "cNNiOGIanoiv",
        "outputId": "02f5ab87-90b8-4eea-9592-63f3dc71aae8"
      },
      "outputs": [
        {
          "name": "stdout",
          "output_type": "stream",
          "text": [
            "Vocabulary:\n",
            "\n",
            "['[UNK]', 'Дом и сад', 'Строительство и ремонт', 'Автотовары', 'Спорт и отдых', 'Книги', 'Электроника', 'Одежда', 'Красота и здоровье', 'Хобби и творчество', 'Инструменты', 'Продукты питания', 'Посуда', 'Детские товары', 'Нехудожественная литература', 'Бытовая техника', 'Туризм, рыбалка, охота', 'Детям', 'Женщинам', 'Аксессуары', 'Аптека', 'Товары для животных', 'Дача и сад', 'Рукоделие', 'Мужчинам', 'Автозапчасти', 'Канцелярские товары', 'Туризм и отдых на природе', 'Обувь', 'Музыка и видео', 'Техника для кухни', 'Мебель', 'Игрушки и игры', 'Виды спорта', 'Автоаксессуары и принадлежности', 'Компьютеры и комплектующие', 'Антиквариат и коллекционирование', 'Макияж', 'Декор и интерьер', 'Уход за волосами', 'Текстиль', 'Рыбалка', 'Для собак', 'Велоспорт', 'Масла, соусы, специи', 'Крепеж и фурнитура', 'Бытовая химия и гигиена', 'Музыка', 'Товары для праздников', 'Музыкальные инструменты', 'Выпечка и сладости', 'Аудиотехника', 'Хозяйственные товары', 'Строительные материалы', 'Мототовары', 'Медицинские изделия и расходные материалы', 'Отделочные материалы', 'Масла и автохимия', 'Водоснабжение', 'Рисование', 'Уход за автомобилем', 'Личная гигиена', 'Детская комната', 'Электрика', 'Фото и видеокамеры', 'Орехи, снэки', 'Маникюр и педикюр', 'Зимний спорт', 'Макароны, крупы, мука', 'Техника для дома', 'Для кошек', 'Детям и родителям', 'Цветы и растения', 'Освещение', 'Аксессуары для электроники', 'Уход за телом', 'Сантехника', 'Фитнес и йога', 'Телефоны и смарт-часы', 'Водный спорт и отдых на воде', 'Подгузники и гигиена', 'Видео', 'Техника для красоты и здоровья', 'Охота и стрельба', 'Коллекционирование', 'Спорт и игры на улице', 'Крупная бытовая техника', 'Бытовая химия', 'Лекарственные средства', 'Двери, окна и комплектующие', 'Офисная техника', 'Медицинские приборы', 'Мужская косметика', 'Игры и консоли', 'Витамины, БАД и пищевые добавки', 'Бокс и единоборства', 'Климатическая техника', 'Инструменты и оборудование', 'Лакокрасочные материалы', 'Тренажеры', 'Коляски и автокресла', 'Чай, кофе, какао', 'Фермерское хозяйство', 'Учебная литература', 'Письменные принадлежности', 'Офисные принадлежности', 'Умный дом и безопасность', 'Антикварная посуда', 'Бумажная продукция', 'Соки, воды, напитки', 'Гараж и автосервис', 'Букинистика', 'Отопление', 'Ноутбуки, планшеты и электронные книги', 'Активные виды отдыха', 'Товары для бани и сауны', 'Средства защиты и пожаротушения', 'Книги б', 'Детская косметика', 'Спортивное питание', 'Хранение вещей', 'Уход за лицом', 'Товары для реабилитации', 'Телевизоры и видеотехника', 'Печать по требованию', 'Папки и файлы', 'Для рыб и рептилий', 'Вентиляция', 'Авторские товары ручной работы', 'Электроника для авто', 'Художественная литература', 'Товары для кормления', 'Путешествия', 'Компьютерная и офисная мебель', 'Ювелирные украшения', 'Теннис и бадминтон', 'Оборудование для торговли', 'Мягкая мебель', 'Молочные продукты и яйца', 'Мебель для кухни', 'Лодки и лодочные моторы', 'Консервация', 'Уход и аксессуары', 'Самокаты и аксессуары', 'Игровые приставки и компьютеры', 'Аппаратная косметология', 'Шины и диски', 'Техника для общепита', 'Винтажные предметы интерьера', 'Бумага', 'Товары для мам', 'Мебель для хранения', 'Религия и эзотерика', 'Моделизм', 'Мебель для спальни', 'Ветаптека', 'Чертежные принадлежности', 'Мебель для бизнеса', 'Лепка', 'Оригами и поделки из бумаги', 'Линзы, очки, аксессуары', 'Квадрокоптеры и аксессуары', 'Демонстрационные доски', 'Антикварные книги', 'Автозвук', 'Товары для школы и обучения', 'Столы и стулья', 'Спецодежда', 'Сауны и бани', 'Оборудование и материалы для тату-салона', 'Загар и защита от солнца', 'Бизнес-литература', 'Сухие завтраки, мюсли и каши', 'Раскрашивание и роспись', 'Настольные и карточные игры', 'Комиксы', 'Игровые жанры', 'Уход за одеждой', 'Тактическая экипировка и EDC', 'Спортивная защита и экипировка', 'Печати и штампы', 'Электронные сигареты и товары для курения', 'Товары для курения', 'Старинные гравюры, карты, открытки', 'Создание картин и фоторамок', 'Ортопедия', 'Одежда для рыбалки и охоты', 'Часы и электронные будильники', 'Парфюмерия', 'Для птиц', 'Ароматерапия', 'PC', 'Украшения на шею', 'Спортивная медицина и восстановление', 'Скейтбординг', 'Запчасти для игровых консолей', 'Замороженные продукты', 'Гадания и эзотерика', 'Встраиваемая бытовая техника', 'Антикварная мебель', 'Ozon Объявления', 'Творческие адвент-календари и наборы', 'Роликовые коньки', 'Для насекомых', 'Детское питание', 'Бег', 'Аккумуляторы и аксессуары', 'Nintendo', 'Часы', 'Товары для грызунов и хорьков', 'Средства профилактики', 'Подарочные издания книг', 'Овощи, фрукты, зелень', 'Наклейки', 'Навигаторы', 'Мясо и птица', 'Мебель и оборудование для салонов красоты', 'Литература на иностранных языках', 'Игры для приставок', 'Игровые приставки', 'Электротранспорт', 'Товары для взрослых', 'Презервативы и лубриканты', 'Пазлы и головоломки', 'Оптические приборы', 'Наборы для мастер-класса', 'Колбасы, сосиски, деликатесы', 'Изготовление косметики и духов', 'Гравюры', 'Готовые блюда', 'Гарнитуры и комплекты', 'Броши', 'Браслеты', 'Шнурки', 'Сумки и часы', 'Ручные массажеры и иппликаторы', 'Подставки и визитницы', 'Одежда, обувь и аксессуары', 'Обувь для рыбалки и охоты', 'Мебель для ванной', 'Калькуляторы', 'Изготовление свечей', 'Игровая атрибутика', 'Запонки', 'Для лошадей']\n"
          ]
        }
      ],
      "source": [
        "terms = tf.ragged.constant(train_df[\"terms\"].values)\n",
        "lookup = tf.keras.layers.StringLookup(output_mode=\"multi_hot\")\n",
        "lookup.adapt(terms)\n",
        "vocab = lookup.get_vocabulary()\n",
        "\n",
        "\n",
        "def invert_multi_hot(encoded_labels):\n",
        "    \"\"\"Reverse a single multi-hot encoded label to a tuple of vocab terms.\"\"\"\n",
        "    hot_indices = np.argwhere(encoded_labels == 1.0)[..., 0]\n",
        "    return np.take(vocab, hot_indices)\n",
        "\n",
        "\n",
        "print(\"Vocabulary:\\n\")\n",
        "print(vocab)\n"
      ]
    },
    {
      "cell_type": "markdown",
      "metadata": {
        "id": "4tr4UbcPnoiv"
      },
      "source": [
        "Here we are separating the individual unique classes available from the label\n",
        "pool and then using this information to represent a given label set with 0's and 1's.\n",
        "Below is an example."
      ]
    },
    {
      "cell_type": "code",
      "execution_count": 30,
      "metadata": {
        "colab": {
          "base_uri": "https://localhost:8080/"
        },
        "id": "CnDUzIpPnoiv",
        "outputId": "29d45814-29d6-45f3-bb3f-a7484eb7f680"
      },
      "outputs": [
        {
          "name": "stdout",
          "output_type": "stream",
          "text": [
            "Original label: ['Книги', 'Букинистика']\n",
            "Label-binarized representation: [[0. 0. 0. 0. 0. 1. 0. 0. 0. 0. 0. 0. 0. 0. 0. 0. 0. 0. 0. 0. 0. 0. 0. 0.\n",
            "  0. 0. 0. 0. 0. 0. 0. 0. 0. 0. 0. 0. 0. 0. 0. 0. 0. 0. 0. 0. 0. 0. 0. 0.\n",
            "  0. 0. 0. 0. 0. 0. 0. 0. 0. 0. 0. 0. 0. 0. 0. 0. 0. 0. 0. 0. 0. 0. 0. 0.\n",
            "  0. 0. 0. 0. 0. 0. 0. 0. 0. 0. 0. 0. 0. 0. 0. 0. 0. 0. 0. 0. 0. 0. 0. 0.\n",
            "  0. 0. 0. 0. 0. 0. 0. 0. 0. 0. 0. 0. 0. 0. 0. 1. 0. 0. 0. 0. 0. 0. 0. 0.\n",
            "  0. 0. 0. 0. 0. 0. 0. 0. 0. 0. 0. 0. 0. 0. 0. 0. 0. 0. 0. 0. 0. 0. 0. 0.\n",
            "  0. 0. 0. 0. 0. 0. 0. 0. 0. 0. 0. 0. 0. 0. 0. 0. 0. 0. 0. 0. 0. 0. 0. 0.\n",
            "  0. 0. 0. 0. 0. 0. 0. 0. 0. 0. 0. 0. 0. 0. 0. 0. 0. 0. 0. 0. 0. 0. 0. 0.\n",
            "  0. 0. 0. 0. 0. 0. 0. 0. 0. 0. 0. 0. 0. 0. 0. 0. 0. 0. 0. 0. 0. 0. 0. 0.\n",
            "  0. 0. 0. 0. 0. 0. 0. 0. 0. 0. 0. 0. 0. 0. 0. 0. 0. 0. 0. 0. 0. 0. 0. 0.\n",
            "  0. 0. 0. 0. 0.]]\n"
          ]
        }
      ],
      "source": [
        "sample_label = train_df[\"terms\"].iloc[0]\n",
        "print(f\"Original label: {sample_label}\")\n",
        "\n",
        "label_binarized = lookup([sample_label])\n",
        "print(f\"Label-binarized representation: {label_binarized}\")"
      ]
    },
    {
      "cell_type": "markdown",
      "metadata": {
        "id": "DqIcyP3Lnoiv"
      },
      "source": [
        "## Data preprocessing and `tf.data.Dataset` objects\n",
        "\n",
        "We first get percentile estimates of the sequence lengths. The purpose will be clear in a\n",
        "moment."
      ]
    },
    {
      "cell_type": "code",
      "execution_count": 31,
      "metadata": {
        "colab": {
          "base_uri": "https://localhost:8080/"
        },
        "id": "mjVTTLO7noiw",
        "outputId": "9e6db06f-ccde-408d-fa62-067e09fe719c"
      },
      "outputs": [
        {
          "data": {
            "text/plain": [
              "count    8503.000000\n",
              "mean       98.831824\n",
              "std        96.330614\n",
              "min         1.000000\n",
              "25%        41.000000\n",
              "50%        77.000000\n",
              "75%       127.000000\n",
              "max      1917.000000\n",
              "Name: summaries, dtype: float64"
            ]
          },
          "execution_count": 31,
          "metadata": {},
          "output_type": "execute_result"
        }
      ],
      "source": [
        "train_df[\"summaries\"].apply(lambda x: len(x.split(\" \"))).describe()"
      ]
    },
    {
      "cell_type": "markdown",
      "metadata": {
        "id": "GasAMIDUnoiw"
      },
      "source": [
        "Notice that 50% of the abstracts have a length of 154 (you may get a different number\n",
        "based on the split). So, any number close to that value is a good enough approximate for the\n",
        "maximum sequence length.\n",
        "\n",
        "Now, we implement utilities to prepare our datasets."
      ]
    },
    {
      "cell_type": "code",
      "execution_count": 66,
      "metadata": {
        "id": "VQh9OalAnoiw"
      },
      "outputs": [],
      "source": [
        "max_seqlen = 150\n",
        "batch_size = 128\n",
        "padding_token = \"<pad>\"\n",
        "auto = tf.data.AUTOTUNE\n",
        "\n",
        "\n",
        "def make_dataset(dataframe, is_train=True):\n",
        "    labels = tf.ragged.constant(dataframe[\"terms\"].values)\n",
        "    label_binarized = lookup(labels).numpy()\n",
        "    dataset = tf.data.Dataset.from_tensor_slices(\n",
        "        (dataframe[\"summaries\"].values, label_binarized)\n",
        "    )\n",
        "    dataset = dataset.shuffle(batch_size * 10) if is_train else dataset\n",
        "    return dataset.batch(batch_size)\n"
      ]
    },
    {
      "cell_type": "markdown",
      "metadata": {
        "id": "ra1idOmxnoiw"
      },
      "source": [
        "Now we can prepare the `tf.data.Dataset` objects."
      ]
    },
    {
      "cell_type": "code",
      "execution_count": 67,
      "metadata": {
        "id": "cyjPhszKnoiw"
      },
      "outputs": [],
      "source": [
        "train_dataset = make_dataset(train_df, is_train=True)\n",
        "validation_dataset = make_dataset(val_df, is_train=False)\n",
        "test_dataset = make_dataset(test_df, is_train=False)"
      ]
    },
    {
      "cell_type": "markdown",
      "metadata": {
        "id": "CGKwS2FQnoiw"
      },
      "source": [
        "## Dataset preview"
      ]
    },
    {
      "cell_type": "code",
      "execution_count": 68,
      "metadata": {
        "colab": {
          "base_uri": "https://localhost:8080/"
        },
        "id": "jp9rg-B1noiw",
        "outputId": "0aa0fc2c-4e14-4bf2-ae0c-752f8f0586ac"
      },
      "outputs": [
        {
          "name": "stdout",
          "output_type": "stream",
          "text": [
            "Abstract: ['Совместимые PartNumber (P/N): 13GNXM1AP050, 46KJ3LBJN00Совместимые модели ноутбуков: Asus A52, A52D, A52DR, A52F, A52J, A52JB, A52JC, A52JE, A52JK, A52JR, A52JT, A52JU, A52JV, A52N, K52, K52D, K52DR, K52F, K52J, K52JB, K52JC, K52JE, K52JK, K52JR, K52JT, K52JU, K52JV, K52N, X52, X52D, X52DR, X52F, X52J, X52JB, X52JC, X52JE, X52JK, X52JR, X52JT, X52JU, X52JV, X52NВнимание! Для того чтобы на 100% правильно подобрать нужную Вам запчасть, необходимо демонтировать рамку матрицы с Вашего ноутбука и сравнить ее с предлагаемой. Сопоставьте ее внешнюю форму, габариты, отверстия (их размеры и расположения). Если на фотографии что-то отмечено красным цветом, то на это необходимо обратить самое пристальное внимание. При необходимости обратитесь к специалисту. Рамка матрицы поставляется в мягкой, воздушно пузырчатой пленке, помещенной в крепкую специализированную коробку. Это позволяет свести к минимуму вероятность ее повреждения при транспортировке.Предлагаемый товар являет ОЕМ версией корпуса ноутбука.']\n",
            "Label(s): ['Электроника' 'Ноутбуки, планшеты и электронные книги']\n",
            " \n",
            "Abstract: ['Подарочный набор для маленькой принцессы, состоит из трех очень нежных повязочек на голову, упакован в красивую подарочную коробку, ручная работа']\n",
            "Label(s): ['Детям' 'Аксессуары']\n",
            " \n",
            "Abstract: ['Крепление для установки маячковых профилей ЗУБР КРЕММЕР-50 50 шт. (30950-50)Модель - 30950-50Технические характеристики:-Упаковка: 50 шт.-Длина (L): 36 мм-Ширина (b): 20 мм-Толщина (s): 0.4 ммСтальной крепеж для маячкового профиля значительно ускоряет и облегчает проведение отделочных работ. Благодаря точности установки профилей достигается существенная экономия стройматериалов.Преимущества:-Удобство использования - крепления фиксируются непосредственно на маячковом профиле до монтажа профиля на стену. Положение маячкового профиля можно легко регулировать даже после его установки.;-Универсальность - совместимы со всеми типами саморезов и маячковых профилей;-Экономичность - минимальная толщина штукатурного слоя и сокращенный расход строительной смеси за счет плотного прилегания профилей к основанию;-Надежность - прочное крепление маячкового профиля;-Инструкция по применению нанесена на упаковку.;-Цинковое покрытие надежно защищает от коррозии.;']\n",
            "Label(s): ['Строительство и ремонт' 'Крепеж и фурнитура']\n",
            " \n",
            "Abstract: ['Гладилка, серия *31*, Profi, ручка 2K, 28x10см, зубчатая полукруглая 16мм, HARDY /0800-312816 применяется при работе со шпатлевкой, штукатуркой и другими смесями. Позволяет быстро и эффективно покрывать составами поверхности большой площади посредством нанесения тонких, ровных слоев. Конструкция представляет собой прямоугольное плоское полотно с ручкой. Использование гладилки значительно упрощает штукатурные работы и по своим свойствам может легко заменить шпатель или гребенку. Оснащена полукруглыми зубьями 16 мм для равномерного нанесения смеси на поверхность.']\n",
            "Label(s): ['Строительство и ремонт' 'Инструменты']\n",
            " \n",
            "Abstract: ['Овергрип Head Super Comp - дополнительная обмотка, которая наматывается на основную обмотку теннисной ракетки. Специально разработанный липкий материал помогает лучше чувствовать ракетку, повышенное впитывание влаги. Универсальный, толщина 0.5 мм. В упаковке 3 шт.']\n",
            "Label(s): ['Спорт и отдых' 'Теннис и бадминтон']\n",
            " \n"
          ]
        }
      ],
      "source": [
        "text_batch, label_batch = next(iter(train_dataset))\n",
        "\n",
        "def decode_string(text):\n",
        "  ints = tf.strings.unicode_decode(text, 'utf-8')\n",
        "  strs = [chr(i) for i in ints]\n",
        "  joined = [''.join(strs)]\n",
        "  return joined\n",
        "\n",
        "for i, text in enumerate(text_batch[:5]):\n",
        "    label = label_batch[i].numpy()[None, ...]\n",
        "    text = decode_string(text)\n",
        "    print(f\"Abstract: {text}\")\n",
        "    print(f\"Label(s): {invert_multi_hot(label[0])}\")\n",
        "    print(\" \")"
      ]
    },
    {
      "cell_type": "markdown",
      "metadata": {
        "id": "ZfKEeNR0noiw"
      },
      "source": [
        "## Vectorization\n",
        "\n",
        "Before we feed the data to our model, we need to vectorize it (represent it in a numerical form).\n",
        "For that purpose, we will use the\n",
        "[`TextVectorization` layer](https://keras.io/api/layers/preprocessing_layers/text/text_vectorization).\n",
        "It can operate as a part of your main model so that the model is excluded from the core\n",
        "preprocessing logic. This greatly reduces the chances of training / serving skew during inference.\n",
        "\n",
        "We first calculate the number of unique words present in the abstracts."
      ]
    },
    {
      "cell_type": "code",
      "execution_count": 69,
      "metadata": {
        "colab": {
          "base_uri": "https://localhost:8080/"
        },
        "id": "hfDtsOQSnoix",
        "outputId": "37bd3c81-f129-4c84-fe58-ead8bfbc7768"
      },
      "outputs": [
        {
          "name": "stdout",
          "output_type": "stream",
          "text": [
            "170128\n"
          ]
        }
      ],
      "source": [
        "# Source: https://stackoverflow.com/a/18937309/7636462\n",
        "vocabulary = set()\n",
        "train_df[\"summaries\"].str.lower().str.split().apply(vocabulary.update)\n",
        "vocabulary_size = len(vocabulary)\n",
        "print(vocabulary_size)\n"
      ]
    },
    {
      "cell_type": "markdown",
      "metadata": {
        "id": "5a1t0dFfnoix"
      },
      "source": [
        "We now create our vectorization layer and `map()` to the `tf.data.Dataset`s created\n",
        "earlier."
      ]
    },
    {
      "cell_type": "code",
      "execution_count": 70,
      "metadata": {
        "colab": {
          "base_uri": "https://localhost:8080/",
          "height": 554
        },
        "id": "uvrH1Rovnoiy",
        "outputId": "a9280ad6-f557-4845-d2f6-cb045d68ba27"
      },
      "outputs": [],
      "source": [
        "text_vectorizer = layers.TextVectorization(\n",
        "    max_tokens=vocabulary_size, ngrams=2, output_mode=\"tf_idf\"\n",
        ")\n",
        "\n",
        "# `TextVectorization` layer needs to be adapted as per the vocabulary from our\n",
        "# training set.\n",
        "with tf.device(\"/CPU:0\"):\n",
        "    text_vectorizer.adapt(train_dataset.map(lambda text, label: text))\n",
        "\n",
        "train_dataset = train_dataset.map(\n",
        "    lambda text, label: (text_vectorizer(text), label), num_parallel_calls=auto\n",
        ").prefetch(auto)\n",
        "validation_dataset = validation_dataset.map(\n",
        "    lambda text, label: (text_vectorizer(text), label), num_parallel_calls=auto\n",
        ").prefetch(auto)\n",
        "test_dataset = test_dataset.map(\n",
        "    lambda text, label: (text_vectorizer(text), label), num_parallel_calls=auto\n",
        ").prefetch(auto)\n"
      ]
    },
    {
      "cell_type": "markdown",
      "metadata": {
        "id": "rIUuCtoInoiy"
      },
      "source": [
        "A batch of raw text will first go through the `TextVectorization` layer and it will\n",
        "generate their integer representations. Internally, the `TextVectorization` layer will\n",
        "first create bi-grams out of the sequences and then represent them using\n",
        "[TF-IDF](https://wikipedia.org/wiki/Tf%E2%80%93idf). The output representations will then\n",
        "be passed to the shallow model responsible for text classification.\n",
        "\n",
        "To learn more about other possible configurations with `TextVectorizer`, please consult\n",
        "the\n",
        "[official documentation](https://keras.io/api/layers/preprocessing_layers/text/text_vectorization).\n",
        "\n",
        "**Note**: Setting the `max_tokens` argument to a pre-calculated vocabulary size is\n",
        "not a requirement."
      ]
    },
    {
      "cell_type": "markdown",
      "metadata": {
        "id": "iWzwinEKnoiy"
      },
      "source": [
        "## Create a text classification model\n",
        "\n",
        "We will keep our model simple -- it will be a small stack of fully-connected layers with\n",
        "ReLU as the non-linearity."
      ]
    },
    {
      "cell_type": "code",
      "execution_count": 71,
      "metadata": {
        "id": "m-XEOCiDnoiy"
      },
      "outputs": [],
      "source": [
        "\n",
        "def make_model():\n",
        "    shallow_mlp_model = keras.Sequential(\n",
        "        [\n",
        "            layers.Dense(512, activation=\"relu\"),\n",
        "            layers.Dense(256, activation=\"relu\"),\n",
        "            layers.Dense(lookup.vocabulary_size(), activation=\"sigmoid\"),\n",
        "        ]  # More on why \"sigmoid\" has been used here in a moment.\n",
        "    )\n",
        "    return shallow_mlp_model\n"
      ]
    },
    {
      "cell_type": "markdown",
      "metadata": {
        "id": "uoopxxYxnoiy"
      },
      "source": [
        "## Train the model\n",
        "\n",
        "We will train our model using the binary crossentropy loss. This is because the labels\n",
        "are not disjoint. For a given abstract, we may have multiple categories. So, we will\n",
        "divide the prediction task into a series of multiple binary classification problems. This\n",
        "is also why we kept the activation function of the classification layer in our model to\n",
        "sigmoid. Researchers have used other combinations of loss function and activation\n",
        "function as well. For example, in\n",
        "[Exploring the Limits of Weakly Supervised Pretraining](https://arxiv.org/abs/1805.00932),\n",
        "Mahajan et al. used the softmax activation function and cross-entropy loss to train\n",
        "their models."
      ]
    },
    {
      "cell_type": "code",
      "execution_count": 72,
      "metadata": {
        "id": "r572QcYFnoiz"
      },
      "outputs": [
        {
          "name": "stdout",
          "output_type": "stream",
          "text": [
            "Epoch 1/5\n",
            "67/67 [==============================] - 24s 294ms/step - loss: 0.1453 - categorical_accuracy: 0.2445 - val_loss: 0.0628 - val_categorical_accuracy: 0.4237\n",
            "Epoch 2/5\n",
            "67/67 [==============================] - 18s 272ms/step - loss: 0.0247 - categorical_accuracy: 0.6640 - val_loss: 0.0617 - val_categorical_accuracy: 0.5487\n",
            "Epoch 3/5\n",
            "67/67 [==============================] - 19s 277ms/step - loss: 0.0107 - categorical_accuracy: 0.6652 - val_loss: 0.0640 - val_categorical_accuracy: 0.5699\n",
            "Epoch 4/5\n",
            "67/67 [==============================] - 19s 280ms/step - loss: 0.0062 - categorical_accuracy: 0.6818 - val_loss: 0.0748 - val_categorical_accuracy: 0.5403\n",
            "Epoch 5/5\n",
            "67/67 [==============================] - 19s 279ms/step - loss: 0.0044 - categorical_accuracy: 0.6962 - val_loss: 0.0816 - val_categorical_accuracy: 0.5487\n"
          ]
        },
        {
          "data": {
            "image/png": "[encoded data removed]",
            "text/plain": [
              "<Figure size 640x480 with 1 Axes>"
            ]
          },
          "metadata": {},
          "output_type": "display_data"
        },
        {
          "data": {
            "image/png": "[encoded data removed]",
            "text/plain": [
              "<Figure size 640x480 with 1 Axes>"
            ]
          },
          "metadata": {},
          "output_type": "display_data"
        }
      ],
      "source": [
        "epochs = 5\n",
        "\n",
        "shallow_mlp_model = make_model()\n",
        "shallow_mlp_model.compile(\n",
        "    loss=\"binary_crossentropy\", optimizer=\"adam\", metrics=[\"categorical_accuracy\"]\n",
        ")\n",
        "\n",
        "history = shallow_mlp_model.fit(\n",
        "    train_dataset, validation_data=validation_dataset, epochs=epochs\n",
        ")\n",
        "\n",
        "\n",
        "def plot_result(item):\n",
        "    plt.plot(history.history[item], label=item)\n",
        "    plt.plot(history.history[\"val_\" + item], label=\"val_\" + item)\n",
        "    plt.xlabel(\"Epochs\")\n",
        "    plt.ylabel(item)\n",
        "    plt.title(\"Train and Validation {} Over Epochs\".format(item), fontsize=14)\n",
        "    plt.legend()\n",
        "    plt.grid()\n",
        "    plt.show()\n",
        "\n",
        "\n",
        "plot_result(\"loss\")\n",
        "plot_result(\"categorical_accuracy\")"
      ]
    },
    {
      "cell_type": "markdown",
      "metadata": {
        "id": "UxQEVheNnoiz"
      },
      "source": [
        "While training, we notice an initial sharp fall in the loss followed by a gradual decay."
      ]
    },
    {
      "cell_type": "markdown",
      "metadata": {
        "id": "IXqnfKr1noiz"
      },
      "source": [
        "### Evaluate the model"
      ]
    },
    {
      "cell_type": "code",
      "execution_count": 73,
      "metadata": {
        "id": "g-PpqCb_noiz"
      },
      "outputs": [
        {
          "name": "stdout",
          "output_type": "stream",
          "text": [
            "4/4 [==============================] - 1s 97ms/step - loss: 0.0744 - categorical_accuracy: 0.5455\n",
            "Categorical accuracy on the test set: 54.55%.\n"
          ]
        }
      ],
      "source": [
        "_, categorical_acc = shallow_mlp_model.evaluate(test_dataset)\n",
        "print(f\"Categorical accuracy on the test set: {round(categorical_acc * 100, 2)}%.\")"
      ]
    },
    {
      "cell_type": "markdown",
      "metadata": {
        "id": "bLkS-SB2noiz"
      },
      "source": [
        "The trained model gives us an evaluation accuracy of ~87%."
      ]
    },
    {
      "cell_type": "markdown",
      "metadata": {
        "id": "UZRrPtkjnoiz"
      },
      "source": [
        "## Inference\n",
        "\n",
        "An important feature of the\n",
        "[preprocessing layers provided by Keras](https://keras.io/guides/preprocessing_layers/)\n",
        "is that they can be included inside a `tf.keras.Model`. We will export an inference model\n",
        "by including the `text_vectorization` layer on top of `shallow_mlp_model`. This will\n",
        "allow our inference model to directly operate on raw strings.\n",
        "\n",
        "**Note** that during training it is always preferable to use these preprocessing\n",
        "layers as a part of the data input pipeline rather than the model to avoid\n",
        "surfacing bottlenecks for the hardware accelerators. This also allows for\n",
        "asynchronous data processing."
      ]
    },
    {
      "cell_type": "code",
      "execution_count": 74,
      "metadata": {
        "id": "Fsc464p4noiz"
      },
      "outputs": [
        {
          "name": "stdout",
          "output_type": "stream",
          "text": [
            "4/4 [==============================] - 0s 39ms/step\n",
            "Label(s): ['Мебель' 'Столы и стулья']\n",
            "Predicted Label(s): (Хобби и творчество, Мебель, Товары для животных)\n",
            " \n",
            "Label(s): ['Детские товары' 'Коляски и автокресла']\n",
            "Predicted Label(s): (Дом и сад, Строительство и ремонт, Автотовары)\n",
            " \n",
            "Label(s): ['Книги' 'Нехудожественная литература']\n",
            "Predicted Label(s): (Книги, Электроника, Музыка)\n",
            " \n",
            "Label(s): ['Хобби и творчество' 'Моделизм']\n",
            "Predicted Label(s): (Туризм, рыбалка, охота, Антиквариат и коллекционирование, Хобби и творчество)\n",
            " \n",
            "Label(s): ['Строительство и ремонт' 'Инструменты']\n",
            "Predicted Label(s): (Автотовары, Электроника, Дом и сад)\n",
            " \n"
          ]
        }
      ],
      "source": [
        "# Create a model for inference.\n",
        "model_for_inference = keras.Sequential([text_vectorizer, shallow_mlp_model])\n",
        "\n",
        "# Create a small dataset just for demoing inference.\n",
        "inference_dataset = make_dataset(test_df.sample(100), is_train=False)\n",
        "text_batch, label_batch = next(iter(inference_dataset))\n",
        "predicted_probabilities = model_for_inference.predict(text_batch)\n",
        "\n",
        "# Perform inference.\n",
        "for i, text in enumerate(text_batch[:5]):\n",
        "    label = label_batch[i].numpy()[None, ...]\n",
        "    print(f\"Abstract: {decode_string(text)}\")\n",
        "    print(f\"Label(s): {invert_multi_hot(label[0])}\")\n",
        "    predicted_proba = [proba for proba in predicted_probabilities[i]]\n",
        "    top_3_labels = [\n",
        "        x\n",
        "        for _, x in sorted(\n",
        "            zip(predicted_probabilities[i], lookup.get_vocabulary()),\n",
        "            key=lambda pair: pair[0],\n",
        "            reverse=True,\n",
        "        )\n",
        "    ][:3]\n",
        "    print(f\"Predicted Label(s): ({', '.join([label for label in top_3_labels])})\")\n",
        "    print(\" \")"
      ]
    },
    {
      "cell_type": "markdown",
      "metadata": {
        "id": "mWuf19YAnoiz"
      },
      "source": [
        "The prediction results are not that great but not below the par for a simple model like\n",
        "ours. We can improve this performance with models that consider word order like LSTM or\n",
        "even those that use Transformers ([Vaswani et al.](https://arxiv.org/abs/1706.03762))."
      ]
    },
    {
      "cell_type": "markdown",
      "metadata": {
        "id": "nMSfJe04noiz"
      },
      "source": [
        "## Acknowledgements\n",
        "\n",
        "We would like to thank [Matt Watson](https://github.com/mattdangerw) for helping us\n",
        "tackle the multi-label binarization part and inverse-transforming the processed labels\n",
        "to the original form."
      ]
    }
  ],
  "metadata": {
    "colab": {
      "provenance": [],
      "toc_visible": true
    },
    "kernelspec": {
      "display_name": "Python 3.10.7 64-bit",
      "language": "python",
      "name": "python3"
    },
    "language_info": {
      "codemirror_mode": {
        "name": "ipython",
        "version": 3
      },
      "file_extension": ".py",
      "mimetype": "text/x-python",
      "name": "python",
      "nbconvert_exporter": "python",
      "pygments_lexer": "ipython3",
      "version": "3.10.7"
    },
    "vscode": {
      "interpreter": {
        "hash": "369f2c481f4da34e4445cda3fffd2e751bd1c4d706f27375911949ba6bb62e1c"
      }
    }
  },
  "nbformat": 4,
  "nbformat_minor": 0
}
