{
  "cells": [
    {
      "cell_type": "markdown",
      "metadata": {
        "id": "s7Mun0I2noil"
      },
      "source": [
        "# Large-scale multi-label text classification\n",
        "\n",
        "**Author:** [Sayak Paul](https://twitter.com/RisingSayak), [Soumik Rakshit](https://github.com/soumik12345)<br>\n",
        "**Date created:** 2020/09/25<br>\n",
        "**Last modified:** 2020/12/23<br>\n",
        "**Description:** Implementing a large-scale multi-label text classification model."
      ]
    },
    {
      "cell_type": "markdown",
      "metadata": {
        "id": "PVocFOzDnoip"
      },
      "source": [
        "## Introduction\n",
        "\n",
        "In this example, we will build a multi-label text classifier to predict the subject areas\n",
        "of arXiv papers from their abstract bodies. This type of classifier can be useful for\n",
        "conference submission portals like [OpenReview](https://openreview.net/). Given a paper\n",
        "abstract, the portal could provide suggestions for which areas the paper would\n",
        "best belong to.\n",
        "\n",
        "The dataset was collected using the\n",
        "[`arXiv` Python library](https://github.com/lukasschwab/arxiv.py)\n",
        "that provides a wrapper around the\n",
        "[original arXiv API](http://arxiv.org/help/api/index).\n",
        "To learn more about the data collection process, please refer to\n",
        "[this notebook](https://github.com/soumik12345/multi-label-text-classification/blob/master/arxiv_scrape.ipynb).\n",
        "Additionally, you can also find the dataset on\n",
        "[Kaggle](https://www.kaggle.com/spsayakpaul/arxiv-paper-abstracts)."
      ]
    },
    {
      "cell_type": "markdown",
      "metadata": {
        "id": "6UtWxZ7Cnoip"
      },
      "source": [
        "## Imports"
      ]
    },
    {
      "cell_type": "code",
      "execution_count": 1,
      "metadata": {
        "id": "6hS9C7Xsnoiq"
      },
      "outputs": [
        {
          "ename": "ModuleNotFoundError",
          "evalue": "No module named 'tensorflow'",
          "output_type": "error",
          "traceback": [
            "\u001b[1;31m---------------------------------------------------------------------------\u001b[0m",
            "\u001b[1;31mModuleNotFoundError\u001b[0m                       Traceback (most recent call last)",
            "Cell \u001b[1;32mIn [1], line 1\u001b[0m\n\u001b[1;32m----> 1\u001b[0m \u001b[39mfrom\u001b[39;00m \u001b[39mtensorflow\u001b[39;00m\u001b[39m.\u001b[39;00m\u001b[39mkeras\u001b[39;00m \u001b[39mimport\u001b[39;00m layers\n\u001b[0;32m      2\u001b[0m \u001b[39mfrom\u001b[39;00m \u001b[39mtensorflow\u001b[39;00m \u001b[39mimport\u001b[39;00m keras\n\u001b[0;32m      3\u001b[0m \u001b[39mimport\u001b[39;00m \u001b[39mtensorflow\u001b[39;00m \u001b[39mas\u001b[39;00m \u001b[39mtf\u001b[39;00m\n",
            "\u001b[1;31mModuleNotFoundError\u001b[0m: No module named 'tensorflow'"
          ]
        }
      ],
      "source": [
        "from tensorflow.keras import layers\n",
        "from tensorflow import keras\n",
        "import tensorflow as tf\n",
        "\n",
        "from sklearn.model_selection import train_test_split\n",
        "from ast import literal_eval\n",
        "\n",
        "import matplotlib.pyplot as plt\n",
        "import pandas as pd\n",
        "import numpy as np"
      ]
    },
    {
      "cell_type": "markdown",
      "metadata": {
        "id": "SYCf1-9Rnoir"
      },
      "source": [
        "## Perform exploratory data analysis\n",
        "\n",
        "In this section, we first load the dataset into a `pandas` dataframe and then perform\n",
        "some basic exploratory data analysis (EDA)."
      ]
    },
    {
      "cell_type": "code",
      "execution_count": null,
      "metadata": {
        "colab": {
          "base_uri": "https://localhost:8080/",
          "height": 206
        },
        "id": "LmNPCB3dnoir",
        "outputId": "a7872e68-486c-48fd-838d-a41ca34ae16b"
      },
      "outputs": [
        {
          "data": {
            "text/html": [
              "<div>\n",
              "<style scoped>\n",
              "    .dataframe tbody tr th:only-of-type {\n",
              "        vertical-align: middle;\n",
              "    }\n",
              "\n",
              "    .dataframe tbody tr th {\n",
              "        vertical-align: top;\n",
              "    }\n",
              "\n",
              "    .dataframe thead th {\n",
              "        text-align: right;\n",
              "    }\n",
              "</style>\n",
              "<table border=\"1\" class=\"dataframe\">\n",
              "  <thead>\n",
              "    <tr style=\"text-align: right;\">\n",
              "      <th></th>\n",
              "      <th>titles</th>\n",
              "      <th>summaries</th>\n",
              "      <th>terms</th>\n",
              "    </tr>\n",
              "  </thead>\n",
              "  <tbody>\n",
              "    <tr>\n",
              "      <th>0</th>\n",
              "      <td>Survey on Semantic Stereo Matching / Semantic ...</td>\n",
              "      <td>Stereo matching is one of the widely used tech...</td>\n",
              "      <td>['cs.CV', 'cs.LG']</td>\n",
              "    </tr>\n",
              "    <tr>\n",
              "      <th>1</th>\n",
              "      <td>FUTURE-AI: Guiding Principles and Consensus Re...</td>\n",
              "      <td>The recent advancements in artificial intellig...</td>\n",
              "      <td>['cs.CV', 'cs.AI', 'cs.LG']</td>\n",
              "    </tr>\n",
              "    <tr>\n",
              "      <th>2</th>\n",
              "      <td>Enforcing Mutual Consistency of Hard Regions f...</td>\n",
              "      <td>In this paper, we proposed a novel mutual cons...</td>\n",
              "      <td>['cs.CV', 'cs.AI']</td>\n",
              "    </tr>\n",
              "    <tr>\n",
              "      <th>3</th>\n",
              "      <td>Parameter Decoupling Strategy for Semi-supervi...</td>\n",
              "      <td>Consistency training has proven to be an advan...</td>\n",
              "      <td>['cs.CV']</td>\n",
              "    </tr>\n",
              "    <tr>\n",
              "      <th>4</th>\n",
              "      <td>Background-Foreground Segmentation for Interio...</td>\n",
              "      <td>To ensure safety in automated driving, the cor...</td>\n",
              "      <td>['cs.CV', 'cs.LG']</td>\n",
              "    </tr>\n",
              "  </tbody>\n",
              "</table>\n",
              "</div>"
            ],
            "text/plain": [
              "                                              titles  \\\n",
              "0  Survey on Semantic Stereo Matching / Semantic ...   \n",
              "1  FUTURE-AI: Guiding Principles and Consensus Re...   \n",
              "2  Enforcing Mutual Consistency of Hard Regions f...   \n",
              "3  Parameter Decoupling Strategy for Semi-supervi...   \n",
              "4  Background-Foreground Segmentation for Interio...   \n",
              "\n",
              "                                           summaries  \\\n",
              "0  Stereo matching is one of the widely used tech...   \n",
              "1  The recent advancements in artificial intellig...   \n",
              "2  In this paper, we proposed a novel mutual cons...   \n",
              "3  Consistency training has proven to be an advan...   \n",
              "4  To ensure safety in automated driving, the cor...   \n",
              "\n",
              "                         terms  \n",
              "0           ['cs.CV', 'cs.LG']  \n",
              "1  ['cs.CV', 'cs.AI', 'cs.LG']  \n",
              "2           ['cs.CV', 'cs.AI']  \n",
              "3                    ['cs.CV']  \n",
              "4           ['cs.CV', 'cs.LG']  "
            ]
          },
          "execution_count": 82,
          "metadata": {},
          "output_type": "execute_result"
        }
      ],
      "source": [
        "arxiv_data = pd.read_csv(\n",
        "    \"https://github.com/soumik12345/multi-label-text-classification/releases/download/v0.2/arxiv_data.csv\"\n",
        ")\n",
        "arxiv_data.head()"
      ]
    },
    {
      "cell_type": "markdown",
      "metadata": {
        "id": "QNxFbKH0noir"
      },
      "source": [
        "Our text features are present in the `summaries` column and their corresponding labels\n",
        "are in `terms`. As you can notice, there are multiple categories associated with a\n",
        "particular entry."
      ]
    },
    {
      "cell_type": "code",
      "execution_count": null,
      "metadata": {},
      "outputs": [
        {
          "data": {
            "text/html": [
              "<div>\n",
              "<style scoped>\n",
              "    .dataframe tbody tr th:only-of-type {\n",
              "        vertical-align: middle;\n",
              "    }\n",
              "\n",
              "    .dataframe tbody tr th {\n",
              "        vertical-align: top;\n",
              "    }\n",
              "\n",
              "    .dataframe thead th {\n",
              "        text-align: right;\n",
              "    }\n",
              "</style>\n",
              "<table border=\"1\" class=\"dataframe\">\n",
              "  <thead>\n",
              "    <tr style=\"text-align: right;\">\n",
              "      <th></th>\n",
              "      <th>titles</th>\n",
              "      <th>summaries</th>\n",
              "      <th>terms</th>\n",
              "    </tr>\n",
              "  </thead>\n",
              "  <tbody>\n",
              "    <tr>\n",
              "      <th>0</th>\n",
              "      <td>Нож для яблок Яблокорезка Прибор для удаления ...</td>\n",
              "      <td>Нож для яблок Яблокорезка Прибор для удаления ...</td>\n",
              "      <td>['Дом и сад', 'Посуда', 'Кухонные принадлежнос...</td>\n",
              "    </tr>\n",
              "    <tr>\n",
              "      <th>1</th>\n",
              "      <td>Набор доктора игровой 2550 \"Волшебная аптечка\"...</td>\n",
              "      <td>Набор доктора игровой 2550 \"Волшебная аптечка\"...</td>\n",
              "      <td>['Детские товары', 'Игрушки и игры', 'Сюжетно-...</td>\n",
              "    </tr>\n",
              "    <tr>\n",
              "      <th>2</th>\n",
              "      <td>Икона Святитель Николай Чудотворец</td>\n",
              "      <td>Икона Святитель Николай Чудотворец Святитель Н...</td>\n",
              "      <td>['Дом и сад', 'Авторские товары ручной работы'...</td>\n",
              "    </tr>\n",
              "    <tr>\n",
              "      <th>3</th>\n",
              "      <td>Сухое молоко цельное 1000г, 1 кг</td>\n",
              "      <td>Сухое молоко цельное 1000г, 1 кг сухое молоко ...</td>\n",
              "      <td>['Продукты питания', 'Масла, соусы, специи', '...</td>\n",
              "    </tr>\n",
              "    <tr>\n",
              "      <th>4</th>\n",
              "      <td>Мука ржаная цельнозерновая из био зерна, рожь,...</td>\n",
              "      <td>Мука ржаная цельнозерновая из био зерна, рожь,...</td>\n",
              "      <td>['Продукты питания', 'Макароны, крупы, мука', ...</td>\n",
              "    </tr>\n",
              "  </tbody>\n",
              "</table>\n",
              "</div>"
            ],
            "text/plain": [
              "                                              titles  \\\n",
              "0  Нож для яблок Яблокорезка Прибор для удаления ...   \n",
              "1  Набор доктора игровой 2550 \"Волшебная аптечка\"...   \n",
              "2                 Икона Святитель Николай Чудотворец   \n",
              "3                   Сухое молоко цельное 1000г, 1 кг   \n",
              "4  Мука ржаная цельнозерновая из био зерна, рожь,...   \n",
              "\n",
              "                                           summaries  \\\n",
              "0  Нож для яблок Яблокорезка Прибор для удаления ...   \n",
              "1  Набор доктора игровой 2550 \"Волшебная аптечка\"...   \n",
              "2  Икона Святитель Николай Чудотворец Святитель Н...   \n",
              "3  Сухое молоко цельное 1000г, 1 кг сухое молоко ...   \n",
              "4  Мука ржаная цельнозерновая из био зерна, рожь,...   \n",
              "\n",
              "                                               terms  \n",
              "0  ['Дом и сад', 'Посуда', 'Кухонные принадлежнос...  \n",
              "1  ['Детские товары', 'Игрушки и игры', 'Сюжетно-...  \n",
              "2  ['Дом и сад', 'Авторские товары ручной работы'...  \n",
              "3  ['Продукты питания', 'Масла, соусы, специи', '...  \n",
              "4  ['Продукты питания', 'Макароны, крупы, мука', ...  "
            ]
          },
          "execution_count": 83,
          "metadata": {},
          "output_type": "execute_result"
        }
      ],
      "source": [
        "import json\n",
        "\n",
        "\n",
        "def prepare_json(path: str, out_path: str):\n",
        "    obj = json.loads(open(path, 'r', encoding='utf-8').read())\n",
        "    data = []\n",
        "    for key in obj:\n",
        "        row = obj[key]\n",
        "        if row['title'] is not None and row['description'] is not None and row['category'] is not None and row['hierarchy'] is not None:\n",
        "            if row['title'].strip() != '' and row['description'].strip() != '' and row['category'].strip() != '' and row['hierarchy'].strip() != '':\n",
        "                tree = row['hierarchy'].split('/')\n",
        "                # row['category'] = str([tree[min(5, len(tree) - 1)]])\n",
        "                # row['category'] = str([row['category']])\n",
        "                row['category'] = str(tree[:3])\n",
        "                \n",
        "                data.append(obj[key])\n",
        "    \n",
        "    df = pd.json_normalize(data)\n",
        "    df = df.rename(columns={\"title\": \"titles\", \"category\": \"terms\", 'description': 'summaries'})\n",
        "    df = df[['titles', 'summaries', 'terms']]\n",
        "    df.to_csv(out_path)\n",
        "    return df\n",
        "\n",
        "arxiv_data = prepare_json('./parse/products_data/found.json', './dataset.csv')\n",
        "arxiv_data['summaries'] = arxiv_data['titles'] + ' ' + arxiv_data['summaries']\n",
        "arxiv_data.head()"
      ]
    },
    {
      "cell_type": "code",
      "execution_count": null,
      "metadata": {
        "colab": {
          "base_uri": "https://localhost:8080/"
        },
        "id": "9Z2vjelWnois",
        "outputId": "bacb0ee5-5c1c-4991-c63a-11a3287e4835"
      },
      "outputs": [
        {
          "name": "stdout",
          "output_type": "stream",
          "text": [
            "There are 13225 rows in the dataset.\n"
          ]
        }
      ],
      "source": [
        "print(f\"There are {len(arxiv_data)} rows in the dataset.\")"
      ]
    },
    {
      "cell_type": "markdown",
      "metadata": {
        "id": "3pBt0L4qnois"
      },
      "source": [
        "Real-world data is noisy. One of the most commonly observed source of noise is data\n",
        "duplication. Here we notice that our initial dataset has got about 13k duplicate entries."
      ]
    },
    {
      "cell_type": "code",
      "execution_count": null,
      "metadata": {
        "colab": {
          "base_uri": "https://localhost:8080/"
        },
        "id": "ONwBQPZsnoit",
        "outputId": "11c80827-daee-468a-d15e-31e507e54c86"
      },
      "outputs": [
        {
          "name": "stdout",
          "output_type": "stream",
          "text": [
            "There are 257 duplicate titles.\n"
          ]
        }
      ],
      "source": [
        "total_duplicate_titles = sum(arxiv_data[\"titles\"].duplicated())\n",
        "print(f\"There are {total_duplicate_titles} duplicate titles.\")"
      ]
    },
    {
      "cell_type": "markdown",
      "metadata": {
        "id": "dhNfHwIrnoit"
      },
      "source": [
        "Before proceeding further, we drop these entries."
      ]
    },
    {
      "cell_type": "code",
      "execution_count": null,
      "metadata": {
        "colab": {
          "base_uri": "https://localhost:8080/"
        },
        "id": "ujU1vXfBnoit",
        "outputId": "275d7e2f-0a09-401b-cbd5-1d4b17bdd2b6"
      },
      "outputs": [
        {
          "name": "stdout",
          "output_type": "stream",
          "text": [
            "There are 12968 rows in the deduplicated dataset.\n",
            "9695\n",
            "11010\n"
          ]
        }
      ],
      "source": [
        "arxiv_data = arxiv_data[~arxiv_data[\"titles\"].duplicated()]\n",
        "print(f\"There are {len(arxiv_data)} rows in the deduplicated dataset.\")\n",
        "\n",
        "# There are some terms with occurrence as low as 1.\n",
        "print(sum(arxiv_data[\"terms\"].value_counts() == 1))\n",
        "\n",
        "# How many unique terms?\n",
        "print(arxiv_data[\"terms\"].nunique())"
      ]
    },
    {
      "cell_type": "markdown",
      "metadata": {
        "id": "IjhKxAsjnoit"
      },
      "source": [
        "As observed above, out of 3,157 unique combinations of `terms`, 2,321 entries have the\n",
        "lowest occurrence. To prepare our train, validation, and test sets with\n",
        "[stratification](https://en.wikipedia.org/wiki/Stratified_sampling), we need to drop\n",
        "these terms."
      ]
    },
    {
      "cell_type": "code",
      "execution_count": null,
      "metadata": {
        "colab": {
          "base_uri": "https://localhost:8080/"
        },
        "id": "v1QroBU_noiu",
        "outputId": "bd2bbab2-1426-404a-fa0d-068289d7c5f5"
      },
      "outputs": [
        {
          "data": {
            "text/plain": [
              "(3273, 3)"
            ]
          },
          "execution_count": 87,
          "metadata": {},
          "output_type": "execute_result"
        }
      ],
      "source": [
        "# Filtering the rare terms.\n",
        "arxiv_data_filtered = arxiv_data.groupby(\"terms\").filter(lambda x: len(x) > 1)\n",
        "arxiv_data_filtered.shape"
      ]
    },
    {
      "cell_type": "markdown",
      "metadata": {
        "id": "xijXk2LLnoiu"
      },
      "source": [
        "## Convert the string labels to lists of strings\n",
        "\n",
        "The initial labels are represented as raw strings. Here we make them `List[str]` for a\n",
        "more compact representation."
      ]
    },
    {
      "cell_type": "code",
      "execution_count": null,
      "metadata": {
        "colab": {
          "base_uri": "https://localhost:8080/"
        },
        "id": "la2j7QYSnoiu",
        "outputId": "5d6f0844-a6bc-475d-d6c3-8f0ae42badd3"
      },
      "outputs": [
        {
          "data": {
            "text/plain": [
              "array([list(['Дом и сад', 'Авторские товары ручной работы', 'Иконы', 'ЗАВЕТ']),\n",
              "       list(['Детские товары', 'Игрушки и игры', 'Куклы и аксессуары', 'Пупсы', 'Veld Co']),\n",
              "       list(['Туризм, рыбалка, охота', 'Туризм и отдых на природе', 'Аксессуары для туризма', 'Складные лопаты, топоры и пилы', 'Пилы', 'Silky']),\n",
              "       list(['Строительство и ремонт', 'Строительные материалы', 'Металлопрокат и металлоконструкции', 'Арматура и комплектующие', 'Арматура']),\n",
              "       list(['Дом и сад', 'Посуда', 'Хранение продуктов', 'Емкости для специй и масел', 'Мельницы для специй'])],\n",
              "      dtype=object)"
            ]
          },
          "execution_count": 88,
          "metadata": {},
          "output_type": "execute_result"
        }
      ],
      "source": [
        "arxiv_data_filtered[\"terms\"] = arxiv_data_filtered[\"terms\"].apply(\n",
        "    lambda x: literal_eval(x)\n",
        ")\n",
        "arxiv_data_filtered[\"terms\"].values[:5]"
      ]
    },
    {
      "cell_type": "markdown",
      "metadata": {
        "id": "arhuTIOMnoiu"
      },
      "source": [
        "## Use stratified splits because of class imbalance\n",
        "\n",
        "The dataset has a\n",
        "[class imbalance problem](https://developers.google.com/machine-learning/glossary/#class-imbalanced-dataset).\n",
        "So, to have a fair evaluation result, we need to ensure the datasets are sampled with\n",
        "stratification. To know more about different strategies to deal with the class imbalance\n",
        "problem, you can follow\n",
        "[this tutorial](https://www.tensorflow.org/tutorials/structured_data/imbalanced_data).\n",
        "For an end-to-end demonstration of classification with imbablanced data, refer to\n",
        "[Imbalanced classification: credit card fraud detection](https://keras.io/examples/structured_data/imbalanced_classification/)."
      ]
    },
    {
      "cell_type": "code",
      "execution_count": null,
      "metadata": {
        "colab": {
          "base_uri": "https://localhost:8080/"
        },
        "id": "wz8vY0m_noiu",
        "outputId": "2f7367dc-fbf0-40c6-ca55-9cc767e997d8"
      },
      "outputs": [
        {
          "ename": "ValueError",
          "evalue": "The test_size = 328 should be greater or equal to the number of classes = 1315",
          "output_type": "error",
          "traceback": [
            "\u001b[1;31m---------------------------------------------------------------------------\u001b[0m",
            "\u001b[1;31mValueError\u001b[0m                                Traceback (most recent call last)",
            "Cell \u001b[1;32mIn [89], line 4\u001b[0m\n\u001b[0;32m      1\u001b[0m test_split \u001b[39m=\u001b[39m \u001b[39m0.1\u001b[39m\n\u001b[0;32m      3\u001b[0m \u001b[39m# Initial train and test split.\u001b[39;00m\n\u001b[1;32m----> 4\u001b[0m train_df, test_df \u001b[39m=\u001b[39m train_test_split(\n\u001b[0;32m      5\u001b[0m     arxiv_data_filtered,\n\u001b[0;32m      6\u001b[0m     test_size\u001b[39m=\u001b[39;49mtest_split,\n\u001b[0;32m      7\u001b[0m     stratify\u001b[39m=\u001b[39;49marxiv_data_filtered[\u001b[39m\"\u001b[39;49m\u001b[39mterms\u001b[39;49m\u001b[39m\"\u001b[39;49m]\u001b[39m.\u001b[39;49mvalues,\n\u001b[0;32m      8\u001b[0m )\n\u001b[0;32m     10\u001b[0m \u001b[39m# Splitting the test set further into validation\u001b[39;00m\n\u001b[0;32m     11\u001b[0m \u001b[39m# and new test sets.\u001b[39;00m\n\u001b[0;32m     12\u001b[0m val_df \u001b[39m=\u001b[39m test_df\u001b[39m.\u001b[39msample(frac\u001b[39m=\u001b[39m\u001b[39m0.5\u001b[39m)\n",
            "File \u001b[1;32mc:\\Python310\\lib\\site-packages\\sklearn\\model_selection\\_split.py:2469\u001b[0m, in \u001b[0;36mtrain_test_split\u001b[1;34m(test_size, train_size, random_state, shuffle, stratify, *arrays)\u001b[0m\n\u001b[0;32m   2465\u001b[0m         CVClass \u001b[39m=\u001b[39m ShuffleSplit\n\u001b[0;32m   2467\u001b[0m     cv \u001b[39m=\u001b[39m CVClass(test_size\u001b[39m=\u001b[39mn_test, train_size\u001b[39m=\u001b[39mn_train, random_state\u001b[39m=\u001b[39mrandom_state)\n\u001b[1;32m-> 2469\u001b[0m     train, test \u001b[39m=\u001b[39m \u001b[39mnext\u001b[39;49m(cv\u001b[39m.\u001b[39;49msplit(X\u001b[39m=\u001b[39;49marrays[\u001b[39m0\u001b[39;49m], y\u001b[39m=\u001b[39;49mstratify))\n\u001b[0;32m   2471\u001b[0m \u001b[39mreturn\u001b[39;00m \u001b[39mlist\u001b[39m(\n\u001b[0;32m   2472\u001b[0m     chain\u001b[39m.\u001b[39mfrom_iterable(\n\u001b[0;32m   2473\u001b[0m         (_safe_indexing(a, train), _safe_indexing(a, test)) \u001b[39mfor\u001b[39;00m a \u001b[39min\u001b[39;00m arrays\n\u001b[0;32m   2474\u001b[0m     )\n\u001b[0;32m   2475\u001b[0m )\n",
            "File \u001b[1;32mc:\\Python310\\lib\\site-packages\\sklearn\\model_selection\\_split.py:1622\u001b[0m, in \u001b[0;36mBaseShuffleSplit.split\u001b[1;34m(self, X, y, groups)\u001b[0m\n\u001b[0;32m   1592\u001b[0m \u001b[39m\"\"\"Generate indices to split data into training and test set.\u001b[39;00m\n\u001b[0;32m   1593\u001b[0m \n\u001b[0;32m   1594\u001b[0m \u001b[39mParameters\u001b[39;00m\n\u001b[1;32m   (...)\u001b[0m\n\u001b[0;32m   1619\u001b[0m \u001b[39mto an integer.\u001b[39;00m\n\u001b[0;32m   1620\u001b[0m \u001b[39m\"\"\"\u001b[39;00m\n\u001b[0;32m   1621\u001b[0m X, y, groups \u001b[39m=\u001b[39m indexable(X, y, groups)\n\u001b[1;32m-> 1622\u001b[0m \u001b[39mfor\u001b[39;00m train, test \u001b[39min\u001b[39;00m \u001b[39mself\u001b[39m\u001b[39m.\u001b[39m_iter_indices(X, y, groups):\n\u001b[0;32m   1623\u001b[0m     \u001b[39myield\u001b[39;00m train, test\n",
            "File \u001b[1;32mc:\\Python310\\lib\\site-packages\\sklearn\\model_selection\\_split.py:1981\u001b[0m, in \u001b[0;36mStratifiedShuffleSplit._iter_indices\u001b[1;34m(self, X, y, groups)\u001b[0m\n\u001b[0;32m   1976\u001b[0m     \u001b[39mraise\u001b[39;00m \u001b[39mValueError\u001b[39;00m(\n\u001b[0;32m   1977\u001b[0m         \u001b[39m\"\u001b[39m\u001b[39mThe train_size = \u001b[39m\u001b[39m%d\u001b[39;00m\u001b[39m should be greater or \u001b[39m\u001b[39m\"\u001b[39m\n\u001b[0;32m   1978\u001b[0m         \u001b[39m\"\u001b[39m\u001b[39mequal to the number of classes = \u001b[39m\u001b[39m%d\u001b[39;00m\u001b[39m\"\u001b[39m \u001b[39m%\u001b[39m (n_train, n_classes)\n\u001b[0;32m   1979\u001b[0m     )\n\u001b[0;32m   1980\u001b[0m \u001b[39mif\u001b[39;00m n_test \u001b[39m<\u001b[39m n_classes:\n\u001b[1;32m-> 1981\u001b[0m     \u001b[39mraise\u001b[39;00m \u001b[39mValueError\u001b[39;00m(\n\u001b[0;32m   1982\u001b[0m         \u001b[39m\"\u001b[39m\u001b[39mThe test_size = \u001b[39m\u001b[39m%d\u001b[39;00m\u001b[39m should be greater or \u001b[39m\u001b[39m\"\u001b[39m\n\u001b[0;32m   1983\u001b[0m         \u001b[39m\"\u001b[39m\u001b[39mequal to the number of classes = \u001b[39m\u001b[39m%d\u001b[39;00m\u001b[39m\"\u001b[39m \u001b[39m%\u001b[39m (n_test, n_classes)\n\u001b[0;32m   1984\u001b[0m     )\n\u001b[0;32m   1986\u001b[0m \u001b[39m# Find the sorted list of instances for each class:\u001b[39;00m\n\u001b[0;32m   1987\u001b[0m \u001b[39m# (np.unique above performs a sort, so code is O(n logn) already)\u001b[39;00m\n\u001b[0;32m   1988\u001b[0m class_indices \u001b[39m=\u001b[39m np\u001b[39m.\u001b[39msplit(\n\u001b[0;32m   1989\u001b[0m     np\u001b[39m.\u001b[39margsort(y_indices, kind\u001b[39m=\u001b[39m\u001b[39m\"\u001b[39m\u001b[39mmergesort\u001b[39m\u001b[39m\"\u001b[39m), np\u001b[39m.\u001b[39mcumsum(class_counts)[:\u001b[39m-\u001b[39m\u001b[39m1\u001b[39m]\n\u001b[0;32m   1990\u001b[0m )\n",
            "\u001b[1;31mValueError\u001b[0m: The test_size = 328 should be greater or equal to the number of classes = 1315"
          ]
        }
      ],
      "source": [
        "test_split = 0.1\n",
        "\n",
        "# Initial train and test split.\n",
        "train_df, test_df = train_test_split(\n",
        "    arxiv_data_filtered,\n",
        "    test_size=test_split,\n",
        "    stratify=arxiv_data_filtered[\"terms\"].values,\n",
        ")\n",
        "\n",
        "# Splitting the test set further into validation\n",
        "# and new test sets.\n",
        "val_df = test_df.sample(frac=0.5)\n",
        "test_df.drop(val_df.index, inplace=True)\n",
        "\n",
        "print(f\"Number of rows in training set: {len(train_df)}\")\n",
        "print(f\"Number of rows in validation set: {len(val_df)}\")\n",
        "print(f\"Number of rows in test set: {len(test_df)}\")"
      ]
    },
    {
      "cell_type": "markdown",
      "metadata": {
        "id": "nzYA5Tz6noiv"
      },
      "source": [
        "## Multi-label binarization\n",
        "\n",
        "Now we preprocess our labels using the\n",
        "[`StringLookup`](https://keras.io/api/layers/preprocessing_layers/categorical/string_lookup)\n",
        "layer."
      ]
    },
    {
      "cell_type": "code",
      "execution_count": null,
      "metadata": {
        "colab": {
          "base_uri": "https://localhost:8080/"
        },
        "id": "cNNiOGIanoiv",
        "outputId": "02f5ab87-90b8-4eea-9592-63f3dc71aae8"
      },
      "outputs": [
        {
          "name": "stdout",
          "output_type": "stream",
          "text": [
            "Vocabulary:\n",
            "\n",
            "['[UNK]', 'Девочкам', 'Ручной инструмент', 'Кухонные принадлежности', 'Мальчикам', 'Аксессуары', 'Силовая техника и оборудование', 'Аксессуары и материалы', 'Расходные материалы и оснастка', 'Измерительные инструменты', 'Бар', 'Садовый инструмент', 'Электроинструменты', 'Хранение продуктов', 'Художественная литература', 'Медицина', 'Специи и добавки', 'Крупы, бобовые и хлопья', 'Садовая мебель', 'Школа', 'Сумки', 'Рок', 'Мотоэкипировка', 'Двигатели', 'Сетевое оборудование', 'Велозапчасти', 'Периферия для компьютеров', 'Крепежные изделия и метизы', 'Посуда для приготовления', 'Тюнинг и внешний декор', 'Оформление интерьера', 'Научная литература', 'Аксессуары для ванной', 'Увлажнение и питание', 'Отдых и пикник', 'Обустройство салона', 'Нехудожественная литература', 'Футбол', 'Садовая техника', 'Расходные материалы', 'Напольные покрытия', 'Зимняя рыбалка', 'Бижутерные украшения', 'Аксессуары для фото и видеотехники', 'Право', 'Художественная гимнастика', 'Такелаж', 'Одежда больших размеров', 'Комплектующие для ПК', 'Искусство и культура', 'Столовая посуда', 'Пылесосы и аксессуары', 'Электрооборудование', 'Горнолыжный спорт', 'Нижнее белье', 'Дом и хобби', 'Верхняя одежда', 'Бокс и кикбоксинг', 'Аксессуары для смартфонов и телефонов', 'у', 'Плавание', 'Кабеленесущие системы', 'История', 'Груминг', 'Трубы и водоснабжение', 'Орехи, сухофрукты', 'Безопасность ребенка', 'Аксессуары рыболовные', 'Эзотерика и спиритизм', 'Шитье', 'Шампуни и кондиционеры', 'Хоккей', 'Фурнитура и комплектующие для мебели', 'Сварочное оборудование', 'Саморазвитие', 'Инвентарь для уборки', 'Губы', 'Глаза', 'Водоочистка и фильтры', 'Аксессуары для ноутбуков', 'Одежда для беременных', 'Гигиена полости рта', 'Публицистика', 'Прочая кухонная техника', 'Печи и грили', 'Лицо', 'Краски', 'Инструменты для рукоделия', 'БАД', 'Аксессуары для волос', 'Чайники и кофейники', 'Развивающие игрушки и игры', 'Аксессуары для макияжа', 'Шторы и карнизы', 'Художественные фильмы', 'Тормозная система', 'Парфюмерия', 'Конфеты', 'Компьютерные технологии', 'Карнавальные товары', 'Головные уборы', 'Аксессуары для туризма', 'Соусы, кетчупы', 'Религиозные книги', 'Подвеска', 'Ножи и мультитулы', 'Микрофоны и аксессуары', 'Кулинарные книги', 'Детский транспорт', 'Горшки и кашпо', 'Окрашивание и химическая завивка', 'Одежда для спорта', 'Масла', 'Красота, здоровье и спорт', 'Термобелье', 'Студийное и сценическое оборудование', 'Кузовные запчасти', 'Витаминно-минеральные комплексы', 'Аварийные принадлежности', 'Фонари и аксессуары', 'Туристическая посуда', 'Сувениры и подарки', 'Столовые приборы', 'Столешницы и комплектующие', 'Средства для ухода', 'Сервировка стола', 'Ручки, замки и фурнитура', 'Папки для бумаги', 'Новорожденным', 'Мультиварки и техника для варки', 'Миксеры, блендеры и измельчители', 'Лески и плетеные шнуры', 'Кухонный текстиль', 'Корма и лакомства', 'Велоодежда', 'Бритье и уход за бородой', 'Беговые лыжи и аксессуары', 'Аксессуары и запчасти для самокатов', 'Швейные машины и аксессуары', 'Соки, нектары, морсы', 'Сиропы и топпинги', 'Промывки и очистители', 'Клеи и герметики', 'Кабели и переходники', 'Детская мебель', 'Гитары и аксессуары', 'Водоснабжение для дачи', 'Альпинизм и скалолазание', 'Аксессуары для освещения', 'Трансмиссия', 'Ручные инструменты', 'Охранные системы', 'Осветительное оборудование', 'Игрушечный транспорт', 'Игровая периферия', 'Дымоходы и комплектующие', 'Грунты и удобрения', 'Аксессуары и запчасти', 'Чистящие средства', 'Фитнес', 'Строительные смеси', 'Средства для укладки', 'Свободные веса', 'Печенье, пряники и вафли', 'Обои и покрытия', 'Клей и герметики', 'Игры на улице', 'Для салонов красоты', 'Брови', 'Амуниция', 'Чай', 'Проза', 'Палатки, тенты и шатры', 'Настольный теннис', 'Маски и сыворотки', 'Купание ребенка', 'Купальники и пляжная одежда', 'Куклы и аксессуары', 'Кофеварки и кофемашины', 'Картриджи и расходные материалы', 'Защита кузова авто', 'Домашняя одежда', 'Чистящие средства для автомобиля', 'Туалеты и наполнители', 'Снаряжение для охоты', 'Садовый декор', 'Резиновая обувь', 'Окна', 'Оборудование', 'Облицовочные материалы', 'Мольберты и этюдники', 'Кофе', 'Конный спорт', 'Игрушки для малышей', 'Духовые инструменты', 'Детский парфюм', 'Боулинг, бильярд и дартс', 'Бассейны для дачи', 'Банный текстиль', 'Аксессуары и расходники для ручек', 'Аксессуары для колясок', 'Специнструменты для слесарных работ', 'Системы очистки стекол и фар', 'Праздничный декор', 'Мед и варенья', 'Интимная гигиена', 'Инструменты и аксессуары', 'Досуг и творчество детей', 'Детская косметика', 'Вязание', 'Восточные сладости', 'Аксессуары для путешествий', 'Часы и метеостанции', 'Уход за одеждой и обувью', 'Потолочные и подвесные светильники', 'Полотенца', 'Мото-аксессуары', 'Массажеры', 'Кемпинговая и надувная мебель', 'Изучение иностранных языков', 'Защита и уход за растениями', 'Воски и полироли', 'Вольеры и будки', 'Батарейки и аккумуляторы', 'Аптечки', 'Антикоры', 'Автокресла', 'Шоколад и шоколадные батончики', 'Чулки, носки, колготки', 'Техника для приготовления десертов', 'Термосы и термокружки', 'Средства для стирки', 'Свитеры, джемперы и кардиганы', 'Рулевое управление', 'Развитие ребенка', 'Радиоуправляемые игрушки', 'Постельное белье', 'Поп-музыка', 'Подушки', 'Перевозка багажа', 'Оборудование для мастерской', 'Мука', 'Медицинские инструменты', 'Кружки, стаканы и бокалы', 'Контактные линзы', 'Клавишные инструменты', 'Картины и панно', 'Йога и пилатес', 'Депиляция и эпиляция', 'Видеонаблюдение', 'Брюки', 'Ботинки и полуботинки', 'Щетки, губки, салфетки', 'Футболки и топы', 'Утюги и отпариватели', 'Умный дом', 'Товары для пчеловодства', 'Средства для посудомоечных машин', 'Система питания', 'Силовые тренажеры', 'Сердечно-сосудистые', 'Семена и саженцы', 'Сапоги и полусапоги', 'Посуда для собак', 'Познавательная литература', 'Подшипники автомобильные', 'Оптика', 'Одежда и аксессуары', 'Оборудование для торговли', 'Наушники и гарнитуры', 'Наращивание и моделирование', 'Мясорубки и насадки', 'Мыловарение', 'Металлопрокат и металлоконструкции', 'Кресла-мешки', 'Косметологические аппараты', 'Канцелярские мелочи', 'Инструменты для кузовных работ', 'Изоляционные покрытия и материалы', 'Игрушки-антистресс', 'Зефир, пастила', 'Для роста волос', 'Дизайн ногтей', 'Держатели, подставки и подносы', 'Дайвинг и подводная охота', 'Волейбол', 'Вода', 'Ватно-бумажная продукция', 'Бонистика', 'Ароматы для дома', 'Арматура и аксессуары для сантехники', 'Аквариумы и аксессуары', 'Электрические чайники и термопоты', 'Ударные и перкуссия', 'Товары для грудного вскармливания', 'Спортивные комплексы и шведские стенки', 'Снэки, закуски', 'Рюкзаки и сумки', 'Ремни, пояса и портупеи', 'Простуда, грипп', 'Предметы интерьера бани', 'Матрасы и лежаки', 'Кровати', 'Конструкторы', 'Коляски', 'Кабели и провод', 'Иконы', 'Журналы и наклейки', 'Документальные фильмы', 'Валяние', 'Брюки, бриджи, капри', 'Багаж', 'Аксессуары для умных часов и фитнес-браслетов', 'Фоторамки и фотоальбомы', 'Террариумы и аксессуары', 'Стекло и всё для бара', 'Создание украшений и цветов', 'Смазки', 'Система выпуска', 'Серфинг и водный спорт', 'Подвесные потолки', 'Платья и сарафаны', 'Настенные светильники', 'Награды и кубки', 'Луки и арбалеты', 'Краски и грунтовки', 'Кондиционеры и сплит-системы', 'Компьютерные и офисные кресла', 'Ирригаторы и аксессуары', 'Игрушечное оружие', 'Здоровье и уход за ребенком', 'Зарядные устройства и док-станции', 'Духовые шкафы', 'Декор и освещение', 'Всё для чая и кофе', 'Все для сна', 'Биотуалеты и септики', 'Аксессуары для аудиотехники', 'Аккумуляторы', 'Автосигнализации и брелоки', 'Автоматика', 'DECT-телефоны', 'Электронная музыка', 'Экипировка для тяжелой атлетики', 'Цифровое и спутниковое ТВ', 'Физиотерапевтические аппараты и аксессуары', 'Унитазы и инсталляции', 'Удочки, удилища и спиннинги', 'Товары по уходу за больными', 'Товары для перевозки', 'Столовые приборы для кормления', 'Средства для принятия ванны', 'Соковыжималки', 'Смесители и комплектующие', 'Скрапбукинг', 'Семена', 'Рисование на воде Эбру', 'Присадки и добавки', 'Портативная акустика', 'Пневматическое оружие', 'Пледы и покрывала', 'Пиломатериалы', 'Очки', 'Одноразовая посуда и скатерти', 'Образовательные программы', 'Обогреватели и тепловентиляторы', 'Нумизматика', 'Мониторы и аксессуары', 'Лаки и средства для ногтей', 'Крепеж', 'Костюмы и комплекты', 'Ковры и ковровые дорожки', 'Итоговое тестирование и ВПР', 'Зимние товары', 'Зажигалки, спички и аксессуары', 'Диваны', 'Диагностическое оборудование', 'Двери', 'Ванночки и парафинотерапия', 'Автосвет', '3D-печать', 'Эфирные масла', 'Энциклопедии, справочники', 'Щипцы для завивки и аксессуары', 'Шкафы', 'Холсты и подрамники', 'Уход за стеклами и фарами', 'Туалеты для собак', 'Триммеры для волос', 'Толстовки и олимпийки', 'Сыр и сырные продукты', 'Розетки, вилки и выключатели', 'Расчески и щетки', 'Расходные материалы для сантехники', 'Психология', 'Профессиональные инструменты парикмахера', 'Прикормки, ароматизаторы, насадки', 'Посудомоечные машины', 'Подарочная упаковка', 'Перчатки и варежки', 'Отопители и кондиционирование', 'Напольные и настольные светильники', 'Мюсли и гранола', 'Мыльные пузыри', 'Мотозапчасти', 'Мини-тренажеры', 'Металлоискатели и аксессуары', 'Массажное оборудование и аксессуары', 'Кулеры для воды и аксессуары', 'Кошельки, ключницы и визитницы', 'Информационное оборудование', 'Игровые комплексы для дома и улицы', 'Защита органов дыхания', 'Зажигалки, горелки и походные печи', 'Дачные постройки', 'Гель-лаки и гелевые системы', 'Вентиляторы и дефлекторы вентиляционные', 'Амулеты, обереги и талисманы', 'Аминокислоты', 'Активность и игры в комнате', 'Аксессуары для телевизоров', 'Шлепанцы и сланцы', 'Хлебные снэки', 'Филателия', 'Уход за кожей и ногтями', 'Уборка снега', 'Тренировочный инвентарь', 'Сушеная и вяленая рыба', 'Страйкбольное оружие', 'Спортивная стрельба', 'Свечи и подсвечники', 'Свадебные товары', 'Роботы и дроны', 'Противоугонные устройства и блокираторы', 'Предохранительная арматура', 'Подгузники и трусики', 'Плееры', 'Переноски для детей', 'Перевязочные материалы', 'Освежители воздуха', 'Оборудование для маникюра и педикюра', 'Настольные плиты', 'Наборы для квиллинга', 'Лекарственные средства', 'Кроссфит', 'Кремы', 'Корма и добавки', 'Коньки', 'Компьютерные игры', 'Коммутационное оборудование', 'Классическая музыка', 'Кардиотренажеры', 'Запчасти и аксессуары для моторов', 'Запчасти для автомобильных лебедок', 'Запорная и регулирующая арматура', 'Глюкометры и аксессуары', 'Вышивание', 'Выпечка и сдоба', 'Волосы и товары для наращивания', 'Винтажные декоративные тарелки', 'Вешалки', 'Велосипеды', 'Акустика и колонки', 'Аксессуары и хранение оружия', 'Аксессуары для лодок', 'Эпиляторы и аксессуары', 'Чехлы и утеплители', 'Часы и аксессуары', 'Часы', 'Цепочки', 'Фены и термощетки', 'Уход за шинами и дисками', 'Уход за кожей', 'Усилители, ресиверы и ЦАПы', 'Угги, валенки, дутики', 'Тетради', 'Термометры медицинские', 'Стартовые наборы', 'Розетки и разветвители прикуривателя', 'Растительные молочные продукты', 'Разбавители, загустители и грунты', 'Приманки рыболовные', 'Посуда для кошек', 'Органайзеры и сумки', 'Настольные игры', 'Мультфильмы', 'Машинки для удаления катышков', 'Массажное оборудование', 'МФУ', 'Лимонады и газированные напитки', 'Лабораторное оборудование и материалы', 'Кофейные напитки', 'Корма для рыб', 'Комплектующие и запчасти', 'Карандаши', 'Души и душевые кабины', 'Душевое оборудование', 'Древесно-плитные материалы', 'Дождевики', 'Для гостиной', 'Джаз и Блюз', 'Декупаж', 'Гомеопатия, лечебные средства', 'Гольф', 'Гибкий камень', 'Гели для душа', 'Вентиляторы', 'Ванны и комплектующие', 'Бумага для черчения и рисования', 'Бандажи и ортезы', 'Аксессуары для проекторов', 'Этикет-пистолеты и счетчики', 'Энергетики и изотоники', 'Экшн (Action)', 'Экипировка для снегоходов', 'Цветы', 'Футболки и майки', 'Фольга цветная', 'Фейерверки и салюты', 'Фалеристика', 'Украшения', 'Тонометры и аксессуары', 'Текстиль с электроподогревом', 'Таблички и крепления', 'Суппорты', 'Специальные масла', 'Содержание с', 'Сноубординг', 'Сетевые фильтры, разветвители и удлинители', 'Сериалы', 'Саундтреки', 'Самоклеящаяся пленка', 'Раковины, умывальники и пьедесталы', 'Презервативы', 'Полки и стеллажи', 'Покрытия для дерева', 'Пневмоинструменты для авто', 'Плитка и керамогранит', 'Пластилин', 'Перья', 'Мыло', 'Муравьиные фермы', 'Мочеполовая система', 'Мокасины и топсайдеры', 'Машинки для стрижки волос и аксессуары', 'Ламинаторы', 'Кухонные мойки', 'Костыли, трости, ходунки', 'Коробки и контейнеры', 'Компьютерные и письменные столы', 'Комоды и тумбы', 'Кожевенное дело', 'Книги учета', 'Клейкая лента', 'Кисти', 'Картон', 'Инструменты и материалы стоматологические', 'Изготовление игрушек', 'Запчасти автомобильные', 'Дровяные печи', 'Джинсы и джеггинсы', 'Дверные звонки и комплектующие', 'Готовые блюда', 'Головные устройства', 'Выжигание, поделки из дерева', 'Водоотведение и канализация', 'Водонагреватели', 'Витрины и подогреватели', 'Виртуальная реальность', 'Бейсбол', 'Батуты', 'Антисептические средства', 'Аксессуары и расходники для карандашей', 'Аксессуары и запчасти для скейтбордов', 'Аксессуары для кухонной техники', 'Аксессуары для игровых приставок', 'Автозагар', 'Ёлочные украшения', 'SIM-карты', 'Эхолоты и аксессуары', 'Эмали', 'Электросамокаты', 'Электронные будильники', 'Электробритвы и аксессуары', 'Электрические зубные щетки и аксессуары', 'Щетки', 'Штампы', 'Шорты', 'Шнурки', 'Шины', 'Цикорий, кэроб', 'Функциональные добавки к ЛКМ', 'Фотоаппараты', 'Указки', 'Туфли', 'Тренировочные комплексы', 'Транспортиры', 'Топперы для торта', 'Товары для майнинга', 'Товары для картинга', 'Товары для животных-инвалидов', 'Тетради, блокноты, дневники', 'Теплые полы', 'Теннис', 'Телевизионные программы и видеоуроки', 'Текстильные доски', 'Тату-машинки и аксессуары', 'Сюжетно-ролевые игрушки', 'Сушилки для рук и тела', 'Сухие завтраки', 'Стулья', 'Стиральные машины', 'Средства от вредителей', 'Средства для снижения веса', 'Спортивная гимнастика', 'Специальные препараты', 'Специализированное питание', 'Спальники и коврики', 'Соевое, растительное мясо', 'Смарт ручки', 'Скандинавская ходьба и трекинг', 'Свечи ритуальные', 'Свечи', 'Светодиодные ленты', 'Рэп и R\\\\u0026B', 'Ручки', 'Рубашки', 'Реставрация и золочение', 'Пустышки и аксессуары', 'Профессиональные фритюрницы', 'Пропитки', 'Прокладки урологические', 'Проводные телефоны', 'Принтеры', 'Принадлежности', 'Посудомойки', 'Послеоперационное белье', 'Портсигары и хьюмидоры', 'Полуфабрикаты', 'Полотенцесушители', 'Пожарное оборудование', 'Подставки под ноги', 'Поделки из бумаги', 'Подводные фото- и видеокамеры', 'Пляжная одежда', 'Плиты', 'Платки и шарфы', 'Петанк', 'Парники и теплицы', 'Параподиумы, вертикализаторы и подъемники', 'Палатки', 'Очистители воздуха', 'Офисные стулья', 'Отпугиватели животных и насекомых', 'Открытки', 'Органайзеры и разделители', 'Одежда и средства для похудения', 'Овощи консервированные', 'Объективы и аксессуары', 'Обувь', 'Обувницы и вешалки', 'Оборудование для клининга', 'Обложки для переплета', 'Носовые платки', 'Неодимовые магниты', 'Нарушение обмена веществ', 'Наборы косметики', 'Наборы для скульпторов', 'Наборы', 'Музыка мира', 'Мототехника', 'Моторные масла', 'Молочные смеси', 'Мойки воздуха', 'Модели и фигурки', 'Минеральные камни', 'Менструальные чаши', 'Матрасы', 'Масло, миро и святая вода', 'Мармелад', 'Маркетинг и продажи', 'Лыжероллеры', 'Лототроны, промоящики', 'Лежаки и кровати', 'Кухонные и барные столы', 'Кухонные вытяжки и аксессуары', 'Кровля', 'Краски для наружных работ', 'Красители', 'Костюмы, жилетки и пиджаки', 'Косметика и уход', 'Корма', 'Корзины для бумаг', 'Конвейерное оборудование', 'Колпаки на диски', 'Коллекционирование ценных бумаг', 'Кованые элементы', 'Клей', 'Каши', 'Картины', 'Канцелярские ножницы и ножи', 'Камни для бани', 'Искусственный снег', 'Инструменты', 'Изоляционные материалы', 'Игрушки', 'Зонты', 'Зеркала', 'Защита органов зрения', 'Зарядные устройства для аккумуляторов', 'Запчасти для игровых консолей', 'Жилеты и спасательные средства', 'Жевательная резинка', 'Домашняя обувь', 'Для оборудования общепита', 'Для защиты от ударов', 'Джинсы', 'Детям и родителям', 'Детская декоративная косметика', 'Держатели и наконечники', 'Гипс и массы и для лепки', 'Воздушные шары', 'Вкладыши для обуви', 'Витамины', 'Винные шкафы', 'Виниловые проигрыватели и аксессуары', 'Вентиляторы и увлажнители воздуха', 'Варочные панели', 'Вазы ритуальные', 'Вазы', 'Бытовая химия', 'Блузы и рубашки', 'Бизнес-литература', 'Батончики', 'Бандажи', 'Балетки', 'Баки для белья', 'Бадминтон', 'Аэрографы для макияжа', 'Аэрография', 'Атрибутика и аксессуары', 'Антенны и аксессуары', 'Аксессуары для стирки', 'Аксессуары для саун и бань', 'Аксессуары для планшетов', 'Аксессуары для автоинструмента', 'Адвент-календари', 'IDW Publishing', 'DVD плееры', 'Этикетки', 'Эндокринология', 'Экшн-камеры', 'Экономика', 'Экзонумия', 'Шланги для газовых приборов', 'Шкафы и комоды', 'Шелкография', 'Шашки', 'Чехлы и накидки на сиденья', 'Чехлы для мебели', 'Холодильники', 'Хлопушки, конфетти и серпантин', 'Форменная одежда', 'Фольклор', 'Фломастеры', 'Фигурное катание', 'Установка автозвука', 'Угольники', 'Трудовые книжки и удостоверения', 'Трансформаторы', 'Толстовки и свитшоты', 'Товары к Пасхе', 'Товары для консервирования', 'Техника для приготовления блюд', 'Телефонные книги', 'Театр. Балет. Танцевальные шоу', 'Тальк', 'Суперфудс', 'Сумки-холодильники и изотермические контейнеры', 'Стерилизаторы', 'Средства для солярия', 'Спортивные массажеры', 'Спортивные игры и аксессуары', 'Смешанные единоборства (MMA)', 'Смарт-часы и фитнес-браслеты', 'Слуховые аппараты и усилители звука', 'Слаймы', 'Сладкие букеты', 'Сканеры', 'Симуляторы (Simulation)', 'Сигнальные ленты', 'Сигнальная одежда', 'Сгущённое молоко, сгущёнка', 'Сахар', 'Сабвуферы для авто', 'Рюкзаки, ранцы, сумки', 'Решетки и сетки', 'Ремни и подтяжки', 'Регги', 'Рации и радиостанции', 'Раскраски', 'Пуфики и банкетки', 'Промышленный альпинизм', 'Приключения (Adventure)', 'Поясные сумки и рюкзаки-гидраторы для бега', 'Посуда для кормления', 'Подушки для беременных', 'Подсвечники, канделябры', 'Погодные станции и датчики', 'Пластиковые материалы', 'Плавание и игры на воде', 'Пароочистители и насадки', 'Парики и шиньоны', 'Пазлы', 'Отопительные конвекторы', 'Одеяла', 'Овощи, фрукты, ягоды', 'Оборудование для выкладки', 'Оборудование для авторемонта', 'Оборудование для автомоек', 'Обложки для документов', 'Обеденные группы', 'Ноутбуки', 'Носки и гетры', 'Новогодние наборы', 'Неврология', 'Настольные калькуляторы', 'Наливная парфюмерия', 'Нагрудники и слюнявчики', 'Наборы для создания фоторамок', 'НИКА', 'Мягкие игрушки', 'Мусорные ведра и баки', 'Мороженое, десерты', 'Массажеры для десен', 'Малярные ленты', 'Магниты для досок', 'Лотки и накопители для бумаг', 'Лонгборды и деки', 'Лодки', 'Кухонные уголки', 'Кроссовки и кеды', 'Краски для внутренних работ', 'Корзины', 'Концерты. Мюзиклы. Видеоклипы', 'Контрольное оборудование', 'Консоли Nintendo Switch', 'Коврики диэлектрические', 'Клеенки', 'Кипятильники', 'Кеды, кроссовки и слипоны', 'Картины из пайеток', 'Каратэ, кудо, киокусинкай', 'Канцелярские товары', 'Инфузионные помпы', 'Инструменты для труб', 'Инженерные калькуляторы', 'Ингаляторы и аксессуары', 'Инвестиции', 'Игры', 'Защита тела', 'Запчасти и аксессуары для инструмента', 'Запчасти для гидроциклов', 'Закваски', 'Жидкости омывателя', 'Жидкости для быстрого запуска', 'Желудок, кишечник, печень', 'Еженедельники и ежедневники', 'Духи сухие и масляные', 'Дорожные знаки', 'Для волос', 'Диабет', 'Дезодоранты', 'Грелки', 'Глобусы и астропланетарии', 'Гидрокостюмы и снаряжение', 'Географические карты', 'Выпрямители для волос', 'Вторые блюда', 'Винтажные элементы интерьера', 'Бытовые приспособления', 'Бутылки и питьевые системы', 'Бумага широкоформатная', 'Брошюровщики', 'Бланки', 'Бисквиты, десерты, сырки', 'Баскетбол', 'Аппликации', 'Анкеты и дневники личные', 'Акушерство, гинекология', 'Активаторы воды', 'Аксессуары для тренажеров', 'Авторские работы', 'Автомобильные антенны', 'Аварийные светильники', 'Абитуриентам и студентам', 'SUP-серфинг', 'Platinor', 'Эспадрильи', 'Экспресс-тесты для животных', 'Экраны и проекторы', 'Шейкеры', 'Шапочки для душа', 'Чертежные доски и кульманы', 'Цепи и ленты антипробуксовочные', 'Хранение и переноски', 'Фрукты', 'Финансы', 'Фильтры для воды', 'Фигурки', 'Учебная литература', 'Уход за музыкальными инструментами', 'Уличные светильники', 'Украшения на машину', 'Уголь, сангина, сепия, соус', 'Тумбы', 'Туалетные столики и консоли', 'Торговые манекены', 'Товары для чистки ушей, носа', 'Товары для отбеливания зубов', 'Товары для ковки', 'Ткани', 'Теплоносители и промывки', 'Творчество в школе', 'Тату-наборы', 'Счетчики воды и монтажные комплекты', 'Сушильные машины для белья', 'Сухие пайки', 'Сумки-тележки', 'Сумки хозяйственные', 'Сумки и часы', 'Строительные блоки', 'Стикит', 'Степлеры и скобы', 'Стеклохолсты малярные', 'Статуэтки', 'Средства после загара', 'Средства для проблемной кожи', 'Средства для очистки рук', 'Спреи для рук', 'Спецодежда рабочая', 'Свечи для торта', 'Светильники и лампы', 'Сапоги', 'Самолеты', 'Самокаты', 'Самбо', 'Сабо и мюли', 'Рюкзаки', 'Роботы', 'Рейсфедеры', 'Реабилитационные тренажеры и оборудование', 'Расширительные баки', 'Растворы для линз', 'Размораживатели замков и стекол', 'Пюре', 'Пружины для переплета', 'Протезы', 'Промывочные масла', 'Прожекторы', 'Проекторы для авто', 'Программное обеспечение на всех носителях', 'Прикроватные тумбы', 'Почтовые ящики', 'Послеоперационные попоны', 'Подставки для канцелярии', 'Подставки для зонтов', 'Подарочные наборы', 'Пленочные обогреватели', 'Пленки для ламинирования', 'Печати канцелярские', 'Перманентный макияж', 'Паштеты, холодцы, зельцы', 'Панно', 'Памятники и ограды на могилу', 'Отделочные материалы из камня', 'Осушители воздуха', 'Оптические фильтры для квадрокоптеров', 'Опечатывание и пломбирование', 'Обувь рабочая', 'Ниппели, вентили и секретки', 'Неттопы и Мини ПК', 'Немецкий язык', 'Научно-популярная литература', 'Нарды', 'Напольные весы', 'Наклейки', 'Наборы для создания причесок', 'Наборы для создания духов', 'Наборы для росписи', 'Наборы для макияжа', 'Мышцы, кости и суставы', 'Модели из дерева', 'Минералы', 'Микроскопы', 'Микрокомпьютеры и комплектующие', 'Медицинская одежда', 'Мебель для швей', 'Маркеры', 'Маркерные доски', 'Макаронные изделия', 'Линейки', 'Лейки и опрыскиватели', 'Лакомства', 'Лаки для строительства и ремонта', 'Кухонные машины и комбайны', 'Купалки', 'Кресла-качалки', 'Косметические тейпы', 'Корсеты и корректоры осанки', 'Конструкционные материалы', 'Конверты', 'Комплекты сантехники', 'Комплекты мебели для спальни', 'Комплексные пищевые добавки', 'Комиксы на английском языке', 'Комиксы', 'Комбинезоны и полукомбинезоны', 'Коляски инвалидные, пандусы', 'Кожа, волосы, ногти', 'Коврики на стол', 'Клетки', 'Клеммы аккумуляторные', 'Кварцевые лампы, рециркуляторы и облучатели', 'Картины по номерам', 'Картины и репродукции', 'Камины и порталы', 'Интерьерные миниатюры', 'Измельчители отходов', 'Игрушки и игры', 'Игровые приставки', 'Зелень, салатные смеси', 'Защита органов слуха', 'Запчасти для котлов', 'Запарки и ароматизаторы', 'Журнальные и приставные столы', 'Журналы, газеты', 'Женская одежда', 'Железнодорожная техника', 'Домкраты', 'Домики', 'Для пищевой промышленности', 'Для офиса', 'Диагностические тесты', 'Детские фотоаппараты и видеокамеры', 'Детская музыка', 'Детективы', 'Деликатесы мясные, копчености', 'Датчики, регуляторы', 'Губки', 'Грузила', 'Голубеводство', 'Глиттеры', 'Глина полимерная', 'Гидроаккумуляторы', 'Гейнеры', 'Галстуки и бабочки', 'Галантерея', 'Виноградов', 'Ветеринарные паспорта', 'Веники для бань', 'Вакуумные пакеты', 'Бутылочки', 'Бумага для флипчарта', 'Бумага', 'Блюда быстрого приготовления', 'Блокноты', 'Блокаторы вирусов', 'Бинты и бандажи', 'Бейджи и аксессуары', 'Безалкогольное пиво, вина и шампанское', 'Барные и полубарные стулья', 'Аромабудильники и картриджи', 'Аппараты ИВЛ и концентраторы кислорода', 'Антифризы', 'Антикварные столы', 'Английский язык', 'Алмазные мозаики', 'Аллергия', 'Аксессуары для электронных книг', 'Аксессуары для гирлянд', 'Аксессуары для бутылочек и ниблеров', 'Аквафитнес', 'Адаптивная одежда и аксессуары', 'Авторская песня', 'Автомобильные мониторы', 'Автомагнитолы', 'PLATINA', 'Marvel', 'GPS-трекеры и GPS-маяки', 'DC']\n"
          ]
        }
      ],
      "source": [
        "terms = tf.ragged.constant(train_df[\"terms\"].values)\n",
        "lookup = tf.keras.layers.StringLookup(output_mode=\"multi_hot\")\n",
        "lookup.adapt(terms)\n",
        "vocab = lookup.get_vocabulary()\n",
        "\n",
        "\n",
        "def invert_multi_hot(encoded_labels):\n",
        "    \"\"\"Reverse a single multi-hot encoded label to a tuple of vocab terms.\"\"\"\n",
        "    hot_indices = np.argwhere(encoded_labels == 1.0)[..., 0]\n",
        "    return np.take(vocab, hot_indices)\n",
        "\n",
        "\n",
        "print(\"Vocabulary:\\n\")\n",
        "print(vocab)\n"
      ]
    },
    {
      "cell_type": "markdown",
      "metadata": {
        "id": "4tr4UbcPnoiv"
      },
      "source": [
        "Here we are separating the individual unique classes available from the label\n",
        "pool and then using this information to represent a given label set with 0's and 1's.\n",
        "Below is an example."
      ]
    },
    {
      "cell_type": "code",
      "execution_count": null,
      "metadata": {
        "colab": {
          "base_uri": "https://localhost:8080/"
        },
        "id": "CnDUzIpPnoiv",
        "outputId": "29d45814-29d6-45f3-bb3f-a7484eb7f680"
      },
      "outputs": [
        {
          "name": "stdout",
          "output_type": "stream",
          "text": [
            "Original label: ['Изоляционные материалы']\n",
            "Label-binarized representation: [[0. 0. 0. ... 0. 0. 0.]]\n"
          ]
        }
      ],
      "source": [
        "sample_label = train_df[\"terms\"].iloc[0]\n",
        "print(f\"Original label: {sample_label}\")\n",
        "\n",
        "label_binarized = lookup([sample_label])\n",
        "print(f\"Label-binarized representation: {label_binarized}\")"
      ]
    },
    {
      "cell_type": "markdown",
      "metadata": {
        "id": "DqIcyP3Lnoiv"
      },
      "source": [
        "## Data preprocessing and `tf.data.Dataset` objects\n",
        "\n",
        "We first get percentile estimates of the sequence lengths. The purpose will be clear in a\n",
        "moment."
      ]
    },
    {
      "cell_type": "code",
      "execution_count": null,
      "metadata": {
        "colab": {
          "base_uri": "https://localhost:8080/"
        },
        "id": "mjVTTLO7noiw",
        "outputId": "9e6db06f-ccde-408d-fa62-067e09fe719c"
      },
      "outputs": [
        {
          "data": {
            "text/plain": [
              "count    11259.000000\n",
              "mean       108.433165\n",
              "std         96.404407\n",
              "min          2.000000\n",
              "25%         50.000000\n",
              "50%         87.000000\n",
              "75%        137.000000\n",
              "max       2142.000000\n",
              "Name: summaries, dtype: float64"
            ]
          },
          "execution_count": 35,
          "metadata": {},
          "output_type": "execute_result"
        }
      ],
      "source": [
        "train_df[\"summaries\"].apply(lambda x: len(x.split(\" \"))).describe()"
      ]
    },
    {
      "cell_type": "markdown",
      "metadata": {
        "id": "GasAMIDUnoiw"
      },
      "source": [
        "Notice that 50% of the abstracts have a length of 154 (you may get a different number\n",
        "based on the split). So, any number close to that value is a good enough approximate for the\n",
        "maximum sequence length.\n",
        "\n",
        "Now, we implement utilities to prepare our datasets."
      ]
    },
    {
      "cell_type": "code",
      "execution_count": null,
      "metadata": {
        "id": "VQh9OalAnoiw"
      },
      "outputs": [],
      "source": [
        "max_seqlen = 150\n",
        "batch_size = 128\n",
        "padding_token = \"<pad>\"\n",
        "auto = tf.data.AUTOTUNE\n",
        "\n",
        "\n",
        "def make_dataset(dataframe, is_train=True):\n",
        "    labels = tf.ragged.constant(dataframe[\"terms\"].values)\n",
        "    label_binarized = lookup(labels).numpy()\n",
        "    dataset = tf.data.Dataset.from_tensor_slices(\n",
        "        (dataframe[\"summaries\"].values, label_binarized)\n",
        "    )\n",
        "    dataset = dataset.shuffle(batch_size * 10) if is_train else dataset\n",
        "    return dataset.batch(batch_size)\n"
      ]
    },
    {
      "cell_type": "markdown",
      "metadata": {
        "id": "ra1idOmxnoiw"
      },
      "source": [
        "Now we can prepare the `tf.data.Dataset` objects."
      ]
    },
    {
      "cell_type": "code",
      "execution_count": null,
      "metadata": {
        "id": "cyjPhszKnoiw"
      },
      "outputs": [],
      "source": [
        "train_dataset = make_dataset(train_df, is_train=True)\n",
        "validation_dataset = make_dataset(val_df, is_train=False)\n",
        "test_dataset = make_dataset(test_df, is_train=False)"
      ]
    },
    {
      "cell_type": "markdown",
      "metadata": {
        "id": "CGKwS2FQnoiw"
      },
      "source": [
        "## Dataset preview"
      ]
    },
    {
      "cell_type": "code",
      "execution_count": null,
      "metadata": {
        "colab": {
          "base_uri": "https://localhost:8080/"
        },
        "id": "jp9rg-B1noiw",
        "outputId": "0aa0fc2c-4e14-4bf2-ae0c-752f8f0586ac"
      },
      "outputs": [
        {
          "name": "stdout",
          "output_type": "stream",
          "text": [
            "Abstract: ['ЛЕОВИТ Батончик-мюсли с фенхелем и зеленым чаем. Шоубокс 26 шт. по 30 г. Отличный вкус без вреда для фигуры. Полезный десерт с зеленым чаем и чуть сладковатой освежающей ноткой фенхеля. В одном батончике всего 111 ккал!В составе фитнес батончиков экстракт зеленого чая, яблоки, клубника, кукуруза, овес, рис, плоды фенхеля. Пищевые волокна из злаков и фруктов служат пищей для полезной микрофлоры кишечника, способствуют быстрому насыщению и улучшают процессы пищеварения. Зеленый чай и фенхель не только придают нежный и легкий вкус, но и помогут наполнить организм антиоксидантами.Удобно брать в дорогу, чтобы вкусный и полезный перекус был всегда под рукой.Батончик-мюсли с фенхелем и зеленым чаем – вкусный перекус с антиоксидантами. Содержит злаки, фрукты и ягоды, антиоксиданты, пищевые волокна. Кроме того, пищевые волокна из злаков и фруктов служат пищей для полезной микрофлоры кишечника, способствуют быстрому насыщению, контролю аппетита и улучшают процессы пищеварения. Сочетание зеленого чая с чуть сладковатой освежающей ноткой фенхеля придает батончику удивительно нежный и легкий вкус. Нас так же ищут: злаковые батончики, злаковый батончик, злаковые батончики +в домашних условиях, злаковые батончики рецепт, злаковые батончики купить, злаковый батончик фитнес, фруктово злаковые батончики, злаковые батончики кофейный, злаковый батончик шоколад, злаковые батончики, злаковые батончики, домашний злаковый батончик, злаковые батончики +в домашних условиях, злаковые батончики купить, злаковый батончик фитнес, фруктово злаковые батончики, злаковые батончики банан, злаковый батончик шоколад, батончик мюсли, батончики мюсли, батончик-мюсли, батончики-мюсли, мюсли батончик, полезный перекус, пп батончик, фитнес батончик, злаковый, злаковый перекус, злаковый снек, злаковый снэк, батончик ягодный, батончик на утро, батончик для похудения, диетический батончик, диетический перекус, диетический снек, диетический снэк, снижение веса, батончик для похудения, батончик для снжения веса, батончик со льном, зерновой батончик.']\n",
            "Label(s): ['Батончики']\n",
            " \n",
            "Abstract: ['Сухари панировочные рисовые безглютеновые Серена, 500 г, Южная Корея Сухари панировочные рисовые безглютеновые.Способ приготовления:\\xa0 1. Посолите и поперчите продукт (креветки, кольца кальмара, цветную капусту и т.д.). Слегка обсыпьте мукой. 2. Обмакните в тщательно взбитые яйца. Для улучшения вкуса можете добавить молоко. 3. Обваляйте в панировочных сухарях и оставьте на 3-4 минуты. 4. Обжарьте продукт в разогретом до 180°C масле до образования хрустящей корочки.\\xa0']\n",
            "Label(s): ['Специи и добавки']\n",
            " \n",
            "Abstract: ['Гладилка зубчатая Wenzo 280х130 мм зуб 6х6 мм с эргономичной ручкой Предназначена для нанесения и распределения клеевых растворов и создания на их поверхности гребенчатой структуры.Характеристики:Тип товара: Гладилка зубчатаяБренд: WenzoВид: зубчатаяТип ручки: ЭргономичнаяМатериал ручки: ПластикМатериал рабочей части: Нержавеющая стальРазмеры, мм: 280х130Назначение: для штукатурных и кладочных работПрименение: для нанесения и распределения клеевых растворов иСтрана-производитель: КитайВес, кг: 0,356']\n",
            "Label(s): ['Ручной инструмент']\n",
            " \n",
            "Abstract: ['Ремень клиновой  Z(O)-  710   ГОСТ 1284.2-89 - арт. 7 Профиль ремня: Z(O)Ширина большего основания: 10 мм. Высота ремня: 6 мм . Работоспособны при t: от -30°C до +60°C. Описание: Ремень соответствуют IV\\xa0\\xa0классу ГОСТ 1284.1-89 - 1284.3-89. Предназначен для приводов станков, промышленных установок, сельскохозяйственных машин, вентиляционного оборудования, компрессоров. Передаваемая мощность до 80 кВт, допустимая линейная скорость до 30 м/с.']\n",
            "Label(s): ['Двигатели']\n",
            " \n",
            "Abstract: ['Набор для фондю KD-S Фондю придаст вечеру изысканности и оригинальности. Блюдо подойдет для романтического ужина, посиделок с друзьями, девичника. Форма подставки для свечи прикрывает пламя, что делает использование фондюшницы более безопасным. Разноцветные ручки на шпажках не позволят гостям перепутать приборы. Заполните чашу шоколадом или сыром, не забудьте добавить пряности или специи. Растопите продукт на водяной бане или в микроволновке и установите на подставку. Свеча в фондю служит для поддержания тепла. Шпажка длиной 14 см. Размеры фондю в сборе: 11х13,5см. Объем чаши - 400 мл.']\n",
            "Label(s): ['Посуда для приготовления']\n",
            " \n"
          ]
        }
      ],
      "source": [
        "text_batch, label_batch = next(iter(train_dataset))\n",
        "\n",
        "def decode_string(text):\n",
        "  ints = tf.strings.unicode_decode(text, 'utf-8')\n",
        "  strs = [chr(i) for i in ints]\n",
        "  joined = [''.join(strs)]\n",
        "  return joined\n",
        "\n",
        "for i, text in enumerate(text_batch[:5]):\n",
        "    label = label_batch[i].numpy()[None, ...]\n",
        "    text = decode_string(text)\n",
        "    print(f\"Abstract: {text}\")\n",
        "    print(f\"Label(s): {invert_multi_hot(label[0])}\")\n",
        "    print(\" \")"
      ]
    },
    {
      "cell_type": "markdown",
      "metadata": {
        "id": "ZfKEeNR0noiw"
      },
      "source": [
        "## Vectorization\n",
        "\n",
        "Before we feed the data to our model, we need to vectorize it (represent it in a numerical form).\n",
        "For that purpose, we will use the\n",
        "[`TextVectorization` layer](https://keras.io/api/layers/preprocessing_layers/text/text_vectorization).\n",
        "It can operate as a part of your main model so that the model is excluded from the core\n",
        "preprocessing logic. This greatly reduces the chances of training / serving skew during inference.\n",
        "\n",
        "We first calculate the number of unique words present in the abstracts."
      ]
    },
    {
      "cell_type": "code",
      "execution_count": null,
      "metadata": {
        "colab": {
          "base_uri": "https://localhost:8080/"
        },
        "id": "hfDtsOQSnoix",
        "outputId": "37bd3c81-f129-4c84-fe58-ead8bfbc7768"
      },
      "outputs": [
        {
          "name": "stdout",
          "output_type": "stream",
          "text": [
            "64667\n"
          ]
        }
      ],
      "source": [
        "import re\n",
        "# Source: https://stackoverflow.com/a/18937309/7636462\n",
        "vocabulary = set()\n",
        "def f(s):\n",
        "  vocabulary.update(re.findall(r'[^\\W\\d_]{3,}', s, re.U)[:32])\n",
        "# train_df['summaries'] = (train_df[\"titles\"] + ' ' + train_df[\"summaries\"]).str.lower().apply(f)\n",
        "train_df['summaries'] = (train_df[\"summaries\"]).str.lower().apply(f)\n",
        "vocabulary_size = len(vocabulary)\n",
        "print(vocabulary_size)\n"
      ]
    },
    {
      "cell_type": "markdown",
      "metadata": {
        "id": "5a1t0dFfnoix"
      },
      "source": [
        "We now create our vectorization layer and `map()` to the `tf.data.Dataset`s created\n",
        "earlier."
      ]
    },
    {
      "cell_type": "code",
      "execution_count": null,
      "metadata": {
        "colab": {
          "base_uri": "https://localhost:8080/",
          "height": 554
        },
        "id": "uvrH1Rovnoiy",
        "outputId": "a9280ad6-f557-4845-d2f6-cb045d68ba27"
      },
      "outputs": [],
      "source": [
        "text_vectorizer = layers.TextVectorization(\n",
        "    max_tokens=vocabulary_size, ngrams=2, output_mode=\"tf_idf\"\n",
        ")\n",
        "\n",
        "# `TextVectorization` layer needs to be adapted as per the vocabulary from our\n",
        "# training set.\n",
        "with tf.device(\"/CPU:0\"):\n",
        "    text_vectorizer.adapt(train_dataset.map(lambda text, label: text))\n",
        "\n",
        "train_dataset = train_dataset.map(\n",
        "    lambda text, label: (text_vectorizer(text), label), num_parallel_calls=auto\n",
        ").prefetch(auto)\n",
        "validation_dataset = validation_dataset.map(\n",
        "    lambda text, label: (text_vectorizer(text), label), num_parallel_calls=auto\n",
        ").prefetch(auto)\n",
        "test_dataset = test_dataset.map(\n",
        "    lambda text, label: (text_vectorizer(text), label), num_parallel_calls=auto\n",
        ").prefetch(auto)\n"
      ]
    },
    {
      "cell_type": "markdown",
      "metadata": {
        "id": "rIUuCtoInoiy"
      },
      "source": [
        "A batch of raw text will first go through the `TextVectorization` layer and it will\n",
        "generate their integer representations. Internally, the `TextVectorization` layer will\n",
        "first create bi-grams out of the sequences and then represent them using\n",
        "[TF-IDF](https://wikipedia.org/wiki/Tf%E2%80%93idf). The output representations will then\n",
        "be passed to the shallow model responsible for text classification.\n",
        "\n",
        "To learn more about other possible configurations with `TextVectorizer`, please consult\n",
        "the\n",
        "[official documentation](https://keras.io/api/layers/preprocessing_layers/text/text_vectorization).\n",
        "\n",
        "**Note**: Setting the `max_tokens` argument to a pre-calculated vocabulary size is\n",
        "not a requirement."
      ]
    },
    {
      "cell_type": "markdown",
      "metadata": {
        "id": "iWzwinEKnoiy"
      },
      "source": [
        "## Create a text classification model\n",
        "\n",
        "We will keep our model simple -- it will be a small stack of fully-connected layers with\n",
        "ReLU as the non-linearity."
      ]
    },
    {
      "cell_type": "code",
      "execution_count": null,
      "metadata": {
        "id": "m-XEOCiDnoiy"
      },
      "outputs": [],
      "source": [
        "\n",
        "def make_model():\n",
        "    shallow_mlp_model = keras.Sequential(\n",
        "        [\n",
        "            layers.Dense(1024, activation=\"relu\"),\n",
        "            layers.Dense(512, activation=\"relu\"),\n",
        "            layers.Dense(lookup.vocabulary_size(), activation=\"sigmoid\"),\n",
        "        ]  # More on why \"sigmoid\" has been used here in a moment.\n",
        "    )\n",
        "    return shallow_mlp_model\n"
      ]
    },
    {
      "cell_type": "markdown",
      "metadata": {
        "id": "uoopxxYxnoiy"
      },
      "source": [
        "## Train the model\n",
        "\n",
        "We will train our model using the binary crossentropy loss. This is because the labels\n",
        "are not disjoint. For a given abstract, we may have multiple categories. So, we will\n",
        "divide the prediction task into a series of multiple binary classification problems. This\n",
        "is also why we kept the activation function of the classification layer in our model to\n",
        "sigmoid. Researchers have used other combinations of loss function and activation\n",
        "function as well. For example, in\n",
        "[Exploring the Limits of Weakly Supervised Pretraining](https://arxiv.org/abs/1805.00932),\n",
        "Mahajan et al. used the softmax activation function and cross-entropy loss to train\n",
        "their models."
      ]
    },
    {
      "cell_type": "code",
      "execution_count": null,
      "metadata": {
        "id": "r572QcYFnoiz"
      },
      "outputs": [
        {
          "name": "stdout",
          "output_type": "stream",
          "text": [
            "Epoch 1/15\n",
            "88/88 [==============================] - 38s 406ms/step - loss: 0.0605 - categorical_accuracy: 0.0225 - val_loss: 0.0112 - val_categorical_accuracy: 0.0463\n",
            "Epoch 2/15\n",
            "88/88 [==============================] - 39s 448ms/step - loss: 0.0089 - categorical_accuracy: 0.1925 - val_loss: 0.0094 - val_categorical_accuracy: 0.1550\n",
            "Epoch 3/15\n",
            "88/88 [==============================] - 38s 434ms/step - loss: 0.0048 - categorical_accuracy: 0.5539 - val_loss: 0.0082 - val_categorical_accuracy: 0.3626\n",
            "Epoch 4/15\n",
            "88/88 [==============================] - 38s 434ms/step - loss: 0.0024 - categorical_accuracy: 0.7858 - val_loss: 0.0077 - val_categorical_accuracy: 0.3818\n",
            "Epoch 5/15\n",
            "88/88 [==============================] - 35s 395ms/step - loss: 0.0014 - categorical_accuracy: 0.8750 - val_loss: 0.0077 - val_categorical_accuracy: 0.4058\n",
            "Epoch 6/15\n",
            "88/88 [==============================] - 33s 379ms/step - loss: 9.5320e-04 - categorical_accuracy: 0.9085 - val_loss: 0.0078 - val_categorical_accuracy: 0.4185\n",
            "Epoch 7/15\n",
            "88/88 [==============================] - 34s 390ms/step - loss: 7.2837e-04 - categorical_accuracy: 0.9247 - val_loss: 0.0083 - val_categorical_accuracy: 0.4105\n",
            "Epoch 8/15\n",
            "88/88 [==============================] - 34s 384ms/step - loss: 6.0268e-04 - categorical_accuracy: 0.9347 - val_loss: 0.0085 - val_categorical_accuracy: 0.4233\n",
            "Epoch 9/15\n",
            "88/88 [==============================] - 36s 403ms/step - loss: 5.1823e-04 - categorical_accuracy: 0.9408 - val_loss: 0.0090 - val_categorical_accuracy: 0.4153\n",
            "Epoch 10/15\n",
            "88/88 [==============================] - 35s 392ms/step - loss: 4.5815e-04 - categorical_accuracy: 0.9459 - val_loss: 0.0095 - val_categorical_accuracy: 0.3978\n",
            "Epoch 11/15\n",
            "88/88 [==============================] - 40s 460ms/step - loss: 4.1567e-04 - categorical_accuracy: 0.9494 - val_loss: 0.0096 - val_categorical_accuracy: 0.4185\n",
            "Epoch 12/15\n",
            "88/88 [==============================] - 42s 477ms/step - loss: 3.8634e-04 - categorical_accuracy: 0.9497 - val_loss: 0.0101 - val_categorical_accuracy: 0.4058\n",
            "Epoch 13/15\n",
            "88/88 [==============================] - 43s 493ms/step - loss: 3.6250e-04 - categorical_accuracy: 0.9506 - val_loss: 0.0103 - val_categorical_accuracy: 0.4105\n",
            "Epoch 14/15\n",
            "88/88 [==============================] - 42s 478ms/step - loss: 3.5107e-04 - categorical_accuracy: 0.9520 - val_loss: 0.0110 - val_categorical_accuracy: 0.3898\n",
            "Epoch 15/15\n",
            "88/88 [==============================] - 36s 415ms/step - loss: 3.5747e-04 - categorical_accuracy: 0.9521 - val_loss: 0.0101 - val_categorical_accuracy: 0.3994\n"
          ]
        },
        {
          "data": {
            "image/png": "[encoded data removed]",
            "text/plain": [
              "<Figure size 640x480 with 1 Axes>"
            ]
          },
          "metadata": {},
          "output_type": "display_data"
        },
        {
          "data": {
            "image/png": "[encoded data removed]",
            "text/plain": [
              "<Figure size 640x480 with 1 Axes>"
            ]
          },
          "metadata": {},
          "output_type": "display_data"
        }
      ],
      "source": [
        "epochs = 15\n",
        "\n",
        "shallow_mlp_model = make_model()\n",
        "shallow_mlp_model.compile(\n",
        "    loss=\"binary_crossentropy\", optimizer=\"adam\", metrics=[\"categorical_accuracy\"]\n",
        ")\n",
        "\n",
        "history = shallow_mlp_model.fit(\n",
        "    train_dataset, validation_data=validation_dataset, epochs=epochs\n",
        ")\n",
        "\n",
        "\n",
        "def plot_result(item):\n",
        "    plt.plot(history.history[item], label=item)\n",
        "    plt.plot(history.history[\"val_\" + item], label=\"val_\" + item)\n",
        "    plt.xlabel(\"Epochs\")\n",
        "    plt.ylabel(item)\n",
        "    plt.title(\"Train and Validation {} Over Epochs\".format(item), fontsize=14)\n",
        "    plt.legend()\n",
        "    plt.grid()\n",
        "    plt.show()\n",
        "\n",
        "\n",
        "plot_result(\"loss\")\n",
        "plot_result(\"categorical_accuracy\")"
      ]
    },
    {
      "cell_type": "markdown",
      "metadata": {
        "id": "UxQEVheNnoiz"
      },
      "source": [
        "While training, we notice an initial sharp fall in the loss followed by a gradual decay."
      ]
    },
    {
      "cell_type": "markdown",
      "metadata": {
        "id": "IXqnfKr1noiz"
      },
      "source": [
        "### Evaluate the model"
      ]
    },
    {
      "cell_type": "code",
      "execution_count": null,
      "metadata": {
        "id": "g-PpqCb_noiz"
      },
      "outputs": [
        {
          "name": "stdout",
          "output_type": "stream",
          "text": [
            "5/5 [==============================] - 1s 160ms/step - loss: 0.0099 - categorical_accuracy: 0.4137\n",
            "Categorical accuracy on the test set: 41.37%.\n"
          ]
        }
      ],
      "source": [
        "_, categorical_acc = shallow_mlp_model.evaluate(test_dataset)\n",
        "print(f\"Categorical accuracy on the test set: {round(categorical_acc * 100, 2)}%.\")"
      ]
    },
    {
      "cell_type": "markdown",
      "metadata": {
        "id": "bLkS-SB2noiz"
      },
      "source": [
        "The trained model gives us an evaluation accuracy of ~87%."
      ]
    },
    {
      "cell_type": "markdown",
      "metadata": {
        "id": "UZRrPtkjnoiz"
      },
      "source": [
        "## Inference\n",
        "\n",
        "An important feature of the\n",
        "[preprocessing layers provided by Keras](https://keras.io/guides/preprocessing_layers/)\n",
        "is that they can be included inside a `tf.keras.Model`. We will export an inference model\n",
        "by including the `text_vectorization` layer on top of `shallow_mlp_model`. This will\n",
        "allow our inference model to directly operate on raw strings.\n",
        "\n",
        "**Note** that during training it is always preferable to use these preprocessing\n",
        "layers as a part of the data input pipeline rather than the model to avoid\n",
        "surfacing bottlenecks for the hardware accelerators. This also allows for\n",
        "asynchronous data processing."
      ]
    },
    {
      "cell_type": "code",
      "execution_count": null,
      "metadata": {
        "id": "Fsc464p4noiz"
      },
      "outputs": [
        {
          "name": "stdout",
          "output_type": "stream",
          "text": [
            "4/4 [==============================] - 0s 36ms/step\n",
            "Abstract: ['Витапрост форте суппозитории ректальные 20мг 10шт МНН/Действующее веществоПростаты экстрактСостав1 суппозиторий ректальный содержит:\\nДействующее вещество:\\nПростаты экстракт (\"Сампрост\" субстанция) 100 мг (в пересчете на в пересчете на водорастворимые пептиды - 20 мг),\\nВспомогательное вещество:\\nЖир твердый (витепсол марки H15, W35; суппосир марки NA15, NAS50) - достаточное количество до получения суппозитория массой 1,25 г\\nФармакологическое действиеПрепарат животного происхождения. Витапрост форте обладает органотропным действием в отношении предстательной железы. Уменьшает степень отека, лейкоцитарной инфильтрации предстательной железы, нормализует секреторную функцию эпителиальных клеток, увеличивает число лецитиновых зерен в секрете ацинусов, стимулирует мышечный тонус мочевого пузыря. Улучшает микроциркуляцию в предстательной железе за счет уменьшения тромбообразования, антиагрегантной активности, препятствует развитию тромбоза венул в предстательной железе.\\nНа основании данных клинических исследований доказано, что Витапрост форте умеренно уменьшает объем предстательной железы. Препарат уменьшает выраженность обструктивной и ирритативной симптоматики при доброкачественной гиперплазии предстательной железы, что выражается в увеличении максимальной и средней объемных скоростей потока мочи и уменьшении объема остаточной мочи.\\nВитапрост форте улучшает микроциркуляцию крови в стенке мочевого пузыря за счет расширения неповрежденных сосудов (эффект вазодилатации), этим способствует восстановлению доставки кислорода в ткани, испытывающие гипоксию, что стимулирует физиологическую репарацию. Оказывает противовоспалительное действие за счет улучшения процессов трофики стенки мочевого пузыря и стимуляции регенераторных процессов. Активация органного кровотока способствует улучшению адаптационной и сократительной активности детрузора, увеличивая емкость мочевого пузыря.\\nУменьшением ишемии детрузора можно объяснить выраженное снижение гиперактивности мочевого пузыря, которое продолжается и после окончания применения Витапрост форте.\\nВитапрост форте способствует нормализации параметров предстательной железы и эякулята. Уменьшает боль и дискомфорт, устраняет дизурические явления, улучшает копулятивную функцию.\\nПоказания\\n хронический простатит;\\n доброкачественная гиперплазия предстательной железы;\\n лечение ургентного (императивного) недержания мочи, ургентных (императивных) позывов к мочеиспусканию и учащенного мочеиспускания при неосложненных формах гиперактивности мочевого пузыря у женщин в климактерическом и постклимактерическом периодах;\\n состояния до и после оперативных вмешательств на предстательной железе.\\n\\nПротивопоказанияПовышенная чувствительность к компонентам препарата.Способ примененияПрименяют ректально по 1 суппозиторию после самопроизвольного опорожнения или очистительной клизмы кишечника по 1 суп. 1 раз/сут. После введения суппозитория пациенту следует находиться в постели в течение 30-40 мин.\\nПродолжительность курса лечения врач определяет индивидуально. Минимальная продолжительность курса лечения суппозиториями Витапрост форте при доброкачественной гиперплазии предстательной железы - 15 дней, при хроническом простатите - 10 дней, при гиперактивном мочевом пузыре - 20 дней.\\nПобочное действиеОчень редко: аллергические реакции.\\nПередозировкаО случаях передозировки препарата не сообщалось.Взаимодействие с другими препаратамиСлучаи взаимодействия или несовместимости с другими лекарственными препаратами не описаны.Особые указанияВлияние на способность к вождению автотранспорта и управлению механизмами\\nНе влияет на способность управлять транспортными средствами и другими механизмами.\\nУсловия и сроки храненияT=+(02-25)C']\n",
            "Label(s): ['Мочеполовая система']\n",
            "Predicted Label(s): (7.6444744e-19 Мочеполовая система, 2.3893164e-20 Снэки, закуски, 1.7577508e-27 Масла)\n",
            " \n",
            "Abstract: ['Блокиратор универсальный регулируемый гибкий, с переключателем, замок от детей ROXY-KIDS, 2 шт Гибкий регулируемый блокиратор для мебели ROXY-KIDS будет оберегать ребенка от взаимодействия с опасными предметами, например, спичками и бытовой химией, а также не позволит малышу прищемить пальчики дверцами или ящиками. Он состоит из двух крепежей и эластичного регулируемого фиксатора. Используется для препятствия открыванию двухстворчатых дверей, ящиков стола, створок шкафов, дверей холодильника, крышки унитаза и т.п. Гибкость материала и наличие отверстий позволяет устанавливать блокиратор на углы и неровные поверхности, в том числе под углом. Двухсторонний скотч обеспечивает надежное крепление и легко удаляется при необходимости. Отлично держится на самых разных поверхностях и легко снимается, когда это нужно родителям. Благодаря отверстиям длина эластичного фиксатора регулируется.']\n",
            "Label(s): ['Безопасность ребенка']\n",
            "Predicted Label(s): (0.094979644 Безопасность ребенка, 0.00021452908 Домашняя обувь, 0.00014426703 Велоодежда)\n",
            " \n",
            "Abstract: ['Диффузор потолочный круглый Zekas 170 мм Оригинальная решетка для вентиляции Zekas (Makel Technology) диаметром 170 мм изготавливается из ABS-пластика, который отличается термопластичностью и ударопрочностью. Для защиты помещений от насекомых и крупных частиц грязи, которые могут попасть внутрь комнаты вместе с воздухом, решетка оснащается специальной сеточкой.Преимущества:безопасность, обуславливаемая использованием пластика;устойчивость к повышенной влажности воздуха;легкая установка и бесхлопотная эксплуатация.']\n",
            "Label(s): ['Комплектующие и запчасти']\n",
            "Predicted Label(s): (0.00015759007 Ножи и мультитулы, 0.00014549794 Инструменты и аксессуары, 0.00014087369 Цветы)\n",
            " \n",
            "Abstract: ['Входная дверь Сенатор акация светлая Входная металлическая дверь для квартиры']\n",
            "Label(s): ['Двери']\n",
            "Predicted Label(s): (0.007827353 Чехлы и утеплители, 0.0061064376 Ручки, замки и фурнитура, 0.005996634 Промывки и очистители)\n",
            " \n",
            "Abstract: ['Фильтр-влагоотделитель для краскопульта OTRIX \"AFR-80\", входной, с регулятором давления Влагоотделитель AFR-80 OTRIX. Отделяет и задерживает влагу, помогает выравнить и настроить правильное входное давление к краскопульту.Давление регулировки: 1-8 бар. Максимальное давление: 9,5 бар.Вход воздуха: 1/4\", 3/8\", 1/2\"']\n",
            "Label(s): ['Силовая техника и оборудование']\n",
            "Predicted Label(s): (2.9758467e-05 Чехлы и утеплители, 2.5269916e-05 Диагностическое оборудование, 9.648418e-06 Конфеты)\n",
            " \n"
          ]
        }
      ],
      "source": [
        "# Create a model for inference.\n",
        "model_for_inference = keras.Sequential([text_vectorizer, shallow_mlp_model])\n",
        "\n",
        "# Create a small dataset just for demoing inference.\n",
        "inference_dataset = make_dataset(test_df.sample(100), is_train=False)\n",
        "text_batch, label_batch = next(iter(inference_dataset))\n",
        "predicted_probabilities = model_for_inference.predict(text_batch)\n",
        "\n",
        "# Perform inference.\n",
        "for i, text in enumerate(text_batch[:5]):\n",
        "    label = label_batch[i].numpy()[None, ...]\n",
        "    print(f\"Abstract: {decode_string(text)}\")\n",
        "    print(f\"Label(s): {invert_multi_hot(label[0])}\")\n",
        "    predicted_proba = [proba for proba in predicted_probabilities[i]]\n",
        "    top_3_labels = [\n",
        "        (a,\n",
        "        x)\n",
        "        for a, x in sorted(\n",
        "            zip(predicted_probabilities[i], lookup.get_vocabulary()),\n",
        "            key=lambda pair: pair[0],\n",
        "            reverse=True,\n",
        "        )\n",
        "    ][:3]\n",
        "    print(f\"Predicted Label(s): ({', '.join([str(x) + ' ' + label for x, label in top_3_labels])})\")\n",
        "    print(\" \")"
      ]
    },
    {
      "cell_type": "markdown",
      "metadata": {
        "id": "mWuf19YAnoiz"
      },
      "source": [
        "The prediction results are not that great but not below the par for a simple model like\n",
        "ours. We can improve this performance with models that consider word order like LSTM or\n",
        "even those that use Transformers ([Vaswani et al.](https://arxiv.org/abs/1706.03762))."
      ]
    },
    {
      "cell_type": "markdown",
      "metadata": {
        "id": "nMSfJe04noiz"
      },
      "source": [
        "## Acknowledgements\n",
        "\n",
        "We would like to thank [Matt Watson](https://github.com/mattdangerw) for helping us\n",
        "tackle the multi-label binarization part and inverse-transforming the processed labels\n",
        "to the original form."
      ]
    }
  ],
  "metadata": {
    "colab": {
      "provenance": [],
      "toc_visible": true
    },
    "kernelspec": {
      "display_name": "Python 3.10.7 64-bit",
      "language": "python",
      "name": "python3"
    },
    "language_info": {
      "codemirror_mode": {
        "name": "ipython",
        "version": 3
      },
      "file_extension": ".py",
      "mimetype": "text/x-python",
      "name": "python",
      "nbconvert_exporter": "python",
      "pygments_lexer": "ipython3",
      "version": "3.10.4"
    },
    "vscode": {
      "interpreter": {
        "hash": "369f2c481f4da34e4445cda3fffd2e751bd1c4d706f27375911949ba6bb62e1c"
      }
    }
  },
  "nbformat": 4,
  "nbformat_minor": 0
}
